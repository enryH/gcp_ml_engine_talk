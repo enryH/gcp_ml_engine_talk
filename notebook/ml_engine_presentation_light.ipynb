{
 "cells": [
  {
   "cell_type": "markdown",
   "metadata": {
    "slideshow": {
     "slide_type": "slide"
    }
   },
   "source": [
    "# Scaling ML using Cloud ML Engine"
   ]
  },
  {
   "cell_type": "markdown",
   "metadata": {
    "slideshow": {
     "slide_type": "subslide"
    }
   },
   "source": [
    "## Contents\n",
    "\n",
    "1. Data Science Workflow\n",
    "2. Where to develop?\n",
    "3. Hands-ON Tutorial: Running MNIST on ML-Engine\n",
    "   1. Setup\n",
    "   2. Training Possibilities\n",
    "   3. Evaluation \n",
    "   4. Deployment\n",
    "4. Recap\n",
    "5. Appendix\n",
    "   1. Jupyter Slides"
   ]
  },
  {
   "cell_type": "markdown",
   "metadata": {
    "slideshow": {
     "slide_type": "slide"
    }
   },
   "source": [
    "# 1. Data Science Workflow"
   ]
  },
  {
   "cell_type": "markdown",
   "metadata": {
    "slideshow": {
     "slide_type": "fragment"
    }
   },
   "source": [
    "- Goal is to standardise the development of models\n",
    "     - Checklist of necessary technical steps"
   ]
  },
  {
   "cell_type": "markdown",
   "metadata": {
    "slideshow": {
     "slide_type": "fragment"
    }
   },
   "source": [
    "> Vision: Achieve an first end-to-end model in production within a *productincrement* of 10 weeks"
   ]
  },
  {
   "cell_type": "markdown",
   "metadata": {
    "slideshow": {
     "slide_type": "fragment"
    }
   },
   "source": [
    "> Scale out: Scale without having to rewrite your model"
   ]
  },
  {
   "cell_type": "code",
   "execution_count": 1,
   "metadata": {
    "code_folding": [
     0
    ],
    "slideshow": {
     "slide_type": "skip"
    }
   },
   "outputs": [
    {
     "data": {
      "application/javascript": [
       "\n",
       "// from https://github.com/jupyter/notebook/issues/3024#issuecomment-435630413\n",
       "var marked = require('components/marked/lib/marked');\n",
       "\n",
       "if (marked.Renderer.name !== 'NonExtensibleTableRenderer') {\n",
       "    function tablecell(content, flags) {\n",
       "        var type = flags.header ? 'th' : 'td';\n",
       "        var style = flags.align == null ? '' : ' style=\"text-align: ' + flags.align + '\"';\n",
       "        var start_tag = '<' + type + style + '>';\n",
       "        var end_tag = '</' + type + '>\\n';\n",
       "        return start_tag + content + end_tag;\n",
       "    }\n",
       "\n",
       "    var DefaultRenderer = marked.Renderer;\n",
       "    function NonExtensibleTableRenderer(options) {\n",
       "        DefaultRenderer.call(this, options);\n",
       "        Object.defineProperty(this, 'tablecell', {\n",
       "            get: function () { return tablecell; },\n",
       "            set: function () { } // No-op, sorry for this hack but we must prevent it from being redefined\n",
       "        });\n",
       "    }\n",
       "    NonExtensibleTableRenderer.prototype = Object.create(DefaultRenderer.prototype);\n",
       "    NonExtensibleTableRenderer.prototype.constructor = NonExtensibleTableRenderer;\n",
       "\n",
       "    marked.setOptions({\n",
       "        renderer: new NonExtensibleTableRenderer()\n",
       "    });\n",
       "    // Look away... it has to be done as newer versions of the notebook build a custom\n",
       "    // renderer rather than extending the default.\n",
       "    marked.Renderer = NonExtensibleTableRenderer;\n",
       "}\n",
       "\n",
       "var Jupyter = require('base/js/namespace');\n",
       "Jupyter.notebook.get_cells()\n",
       "   .filter(cell => cell.cell_type === 'markdown' && cell.rendered)\n",
       "   .forEach(mdcell => {\n",
       "       mdcell.unrender();\n",
       "       mdcell.render();\n",
       "   });\n"
      ],
      "text/plain": [
       "<IPython.core.display.Javascript object>"
      ]
     },
     "metadata": {},
     "output_type": "display_data"
    }
   ],
   "source": [
    "%%javascript // some javascript to render markdown tables properly\n",
    "\n",
    "// from https://github.com/jupyter/notebook/issues/3024#issuecomment-435630413\n",
    "var marked = require('components/marked/lib/marked');\n",
    "\n",
    "if (marked.Renderer.name !== 'NonExtensibleTableRenderer') {\n",
    "    function tablecell(content, flags) {\n",
    "        var type = flags.header ? 'th' : 'td';\n",
    "        var style = flags.align == null ? '' : ' style=\"text-align: ' + flags.align + '\"';\n",
    "        var start_tag = '<' + type + style + '>';\n",
    "        var end_tag = '</' + type + '>\\n';\n",
    "        return start_tag + content + end_tag;\n",
    "    }\n",
    "\n",
    "    var DefaultRenderer = marked.Renderer;\n",
    "    function NonExtensibleTableRenderer(options) {\n",
    "        DefaultRenderer.call(this, options);\n",
    "        Object.defineProperty(this, 'tablecell', {\n",
    "            get: function () { return tablecell; },\n",
    "            set: function () { } // No-op, sorry for this hack but we must prevent it from being redefined\n",
    "        });\n",
    "    }\n",
    "    NonExtensibleTableRenderer.prototype = Object.create(DefaultRenderer.prototype);\n",
    "    NonExtensibleTableRenderer.prototype.constructor = NonExtensibleTableRenderer;\n",
    "\n",
    "    marked.setOptions({\n",
    "        renderer: new NonExtensibleTableRenderer()\n",
    "    });\n",
    "    // Look away... it has to be done as newer versions of the notebook build a custom\n",
    "    // renderer rather than extending the default.\n",
    "    marked.Renderer = NonExtensibleTableRenderer;\n",
    "}\n",
    "\n",
    "var Jupyter = require('base/js/namespace');\n",
    "Jupyter.notebook.get_cells()\n",
    "   .filter(cell => cell.cell_type === 'markdown' && cell.rendered)\n",
    "   .forEach(mdcell => {\n",
    "       mdcell.unrender();\n",
    "       mdcell.render();\n",
    "   });"
   ]
  },
  {
   "cell_type": "markdown",
   "metadata": {
    "slideshow": {
     "slide_type": "subslide"
    }
   },
   "source": [
    "\n",
    "### Data Science Process - Proposal\n",
    "\n",
    "|   Step 1: Preparation       |      Step 2: Data exploration and model building                   |    Step 3: Model deployment                    \n",
    "|   :-----      |      :----                 |   :----\n",
    "| 1.1  Project setup          | 2.1  One click to start the Data Scientist Exploration Environment | 3.1  Model serving                             \n",
    "| 1.2  Quick data exploration | 2.2  Setup for Data exploration and Machine Learning               | 3.2  Model deployment (load balancing ...)     \n",
    "| 1.3  Data visualization     | 2.3  Deep dive in data exploration                                 | 3.3  Model versioning                           \n",
    "|        -                    | 2.4  Data visualization and profiling                              | 3.4  Model monitoring                          \n",
    "|        -                    | 2.5  Feature engineering                                           |                        -                       \n",
    "|        -                    | 2.6  Model building                                                |                        -                       \n",
    "|        -                    | 2.7  Model training                                                |                        -                       \n",
    "|        -                    | 2.8  Model testing                                                 |                        -                       \n",
    "|        -                    | 2.9  Hyparameters tuning                                           |                        -                       \n",
    "|        -                    | 2.10 Model visualisation                                           |                        -                       \n",
    "> steps 1 and 2 can be done *only* locally"
   ]
  },
  {
   "cell_type": "markdown",
   "metadata": {
    "cell_style": "split",
    "slideshow": {
     "slide_type": "fragment"
    }
   },
   "source": [
    "We will look today at\n",
    "    - 2.7 How to train a model?\n",
    "    - 2.8 How to evaluate a model?\n",
    "    - 3.1 How to make predictions?\n",
    "    - 3.2 How to deploy a model?"
   ]
  },
  {
   "cell_type": "markdown",
   "metadata": {
    "cell_style": "split",
    "slideshow": {
     "slide_type": "fragment"
    }
   },
   "source": [
    "Should help to answer:\n",
    "- Where do we need to improve?\n",
    "- Where to go next?\n",
    "\n",
    "> Process description will be refined."
   ]
  },
  {
   "cell_type": "markdown",
   "metadata": {
    "slideshow": {
     "slide_type": "slide"
    }
   },
   "source": [
    "# 2. Where to develop?"
   ]
  },
  {
   "cell_type": "markdown",
   "metadata": {
    "cell_style": "center",
    "slideshow": {
     "slide_type": "skip"
    }
   },
   "source": [
    "|SDK on local Machine | Google Console |\n",
    "|---------------------|----------------|\n",
    "| your machine | Tiny Compute Engine with 5 GB storage |\n",
    "| Your IDE | Code Editor|\n",
    "| Jupyter Notebook | Datalab |\n",
    "| `gcloud ml-engine local` | `gcloud ml-engine`\n"
   ]
  },
  {
   "cell_type": "markdown",
   "metadata": {
    "cell_style": "split",
    "slideshow": {
     "slide_type": "fragment"
    }
   },
   "source": [
    "Locally using\n",
    "- Google SDK on your laptop (CLI)\n",
    "- your IDE (e.g. PyCharme)\n",
    "- Juypter Notebook\n",
    "- `gcloud ml-engine local` "
   ]
  },
  {
   "cell_type": "markdown",
   "metadata": {
    "cell_style": "split",
    "slideshow": {
     "slide_type": "fragment"
    }
   },
   "source": [
    "Simple Cloud setup using\n",
    "- [Google Console](https://console.cloud.google.com/) Compute Engine with 5 GB storage\n",
    "- Cloud Editor\n",
    "- datalab\n",
    "- `gcloud ml-engine` (`local`)"
   ]
  },
  {
   "cell_type": "markdown",
   "metadata": {
    "slideshow": {
     "slide_type": "subslide"
    }
   },
   "source": [
    "## Proposal"
   ]
  },
  {
   "cell_type": "markdown",
   "metadata": {
    "cell_style": "split",
    "slideshow": {
     "slide_type": "fragment"
    }
   },
   "source": [
    "- when to migrate to GCP:\n",
    "   - distribute learning on several machines\n",
    "   - serve model 24/7\n"
   ]
  },
  {
   "cell_type": "markdown",
   "metadata": {
    "cell_style": "split",
    "slideshow": {
     "slide_type": "fragment"
    }
   },
   "source": [
    "> develop locally\n"
   ]
  },
  {
   "cell_type": "markdown",
   "metadata": {
    "slideshow": {
     "slide_type": "slide"
    }
   },
   "source": [
    "# 3. Hands-ON Tutorial: Running MNIST on ML-Engine"
   ]
  },
  {
   "cell_type": "markdown",
   "metadata": {
    "slideshow": {
     "slide_type": "fragment"
    }
   },
   "source": [
    "- deep dive into step 2 and 3 of Data Science process\n",
    "- data exploration is omitted as a curated dataset is used"
   ]
  },
  {
   "cell_type": "markdown",
   "metadata": {
    "slideshow": {
     "slide_type": "fragment"
    }
   },
   "source": [
    "Adapted from [Notebook](https://github.com/GoogleCloudPlatform/training-data-analyst/blob/master/courses/machine_learning/cloudmle/cloudmle.ipynb) of Google Coursera Course [Serverless Machine Learning with Tensorflow on Google Cloud Platform](https://www.coursera.org/learn/serverless-machine-learning-gcp/)"
   ]
  },
  {
   "cell_type": "markdown",
   "metadata": {
    "slideshow": {
     "slide_type": "fragment"
    }
   },
   "source": [
    "- In order to import from `src` functionality later in this notebook, it is necessary to change to the root directory of the notebooks directory"
   ]
  },
  {
   "cell_type": "code",
   "execution_count": 3,
   "metadata": {
    "cell_style": "center",
    "code_folding": [
     0,
     5
    ],
    "slideshow": {
     "slide_type": "fragment"
    }
   },
   "outputs": [
    {
     "name": "stdout",
     "output_type": "stream",
     "text": [
      "Current Working direcotory:\tc:\\Users\\kzl465\\Documents\\gcp_ml_engine_talk\\notebook\n",
      "Changed to New working directory:\tc:\\Users\\kzl465\\Documents\\gcp_ml_engine_talk\n"
     ]
    }
   ],
   "source": [
    "# check working directory\n",
    "import os\n",
    "WORKINGDIR = os.getcwd()\n",
    "print(\"Current Working direcotory:\\t{}\".format(WORKINGDIR))\n",
    "folders = os.path.split(WORKINGDIR)\n",
    "if folders[-1] == 'notebook':  # or a list: in ['notebook', 'src', etc.]\n",
    "  WORKINGDIR = folders[0] \n",
    "  print(\"Changed to New working directory:\\t{}\".format(WORKINGDIR))\n",
    "  os.chdir(WORKINGDIR) "
   ]
  },
  {
   "cell_type": "code",
   "execution_count": 1,
   "metadata": {},
   "outputs": [
    {
     "name": "stdout",
     "output_type": "stream",
     "text": [
      "# conda environments:\n",
      "#\n",
      "base                     C:\\Users\\kzl465\\AppData\\Local\\Continuum\\anaconda3\n",
      "bioservices              C:\\Users\\kzl465\\AppData\\Local\\Continuum\\anaconda3\\envs\\bioservices\n",
      "charite                  C:\\Users\\kzl465\\AppData\\Local\\Continuum\\anaconda3\\envs\\charite\n",
      "dtd                      C:\\Users\\kzl465\\AppData\\Local\\Continuum\\anaconda3\\envs\\dtd\n",
      "env_gcp_dl               C:\\Users\\kzl465\\AppData\\Local\\Continuum\\anaconda3\\envs\\env_gcp_dl\n",
      "gcp_dl                *  C:\\Users\\kzl465\\AppData\\Local\\Continuum\\anaconda3\\envs\\gcp_dl\n",
      "pytorch                  C:\\Users\\kzl465\\AppData\\Local\\Continuum\\anaconda3\\envs\\pytorch\n",
      "rdkit-env                C:\\Users\\kzl465\\AppData\\Local\\Continuum\\anaconda3\\envs\\rdkit-env\n",
      "tf2_gpu                  C:\\Users\\kzl465\\AppData\\Local\\Continuum\\anaconda3\\envs\\tf2_gpu\n",
      "tf_gpu                   C:\\Users\\kzl465\\AppData\\Local\\Continuum\\anaconda3\\envs\\tf_gpu\n",
      "vamb                     C:\\Users\\kzl465\\AppData\\Local\\Continuum\\anaconda3\\envs\\vamb\n",
      "voila                    C:\\Users\\kzl465\\AppData\\Local\\Continuum\\anaconda3\\envs\\voila\n",
      "\n",
      "\n",
      "Note: you may need to restart the kernel to use updated packages.\n"
     ]
    }
   ],
   "source": [
    "conda info -e"
   ]
  },
  {
   "cell_type": "markdown",
   "metadata": {
    "slideshow": {
     "slide_type": "subslide"
    }
   },
   "source": [
    "## MNIST use-case"
   ]
  },
  {
   "cell_type": "markdown",
   "metadata": {
    "slideshow": {
     "slide_type": "skip"
    }
   },
   "source": [
    "#### Create an test-image in numpy format saved as json (copy from test set)"
   ]
  },
  {
   "cell_type": "code",
   "execution_count": 22,
   "metadata": {
    "code_folding": [
     0
    ],
    "slideshow": {
     "slide_type": "skip"
    }
   },
   "outputs": [],
   "source": [
    "# Create a file with 4 test images\n",
    "N=4\n",
    "import numpy as np\n",
    "import json\n",
    "from src.pkg_mnist_fnn.utils import load_data\n",
    "from src.pkg_mnist_fnn.model import parse_images\n",
    "(_,_), (x_test, y_test) = load_data(rel_path='data')\n",
    "test_indices = np.random.randint(low=0, high=len(y_test), size=N)\n",
    "x_test, y_test = x_test[test_indices], y_test[test_indices]\n",
    "x_test = parse_images(x_test).tolist()\n",
    "\n",
    "eol = '\\n'\n",
    "n_lines = len(y_test)\n",
    "with open(\"data/test1.json\", \"w\") as f:\n",
    "    for image, label in zip(x_test, y_test):\n",
    "        _dict = {\"x\": image} #, \"y\": int(label)}\n",
    "        f.write(json.dumps(_dict))\n",
    "        f.write(eol)"
   ]
  },
  {
   "cell_type": "markdown",
   "metadata": {
    "cell_style": "center",
    "slideshow": {
     "slide_type": "fragment"
    }
   },
   "source": [
    "- recognise hand-written digits (e.g. on a postal card) "
   ]
  },
  {
   "cell_type": "code",
   "execution_count": 24,
   "metadata": {
    "slideshow": {
     "slide_type": "fragment"
    }
   },
   "outputs": [
    {
     "data": {
      "image/png": "[encoded data removed]",
      "text/plain": [
       "<Figure size 1440x288 with 4 Axes>"
      ]
     },
     "metadata": {
      "needs_background": "light"
     },
     "output_type": "display_data"
    }
   ],
   "source": [
    "from src.utils.mnist_utils import plot_mnist_testdata \n",
    "plot_mnist_testdata()"
   ]
  },
  {
   "cell_type": "markdown",
   "metadata": {},
   "source": [
    "![model](Images/gcp_training_options-Modelling.jpg)"
   ]
  },
  {
   "cell_type": "markdown",
   "metadata": {
    "slideshow": {
     "slide_type": "fragment"
    }
   },
   "source": [
    "![](https://ml4a.github.io/images/figures/mnist-input.png)"
   ]
  },
  {
   "cell_type": "markdown",
   "metadata": {
    "cell_style": "split",
    "slideshow": {
     "slide_type": "fragment"
    }
   },
   "source": [
    "Why MNIST?\n",
    "- images need pre-processing\n",
    "- black and white images are numeric vectors"
   ]
  },
  {
   "cell_type": "markdown",
   "metadata": {
    "slideshow": {
     "slide_type": "subslide"
    }
   },
   "source": [
    "## 3.A Setup\n",
    "\n",
    "1. ML Engine Runtimes\n",
    "2. Repository Structure\n",
    "3. Configuration Variables\n",
    "    -  Environment variables to set\n",
    "    - How to add them to your runtime\n",
    "4. Setup `gcloud` runtime"
   ]
  },
  {
   "cell_type": "markdown",
   "metadata": {
    "slideshow": {
     "slide_type": "fragment"
    }
   },
   "source": [
    "Create conda environement\n",
    "  - `conda env create -f environment.yml -n env_gcp_dl`"
   ]
  },
  {
   "cell_type": "markdown",
   "metadata": {
    "slideshow": {
     "slide_type": "subslide"
    }
   },
   "source": [
    "### 1 ML Engine Runtimes\n",
    "Default ML-Engine Runtimes depend on the Tensorflow Version\n",
    "- [list of runtimes](https://cloud.google.com/ml-engine/docs/tensorflow/runtime-version-list)\n",
    "- Current Version: `1.12`"
   ]
  },
  {
   "cell_type": "code",
   "execution_count": null,
   "metadata": {
    "cell_style": "split",
    "slideshow": {
     "slide_type": "fragment"
    }
   },
   "outputs": [],
   "source": [
    "#!pip install tensorflow=1.12"
   ]
  },
  {
   "cell_type": "code",
   "execution_count": 2,
   "metadata": {
    "cell_style": "split",
    "slideshow": {
     "slide_type": "fragment"
    }
   },
   "outputs": [
    {
     "data": {
      "text/plain": [
       "'1.12.0'"
      ]
     },
     "execution_count": 2,
     "metadata": {},
     "output_type": "execute_result"
    }
   ],
   "source": [
    "import tensorflow as tf\n",
    "tf.__version__"
   ]
  },
  {
   "cell_type": "markdown",
   "metadata": {
    "cell_style": "split",
    "slideshow": {
     "slide_type": "skip"
    }
   },
   "source": [
    "- current version of gcp datalab\n",
    "- will be different on Windows machines\n"
   ]
  },
  {
   "cell_type": "markdown",
   "metadata": {
    "slideshow": {
     "slide_type": "subslide"
    }
   },
   "source": [
    "### 2. Repository structure"
   ]
  },
  {
   "cell_type": "code",
   "execution_count": 34,
   "metadata": {
    "cell_style": "split",
    "slideshow": {
     "slide_type": "fragment"
    }
   },
   "outputs": [
    {
     "name": "stdout",
     "output_type": "stream",
     "text": [
      "16-11-2019  16:42    <DIR>          .\n",
      "16-11-2019  16:42    <DIR>          ..\n",
      "16-11-2019  16:42               177 config.yaml\n",
      "27-11-2019  09:28    <DIR>          data\n",
      "16-11-2019  16:42    <DIR>          doc\n",
      "27-11-2019  09:18    <DIR>          Images\n",
      "27-11-2019  09:37    <DIR>          notebook\n",
      "16-11-2019  16:42    <DIR>          reveal.js\n",
      "16-11-2019  16:42    <DIR>          src\n",
      "16-11-2019  16:42    <DIR>          test\n"
     ]
    }
   ],
   "source": [
    "ls | grep \"/\\|DIR\\|yaml\""
   ]
  },
  {
   "cell_type": "markdown",
   "metadata": {
    "cell_style": "split",
    "slideshow": {
     "slide_type": "fragment"
    }
   },
   "source": [
    "Key Directories containing information\n",
    "```\n",
    ".\n",
    "+-- data\n",
    "+-- src\n",
    "|  +-- models\n",
    "|  +-- packages\n",
    "config.yaml\n",
    "```"
   ]
  },
  {
   "cell_type": "markdown",
   "metadata": {
    "cell_style": "center",
    "slideshow": {
     "slide_type": "fragment"
    }
   },
   "source": [
    "In the next step the contents of [`config.yaml`](config.yaml) will be important"
   ]
  },
  {
   "cell_type": "code",
   "execution_count": 35,
   "metadata": {
    "cell_style": "split",
    "slideshow": {
     "slide_type": "skip"
    }
   },
   "outputs": [
    {
     "name": "stdout",
     "output_type": "stream",
     "text": [
      "#change at least your project ID\n",
      "project-id: ml-productive-pipeline-1234\n",
      "region: europe-west1\n",
      "bucket: ml-productive-pipeline-1234\n",
      "tf-version: 1.12\n",
      "pkg-name: pkg_mnist_fnn\n"
     ]
    }
   ],
   "source": [
    "!cat config.yaml"
   ]
  },
  {
   "cell_type": "markdown",
   "metadata": {
    "slideshow": {
     "slide_type": "subslide"
    }
   },
   "source": [
    "### 3. GCP Environment Variables"
   ]
  },
  {
   "cell_type": "markdown",
   "metadata": {
    "slideshow": {
     "slide_type": "fragment"
    }
   },
   "source": [
    "- `PROJECT_ID`: unique ID that identifies your project, e.g. **ml-productive-pipeline-12345**\n",
    "- `BUCKET`: BLOB-store ID. Each project has per default an bucket named by the `PROJECT_ID`\n",
    "- `REGION`: Which data center to use"
   ]
  },
  {
   "cell_type": "code",
   "execution_count": null,
   "metadata": {
    "slideshow": {
     "slide_type": "skip"
    }
   },
   "outputs": [],
   "source": [
    "# # #Create config manually and save as yaml:\n",
    "# config = {}\n",
    "# config['project-id'] = 'PROJECT'  # # REPLACE WITH YOUR PROJECT ID\n",
    "# config['region'] = 'europe-west1' # Choose an available region for Cloud MLE from https://cloud.google.com/ml-engine/docs/regions.\n",
    "# config['bucket'] = 'Bucket-name'  # REPLACE WITH YOUR BUCKET NAME. Use a regional bucket in the region you selected.\n",
    "# \n",
    "# with open(\"../config_from_python.yaml\", 'wb', encoding= 'utf8') as f:\n",
    "#     yaml.dump(f)"
   ]
  },
  {
   "cell_type": "markdown",
   "metadata": {
    "cell_style": "split",
    "slideshow": {
     "slide_type": "fragment"
    }
   },
   "source": [
    "Additional Environment Variables needed for ML-Engine\n",
    "- `PKG_NAME`: Package Name which will contain your model\n",
    "- `TF_VERSION`: Tensorflow Version"
   ]
  },
  {
   "cell_type": "code",
   "execution_count": 5,
   "metadata": {
    "cell_style": "split",
    "slideshow": {
     "slide_type": "fragment"
    }
   },
   "outputs": [
    {
     "name": "stdout",
     "output_type": "stream",
     "text": [
      "{'bucket': 'bold-circuit-254311',\n",
      " 'pkg-name': 'pkg_mnist_fnn',\n",
      " 'project-id': 'bold-circuit-254311',\n",
      " 'region': 'europe-west1',\n",
      " 'tf-version': 1.12}\n"
     ]
    }
   ],
   "source": [
    "import yaml\n",
    "from pprint import pprint\n",
    "with open(\"config.yaml\", \"r\", encoding = \"utf8\") as f:\n",
    "    config = yaml.safe_load(f)\n",
    "pprint(config)"
   ]
  },
  {
   "cell_type": "markdown",
   "metadata": {
    "slideshow": {
     "slide_type": "notes"
    }
   },
   "source": [
    "#### Environment variables for project and bucket\n",
    "\n",
    "Note that:\n",
    "1. Your project id is the *unique* string that identifies your project (not the project name). You can find this from the GCP Console dashboard's Home page. My dashboard reads:  \n",
    "     \n",
    "     - Project ID: ml-productive-pipeline-12345\n",
    "     \n",
    "2. Cloud training often involves saving and restoring model files. If you don't have a bucket already, I suggest that you create one from the GCP console (because it will dynamically check whether the bucket name you want is available). A common pattern is to prefix the bucket name by the project id, so that it is unique. Also, for cost reasons, you might want to use a single region bucket.\n",
    "\n",
    "\n",
    "Add all detail in to [config.yaml](../config.yaml) file in main directory. Missing in public repository.\n"
   ]
  },
  {
   "cell_type": "markdown",
   "metadata": {
    "slideshow": {
     "slide_type": "subslide"
    }
   },
   "source": [
    "#### Adding Environment Variables to your runtime\n",
    "- add variables **persistently**  to the runtime of your kernel from jupyter (or datalab)\n",
    "- use `os.environ` dictionary"
   ]
  },
  {
   "cell_type": "code",
   "execution_count": 6,
   "metadata": {
    "slideshow": {
     "slide_type": "fragment"
    }
   },
   "outputs": [],
   "source": [
    "import os\n",
    "PROJECT = config['project-id'] \n",
    "REGION = config['region'] # Choose an available region for Cloud MLE from https://cloud.google.com/ml-engine/docs/regions.\n",
    "BUCKET = config['bucket'] # REPLACE WITH YOUR BUCKET NAME. Use a regional bucket in the region you selected.\n",
    "PKG_NAME = config['pkg-name']\n",
    "\n",
    "os.environ['PROJECT'] = PROJECT\n",
    "os.environ['BUCKET'] = BUCKET\n",
    "os.environ['REGION'] = REGION\n",
    "os.environ['TFVERSION'] = str(config['tf-version'])  # Tensorflow version 1.4 before\n",
    "os.environ['PKG_NAME'] = config['pkg-name']"
   ]
  },
  {
   "cell_type": "markdown",
   "metadata": {
    "slideshow": {
     "slide_type": "fragment"
    }
   },
   "source": [
    "Now, you can access the environement variable in the terminal where your jupyter, datalab or iphyton."
   ]
  },
  {
   "cell_type": "code",
   "execution_count": 7,
   "metadata": {
    "slideshow": {
     "slide_type": "fragment"
    }
   },
   "outputs": [
    {
     "name": "stdout",
     "output_type": "stream",
     "text": [
      "\"Using Tensorflow Version: 1.12\"\n"
     ]
    }
   ],
   "source": [
    "!echo \"Using Tensorflow Version: %TFVERSION%\""
   ]
  },
  {
   "cell_type": "markdown",
   "metadata": {
    "slideshow": {
     "slide_type": "subslide"
    }
   },
   "source": [
    "### 4. Setup gcloud runtime\n"
   ]
  },
  {
   "cell_type": "code",
   "execution_count": null,
   "metadata": {
    "slideshow": {
     "slide_type": "fragment"
    }
   },
   "outputs": [],
   "source": [
    "%%bash\n",
    "gcloud config set project $PROJECT\n",
    "gcloud config set compute/region $REGION"
   ]
  },
  {
   "cell_type": "code",
   "execution_count": 50,
   "metadata": {
    "slideshow": {
     "slide_type": "fragment"
    }
   },
   "outputs": [
    {
     "name": "stdout",
     "output_type": "stream",
     "text": [
      "Microsoft Windows [Version 10.0.17763.864]\n",
      "(c) 2018 Microsoft Corporation. All rights reserved.\n",
      "\n",
      "(env_gcp_dl) c:\\Users\\kzl465\\Documents\\gcp_ml_engine_talk>gcloud config set project %PROJECT%\n",
      "\n",
      "(env_gcp_dl) c:\\Users\\kzl465\\Documents\\gcp_ml_engine_talk>gcloud config set compute/region %REGION%\n",
      "\n",
      "(env_gcp_dl) c:\\Users\\kzl465\\Documents\\gcp_ml_engine_talk>"
     ]
    },
    {
     "name": "stderr",
     "output_type": "stream",
     "text": [
      "Updated property [core/project].\n",
      "Updated property [compute/region].\n"
     ]
    }
   ],
   "source": [
    "%%cmd\n",
    "gcloud config set project %PROJECT%\n",
    "gcloud config set compute/region %REGION%"
   ]
  },
  {
   "cell_type": "markdown",
   "metadata": {
    "slideshow": {
     "slide_type": "subslide"
    }
   },
   "source": [
    "### Access Control \n",
    "\n",
    "- not necessary if you use \n",
    "  - datalab\n",
    "  - local sdk\n",
    "\n",
    "- Service Accounts ([Creating and Managing Service Accounts](https://cloud.google.com/iam/docs/creating-managing-service-accounts))\n",
    "  - need be assigned read/write permission to `BUCKET`"
   ]
  },
  {
   "cell_type": "code",
   "execution_count": 12,
   "metadata": {
    "slideshow": {
     "slide_type": "skip"
    }
   },
   "outputs": [
    {
     "name": "stdout",
     "output_type": "stream",
     "text": [
      "Process is terminated.\n"
     ]
    }
   ],
   "source": [
    "%%bash\n",
    "conda activate gcp_dl\n",
    "PROJECT_ID=$PROJECT\n",
    "AUTH_TOKEN=$(gcloud auth print-access-token)\n",
    "#echo \"Auth-Token: $AUTH_TOKEN\n",
    "SVC_ACCOUNT=$(curl -X GET -H \"Content-Type: application/json\" \\\n",
    "    -H \"Authorization: Bearer $AUTH_TOKEN\" \\\n",
    "    https://ml.googleapis.com/v1/projects/${PROJECT_ID}:getConfig \\\n",
    "    | python -c \"import json; import sys; response = json.load(sys.stdin); \\\n",
    "    print(response['serviceAccount'])\")\n",
    "echo \"Current Service Account of VM: $SVC_ACCOUNT\"\n",
    "echo \"Authorizing the Cloud ML Service account $SVC_ACCOUNT to access files in Bucket: $BUCKET\"\n",
    "gsutil -m defacl ch -u $SVC_ACCOUNT:R gs://$BUCKET\n",
    "gsutil -m acl ch -u $SVC_ACCOUNT:R -r gs://$BUCKET # error message (if bucket is empty) can be ignored\n",
    "gsutil -m acl ch -u $SVC_ACCOUNT:W gs://$BUCKET"
   ]
  },
  {
   "cell_type": "markdown",
   "metadata": {
    "slideshow": {
     "slide_type": "slide"
    }
   },
   "source": [
    "## Beyond Scripting: Packaging up the code"
   ]
  },
  {
   "cell_type": "markdown",
   "metadata": {
    "slideshow": {
     "slide_type": "fragment"
    }
   },
   "source": [
    " \n",
    "Why a package?\n",
    " - can be called from other scripts `import model`"
   ]
  },
  {
   "cell_type": "markdown",
   "metadata": {
    "slideshow": {
     "slide_type": "fragment"
    }
   },
   "source": [
    "Take your code and put into a standard Python package structure, see  [pkg_mnist_fnn/model.py](../src/pkg_mnist_fnn/model.py)\n",
    "\n",
    "Key-Idea: \n",
    " - define entry point which can be called\n",
    " - write all tasks as a function (callable)"
   ]
  },
  {
   "cell_type": "markdown",
   "metadata": {
    "slideshow": {
     "slide_type": "subslide"
    }
   },
   "source": [
    "### `model.py`"
   ]
  },
  {
   "cell_type": "code",
   "execution_count": null,
   "metadata": {
    "slideshow": {
     "slide_type": "fragment"
    }
   },
   "outputs": [],
   "source": [
    "# %load src/pkg_mnist_fnn/model.py\n",
    "\"\"\"\n",
    "First try to start Cloud ML\n",
    "\n",
    "References:\n",
    "Basic reference for packaging the model so that ml-engine can use it:\n",
    "- https://github.com/GoogleCloudPlatform/training-data-analyst/tree/master/courses/machine_learning/cloudmle/taxifare\n",
    "MNIST-Estimator-Example:\n",
    "- https://codeburst.io/use-tensorflow-dnnclassifier-estimator-to-classify-mnist-dataset-a7222bf9f940\n",
    "\n",
    "ipython -i -m src.models.test_model_estimator_api.mnist_ml_engine -- --data_path=data --output_dir=src\\models\\test_model_estimator_api\\trained --train_steps=100\n",
    "\"\"\"\n",
    "\n",
    "import tensorflow as tf\n",
    "import numpy as np\n",
    "\n",
    "from .utils import load_data\n",
    "###############################################################################\n",
    "#Factor into config:\n",
    "N_PIXEL = 784\n",
    "OUTDIR = 'trained'\n",
    "USE_TPU = False\n",
    "EPOCHS = 5\n",
    "\n",
    "if USE_TPU:\n",
    "    _device_update = 'tpu'\n",
    "else:\n",
    "    _device_update = 'cpu'\n",
    "\n",
    "IMAGE_SIZE = 28 * 28\n",
    "NUM_LABELS = 10\n",
    "BATCH_SIZE = 128\n",
    "###############################################################################\n",
    "\n",
    "\n",
    "def parse_images(x):\n",
    "    return x.reshape(len(x), -1).astype('float32')\n",
    "\n",
    "\n",
    "def parse_labels(y):\n",
    "    return y.astype('int32')\n",
    "\n",
    "\n",
    "def numpy_input_fn(images: np.ndarray,\n",
    "                   labels: np.ndarray,\n",
    "                   mode=tf.estimator.ModeKeys.EVAL):\n",
    "    \"\"\"\n",
    "    Return depending on the `mode`-key an Interator which can be use to feed into\n",
    "    the Estimator-Model. \n",
    "\n",
    "    Alternative if a `tf.data.Dataset` named `dataset` would be created:\n",
    "    `dataset.make_one_shot_iterator().get_next()`\n",
    "    \"\"\"\n",
    "    if mode == tf.estimator.ModeKeys.TRAIN:\n",
    "        _epochs = EPOCHS\n",
    "        _shuffle = True\n",
    "        _num_threads = 2\n",
    "    else:\n",
    "        _epochs = 1\n",
    "        _shuffle = False\n",
    "        _num_threads = 1\n",
    "\n",
    "    return tf.estimator.inputs.numpy_input_fn(\n",
    "        {'x': images},\n",
    "        y=labels,\n",
    "        batch_size=BATCH_SIZE,\n",
    "        num_epochs=_epochs,\n",
    "        # Boolean, if True shuffles the queue. Avoid shuffle at prediction time.\n",
    "        shuffle=_shuffle,\n",
    "        queue_capacity=1000,\n",
    "        # Integer, number of threads used for reading and enqueueing. In order to have predicted and repeatable order of reading and enqueueing, such as in prediction and evaluation mode, num_threads should be 1.\n",
    "        num_threads=_num_threads\n",
    "    )\n",
    "\n",
    "\n",
    "def serving_input_fn():\n",
    "    feature_placeholders = {\n",
    "        'x': tf.placeholder(tf.float32, shape=[None, N_PIXEL])\n",
    "    }\n",
    "    features = feature_placeholders\n",
    "    return tf.estimator.export.ServingInputReceiver(\n",
    "         features=features, \n",
    "         receiver_tensors=feature_placeholders,\n",
    "         receiver_tensors_alternatives=None\n",
    "         )\n",
    "\n",
    "\n",
    "def train_and_evaluate(args):\n",
    "    \"\"\"\n",
    "    Utility function for distributed training on ML-Engine\n",
    "    https://www.tensorflow.org/api_docs/python/tf/estimator/train_and_evaluate \n",
    "    \"\"\"\n",
    "    ##########################################\n",
    "    # Load Data in Memoery\n",
    "    # ToDo: replace numpy-arrays\n",
    "    (x_train, y_train), (x_test, y_test) = load_data(\n",
    "        rel_path=args['data_path'])\n",
    "  \n",
    "    x_train = parse_images(x_train)\n",
    "    x_test = parse_images(x_test)\n",
    "\n",
    "    y_train = parse_labels(y_train)\n",
    "    y_test = parse_labels(y_test)\n",
    "\n",
    "    model = tf.estimator.DNNClassifier(\n",
    "        hidden_units=[256, 128, 64],\n",
    "        feature_columns=[tf.feature_column.numeric_column(\n",
    "            'x', shape=[N_PIXEL, ])],\n",
    "        model_dir=args['output_dir'],\n",
    "        n_classes=10,\n",
    "        optimizer=tf.train.AdamOptimizer,\n",
    "        # activation_fn=,\n",
    "        dropout=0.2,\n",
    "        batch_norm=False,\n",
    "        loss_reduction='weighted_sum',\n",
    "        warm_start_from=None,\n",
    "        config = None\n",
    "    )\n",
    "   \n",
    "    train_spec = tf.estimator.TrainSpec(\n",
    "        input_fn=numpy_input_fn(\n",
    "            x_train, y_train, mode=tf.estimator.ModeKeys.TRAIN),\n",
    "        max_steps=args['train_steps'],\n",
    "        hooks = None\n",
    "    )\n",
    "    exporter = tf.estimator.LatestExporter('exporter', serving_input_fn)\n",
    "    eval_spec = tf.estimator.EvalSpec(\n",
    "        input_fn=numpy_input_fn(\n",
    "            x_test, y_test, mode=tf.estimator.ModeKeys.EVAL),\n",
    "        steps=None,\n",
    "        start_delay_secs=args['eval_delay_secs'],\n",
    "        throttle_secs=args['min_eval_frequency'],\n",
    "        exporters=exporter\n",
    "    )\n",
    "    tf.estimator.train_and_evaluate(\n",
    "        estimator=model, train_spec=train_spec, eval_spec=eval_spec)"
   ]
  },
  {
   "cell_type": "markdown",
   "metadata": {
    "slideshow": {
     "slide_type": "subslide"
    }
   },
   "source": [
    "### `task.py`"
   ]
  },
  {
   "cell_type": "code",
   "execution_count": null,
   "metadata": {
    "slideshow": {
     "slide_type": "fragment"
    }
   },
   "outputs": [],
   "source": [
    "# %load src/pkg_mnist_fnn/task.py\n",
    "\"\"\"\n",
    "Parse arguments and call main function\n",
    "\"\"\"\n",
    "import os\n",
    "import argparse\n",
    "import shutil\n",
    "\n",
    "from .model import train_and_evaluate\n",
    "\n",
    "if __name__ == '__main__':\n",
    "    parser = argparse.ArgumentParser()\n",
    "    parser.add_argument(\n",
    "        '--data_path',\n",
    "        help='GCS or local path to training data',\n",
    "        required=True\n",
    "    )\n",
    "    parser.add_argument(\n",
    "        '--output_dir',\n",
    "        help='GCS location to write checkpoints and export models',\n",
    "        required=True\n",
    "    )\n",
    "    parser.add_argument(\n",
    "        '--train_batch_size',\n",
    "        help='Batch size for training steps',\n",
    "        type=int,\n",
    "        default='128'\n",
    "    )\n",
    "    parser.add_argument(\n",
    "        '--train_steps',\n",
    "        help='Steps to run the training job for',\n",
    "        type=int,\n",
    "        default='200'\n",
    "    )\n",
    "    parser.add_argument(\n",
    "        '--hidden_units',\n",
    "        help='List of hidden layer sizes to use for DNN feature columns',\n",
    "        nargs='+',\n",
    "        type=int,\n",
    "        default=[128, 64, 32]\n",
    "    )\n",
    "    parser.add_argument(\n",
    "        '--job_dir',\n",
    "        help='this model ignores this field, but it is required by gcloud',\n",
    "        default='junk'\n",
    "    )\n",
    "    # Eval arguments\n",
    "    parser.add_argument(\n",
    "        '--eval_delay_secs',\n",
    "        help='How long to wait before running first evaluation',\n",
    "        default=1,\n",
    "        type=int\n",
    "    )\n",
    "    parser.add_argument(\n",
    "        '--min_eval_frequency',\n",
    "        help='Seconds between evaluations',\n",
    "        default=10,\n",
    "        type=int\n",
    "    )\n",
    "\n",
    "    args = parser.parse_args().__dict__\n",
    "\n",
    "    OUTDIR = args['output_dir']\n",
    "    # #######################################\n",
    "    # # Train and Evaluate (use TensorBoard to visualize)\n",
    "    train_and_evaluate(args)"
   ]
  },
  {
   "cell_type": "markdown",
   "metadata": {
    "slideshow": {
     "slide_type": "slide"
    }
   },
   "source": [
    "# 3.B Train using ML-Engine on"
   ]
  },
  {
   "attachments": {
    "Devices-computer-laptop-icon.png": {
     "image/png": "[encoded data removed]"
    }
   },
   "cell_type": "markdown",
   "metadata": {
    "cell_style": "split",
    "slideshow": {
     "slide_type": "fragment"
    }
   },
   "source": [
    "### your local machine\n",
    "![Devices-computer-laptop-icon.png](attachment:Devices-computer-laptop-icon.png) "
   ]
  },
  {
   "cell_type": "markdown",
   "metadata": {
    "cell_style": "split",
    "slideshow": {
     "slide_type": "fragment"
    }
   },
   "source": [
    "1. Call your python script (module)\n",
    "2. Use `gcloud ml-engine local train`"
   ]
  },
  {
   "cell_type": "markdown",
   "metadata": {
    "slideshow": {
     "slide_type": "fragment"
    }
   },
   "source": [
    "### a cluster of machines using ML-Engine service"
   ]
  },
  {
   "attachments": {
    "Cloud%20Machine%20Learning.svg": {
     "image/svg+xml": [
      "PHN2ZyBpZD0iTGF5ZXJfMSIgZGF0YS1uYW1lPSJMYXllciAxIiB4bWxucz0iaHR0cDovL3d3dy53My5vcmcvMjAwMC9zdmciIHdpZHRoPSIxMjgiIGhlaWdodD0iMTI4IiB2aWV3Qm94PSIwIDAgMTI4IDEyOCI+CiAgPHRpdGxlPkNsb3VkIE1hY2hpbmUgTGVhcm5pbmc8L3RpdGxlPgogIDxnPgogICAgPHBhdGggZD0iTTEyNi40Nyw1OC4xMmwtMjYuMy00NS43NEExMS41NiwxMS41NiwwLDAsMCw5MC4zMSw2LjVIMzcuN2ExMS41NSwxMS41NSwwLDAsMC05Ljg2LDUuODhMMS41Myw1OGExMS40OCwxMS40OCwwLDAsMCwwLDExLjQ0bDI2LjMsNDZhMTEuNzcsMTEuNzcsMCwwLDAsOS44Niw2LjA5SDkwLjNhMTEuNzMsMTEuNzMsMCwwLDAsOS44Ny02LjA2bDI2LjMtNDUuNzRBMTEuNzMsMTEuNzMsMCwwLDAsMTI2LjQ3LDU4LjEyWiIgc3R5bGU9ImZpbGw6ICM0Mjg1ZjQiLz4KICAgIDxwYXRoIGQ9Ik04MC4xOCwzNSw2OCw0MWwtNi02TDQwLjg2LDQ3bDQuNjQsNC42NEwzMy45LDY5LDQxLDc2LjA2LDQ3LjgyLDkzbDI4LjUsMjguNWgxNGExMS43MywxMS43MywwLDAsMCw5Ljg3LTYuMDZsMjIuMDctMzguMzhaIiBzdHlsZT0ib3BhY2l0eTogMC4wNzAwMDAwMDAyOTgwMjM7aXNvbGF0aW9uOiBpc29sYXRlIi8+CiAgICA8cG9seWdvbiBwb2ludHM9Ijc5LjkzIDc0IDgyLjg1IDY5IDk0LjEgNjkgOTcgNjQgODkuNDYgNTEgNzcuNzMgNTEgNzQuMzMgNDUgNzEgNDUgNzEgNDEgNzYuNjcgNDEgODAuMDYgNDcgODcuMTQgNDcgODAuMTggMzUgNjYgMzUgNjYgNTIgNzIuMDIgNTIgNzQuMzUgNTYgNjYgNTYgNjYgNjQgNzMuNiA2NCA3Ny4wNiA1OCA4Ni4zOCA1OCA4OC42OSA2MiA3OS4zNyA2MiA3NS45IDY4IDY2IDY4IDY2IDgzIDc4LjQ5IDgzIDc2LjE4IDg3IDY2IDg3IDY2IDkzIDgwLjE4IDkzIDkxLjc4IDczIDg1LjE1IDczIDgyLjIyIDc4IDcxIDc4IDcxIDc0IDc5LjkzIDc0IiBzdHlsZT0iZmlsbDogI2ZmZiIvPgogICAgPHBvbHlnb24gcG9pbnRzPSI0OC4wNyA3NCA0NS4xNSA2OSAzMy45IDY5IDMxIDY0IDM4LjU0IDUxIDUwLjI3IDUxIDUzLjY3IDQ1IDU3IDQ1IDU3IDQxIDUxLjMzIDQxIDQ3Ljk0IDQ3IDQwLjg2IDQ3IDQ3LjgyIDM1IDYyIDM1IDYyIDUyIDU1Ljk4IDUyIDUzLjY1IDU2IDYyIDU2IDYyIDY0IDU0LjQgNjQgNTAuOTQgNTggNDEuNjIgNTggMzkuMyA2MiA0OC42MyA2MiA1Mi4xIDY4IDYyIDY4IDYyIDgzIDQ5LjUxIDgzIDUxLjgyIDg3IDYyIDg3IDYyIDkzIDQ3LjgyIDkzIDM2LjIyIDczIDQyLjg1IDczIDQ1Ljc4IDc4IDU3IDc4IDU3IDc0IDQ4LjA3IDc0IiBzdHlsZT0iZmlsbDogI2ZmZiIvPgogIDwvZz4KPC9zdmc+Cg=="
     ]
    }
   },
   "cell_type": "markdown",
   "metadata": {
    "cell_style": "split",
    "slideshow": {
     "slide_type": "fragment"
    }
   },
   "source": [
    "![Cloud%20Machine%20Learning.svg](attachment:Cloud%20Machine%20Learning.svg)"
   ]
  },
  {
   "cell_type": "markdown",
   "metadata": {
    "cell_style": "split",
    "slideshow": {
     "slide_type": "fragment"
    }
   },
   "source": [
    "3. Use `gcloud ml-engine train`"
   ]
  },
  {
   "cell_type": "markdown",
   "metadata": {
    "slideshow": {
     "slide_type": "subslide"
    }
   },
   "source": [
    "### Modeling and ML-Engine"
   ]
  },
  {
   "attachments": {
    "gcp_training_options-overview.svg": {
     "image/svg+xml": [
      "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"
     ]
    }
   },
   "cell_type": "markdown",
   "metadata": {
    "cell_style": "split",
    "slideshow": {
     "slide_type": "fragment"
    }
   },
   "source": [
    "![gcp_training_options-overview.svg](attachment:gcp_training_options-overview.svg)"
   ]
  },
  {
   "cell_type": "markdown",
   "metadata": {
    "cell_style": "split",
    "slideshow": {
     "slide_type": "fragment"
    }
   },
   "source": [
    "- Environment Variables with absolut paths to relevant folders: \n",
    "    - `PWD`: where your project folder lies\n",
    "    - `PKG_NAME`: Self-Contained Package to be exported into `site-packages` in `venv`\n",
    "    - `trained`: Where to store checkpoints (logs, weights, graph)"
   ]
  },
  {
   "cell_type": "code",
   "execution_count": 99,
   "metadata": {
    "cell_style": "center",
    "slideshow": {
     "slide_type": "fragment"
    }
   },
   "outputs": [
    {
     "name": "stdout",
     "output_type": "stream",
     "text": [
      "Working Directory:     /home/enryh/proj_DL_models_and_pipelines_with_GCP\n",
      "Local data Directory:  /home/enryh/proj_DL_models_and_pipelines_with_GCP/data\n",
      "Package Directory:     /home/enryh/proj_DL_models_and_pipelines_with_GCP/src/pkg_mnist_fnn\n",
      "Saved Model Directory: /home/enryh/proj_DL_models_and_pipelines_with_GCP/src/pkg_mnist_fnn/trained/\n",
      "Erased previously saved models\n"
     ]
    }
   ],
   "source": [
    "%%bash\n",
    "echo \"Working Directory:     $PWD\"\n",
    "echo \"Local data Directory:  $PWD/data\"\n",
    "echo \"Package Directory:     $PWD/src/$PKG_NAME\"\n",
    "echo \"Saved Model Directory: $PWD/src/$PKG_NAME/trained/\"\n",
    "rm -rf $PWD/src/$PKG_NAME/trained/ # start fresh\n",
    "echo \"Erased previously saved models\""
   ]
  },
  {
   "cell_type": "code",
   "execution_count": 9,
   "metadata": {},
   "outputs": [
    {
     "name": "stdout",
     "output_type": "stream",
     "text": [
      "Microsoft Windows [Version 10.0.17763.864]\n",
      "(c) 2018 Microsoft Corporation. All rights reserved.\n",
      "\n",
      "(gcp_dl) c:\\Users\\kzl465\\Documents\\gcp_ml_engine_talk>echo \"Working Directory:     %cd%\"\n",
      "\"Working Directory:     c:\\Users\\kzl465\\Documents\\gcp_ml_engine_talk\"\n",
      "\n",
      "(gcp_dl) c:\\Users\\kzl465\\Documents\\gcp_ml_engine_talk>echo \"Local data Directory:  %cd%/data\"\n",
      "\"Local data Directory:  c:\\Users\\kzl465\\Documents\\gcp_ml_engine_talk/data\"\n",
      "\n",
      "(gcp_dl) c:\\Users\\kzl465\\Documents\\gcp_ml_engine_talk>echo \"Package Directory:     %cd%/src/%PKG_NAME%\"\n",
      "\"Package Directory:     c:\\Users\\kzl465\\Documents\\gcp_ml_engine_talk/src/pkg_mnist_fnn\"\n",
      "\n",
      "(gcp_dl) c:\\Users\\kzl465\\Documents\\gcp_ml_engine_talk>echo \"Saved Model Directory: %cd%/trained/%PKG_NAME%/trained/\"\n",
      "\"Saved Model Directory: c:\\Users\\kzl465\\Documents\\gcp_ml_engine_talk/trained/pkg_mnist_fnn/trained/\"\n",
      "\n",
      "(gcp_dl) c:\\Users\\kzl465\\Documents\\gcp_ml_engine_talk>rm -rf %PWD%/trained/%PKG_NAME%/trained/ # start fresh\n",
      "\n",
      "(gcp_dl) c:\\Users\\kzl465\\Documents\\gcp_ml_engine_talk>echo \"Erased previously saved models\"\n",
      "\"Erased previously saved models\"\n",
      "\n",
      "(gcp_dl) c:\\Users\\kzl465\\Documents\\gcp_ml_engine_talk>"
     ]
    }
   ],
   "source": [
    "%%cmd\n",
    "echo \"Working Directory:     %cd%\"\n",
    "echo \"Local data Directory:  %cd%/data\"\n",
    "echo \"Package Directory:     %cd%/src/%PKG_NAME%\"\n",
    "echo \"Saved Model Directory: %cd%/trained/%PKG_NAME%/trained/\"\n",
    "rm -rf %PWD%/trained/%PKG_NAME%/trained/ # start fresh\n",
    "echo \"Erased previously saved models\""
   ]
  },
  {
   "cell_type": "markdown",
   "metadata": {
    "slideshow": {
     "slide_type": "subslide"
    }
   },
   "source": [
    "## 1. Running the Python `module` without gcp ml-engine\n",
    "\n",
    "- Entry point is defined in `task.py`\n",
    "  - parses command line arguments \n",
    "- conda env has to be active"
   ]
  },
  {
   "cell_type": "code",
   "execution_count": 100,
   "metadata": {
    "code_folding": [],
    "slideshow": {
     "slide_type": "fragment"
    }
   },
   "outputs": [
    {
     "name": "stdout",
     "output_type": "stream",
     "text": [
      "Python Package Path: src.pkg_mnist_fnn.task\n"
     ]
    }
   ],
   "source": [
    "%%bash\n",
    "conda activate gcp_dl\n",
    "rm -rf $PKG_NAME.tar.gz ${PWD}/$PKG_NAME/trained\n",
    "export PYTHONPATH=${PYTHONPATH}:${PWD}/../  \n",
    "echo \"Python Package Path: src.${PKG_NAME}.task\""
   ]
  },
  {
   "cell_type": "code",
   "execution_count": 57,
   "metadata": {},
   "outputs": [
    {
     "name": "stdout",
     "output_type": "stream",
     "text": [
      "Microsoft Windows [Version 10.0.17763.864]\n",
      "(c) 2018 Microsoft Corporation. All rights reserved.\n",
      "\n",
      "(env_gcp_dl) c:\\Users\\kzl465\\Documents\\gcp_ml_engine_talk>conda activate activate gcp_dl\n",
      "\n",
      "(env_gcp_dl) c:\\Users\\kzl465\\Documents\\gcp_ml_engine_talk>rm -rf %PKG_NAME%.tar.gz %PWD%/%PKG_NAME%/trained\n",
      "\n",
      "(env_gcp_dl) c:\\Users\\kzl465\\Documents\\gcp_ml_engine_talk>#export PYTHONPATH=%PYTHONPATH%:%cd%/../  \n",
      "\n",
      "(env_gcp_dl) c:\\Users\\kzl465\\Documents\\gcp_ml_engine_talk>echo \"Python Package Path: src.%PKG_NAME%.task\"\n",
      "\"Python Package Path: src.pkg_mnist_fnn.task\"\n",
      "\n",
      "(env_gcp_dl) c:\\Users\\kzl465\\Documents\\gcp_ml_engine_talk>"
     ]
    },
    {
     "name": "stderr",
     "output_type": "stream",
     "text": [
      "Could not find conda environment: gcp_dl\n",
      "You can list all discoverable environments with `conda info --envs`.\n",
      "\n",
      "'#export' is not recognized as an internal or external command,\n",
      "operable program or batch file.\n"
     ]
    }
   ],
   "source": [
    "%%cmd\n",
    "conda activate activate gcp_dl\n",
    "rm -rf %PKG_NAME%.tar.gz %PWD%/%PKG_NAME%/trained\n",
    "#export PYTHONPATH=%PYTHONPATH%:%cd%/../  \n",
    "echo \"Python Package Path: src.%PKG_NAME%.task\""
   ]
  },
  {
   "cell_type": "code",
   "execution_count": 125,
   "metadata": {
    "cell_style": "center",
    "slideshow": {
     "slide_type": "fragment"
    }
   },
   "outputs": [
    {
     "name": "stdout",
     "output_type": "stream",
     "text": [
      "Saved model: /home/enryh/proj_DL_models_and_pipelines_with_GCP/src/pkg_mnist_fnn/trained/export/exporter/ \n"
     ]
    }
   ],
   "source": [
    "%%bash\n",
    "conda activate env_gcp_dl\n",
    "python -m src.${PKG_NAME}.task \\\n",
    "   --data_path=\"${PWD}/data\" \\\n",
    "   --output_dir=${PWD}/src/${PKG_NAME}/trained \\\n",
    "   --train_steps=1000 \\\n",
    "   --job_dir=tmp\n",
    "echo \"Saved model: ${PWD}/src/${PKG_NAME}/trained/export/exporter/ \""
   ]
  },
  {
   "cell_type": "code",
   "execution_count": 14,
   "metadata": {
    "slideshow": {
     "slide_type": "fragment"
    }
   },
   "outputs": [
    {
     "name": "stdout",
     "output_type": "stream",
     "text": [
      "Microsoft Windows [Version 10.0.17763.864]\n",
      "(c) 2018 Microsoft Corporation. All rights reserved.\n",
      "\n",
      "(gcp_dl) c:\\Users\\kzl465\\Documents\\gcp_ml_engine_talk>conda activate activate env_gcp_dl\n",
      "\n",
      "(env_gcp_dl) c:\\Users\\kzl465\\Documents\\gcp_ml_engine_talk>python -m src.%PKG_NAME%.task ^\n",
      "More?    --data_path=\"%cd%\\data\" ^\n",
      "More?    --output_dir=%cd%\\trained\\%PKG_NAME%\\script ^\n",
      "More?    --train_steps=1000 ^\n",
      "More?    --job_dir=tmp\n",
      "\n",
      "(env_gcp_dl) c:\\Users\\kzl465\\Documents\\gcp_ml_engine_talk>echo \"Saved model: %cd%\\trained\\%PKG_NAME%\\trained\\export\\exporter\\ \"\n",
      "\"Saved model: c:\\Users\\kzl465\\Documents\\gcp_ml_engine_talk\\trained\\pkg_mnist_fnn\\trained\\export\\exporter\\ \"\n",
      "\n",
      "(env_gcp_dl) c:\\Users\\kzl465\\Documents\\gcp_ml_engine_talk>"
     ]
    }
   ],
   "source": [
    "%%cmd\n",
    "conda activate activate env_gcp_dl\n",
    "python -m src.%PKG_NAME%.task ^\n",
    "   --data_path=\"%cd%\\data\" ^\n",
    "   --output_dir=%cd%\\trained\\%PKG_NAME%\\script ^\n",
    "   --train_steps=1000 ^\n",
    "   --job_dir=tmp\n",
    "echo \"Saved model: %cd%\\trained\\%PKG_NAME%\\trained\\export\\exporter\\ \""
   ]
  },
  {
   "cell_type": "markdown",
   "metadata": {
    "slideshow": {
     "slide_type": "subslide"
    }
   },
   "source": [
    "#### Saved Model"
   ]
  },
  {
   "cell_type": "code",
   "execution_count": 136,
   "metadata": {
    "cell_style": "split",
    "slideshow": {
     "slide_type": "fragment"
    }
   },
   "outputs": [
    {
     "name": "stdout",
     "output_type": "stream",
     "text": [
      "Date as integer: 1551195228\n",
      "\n",
      "Tue Feb 26 16:33:48 CET 2019\n"
     ]
    }
   ],
   "source": [
    "%%bash\n",
    "DATE=$(ls $PWD/src/$PKG_NAME/trained/export/exporter/ |tail -1)\n",
    "echo \"Date as integer: $DATE\"\n",
    "echo \n",
    "date -d @${DATE}"
   ]
  },
  {
   "cell_type": "code",
   "execution_count": 10,
   "metadata": {
    "slideshow": {
     "slide_type": "fragment"
    }
   },
   "outputs": [
    {
     "name": "stdout",
     "output_type": "stream",
     "text": [
      "Microsoft Windows [Version 10.0.17763.864]\n",
      "(c) 2018 Microsoft Corporation. All rights reserved.\n",
      "\n",
      "(gcp_dl) c:\\Users\\kzl465\\Documents\\gcp_ml_engine_talk>dir %cd%\\trained\\%PKG_NAME%\\script\\export\\exporter\\\n",
      " Volume in drive C is OSDisk\n",
      " Volume Serial Number is F84C-EE4C\n",
      "\n",
      " Directory of c:\\Users\\kzl465\\Documents\\gcp_ml_engine_talk\\trained\\pkg_mnist_fnn\\script\\export\\exporter\n",
      "\n",
      "27-11-2019  10:06    <DIR>          .\n",
      "27-11-2019  10:06    <DIR>          ..\n",
      "27-11-2019  10:06    <DIR>          1574845584\n",
      "               0 File(s)              0 bytes\n",
      "               3 Dir(s)  19.413.389.312 bytes free\n",
      "\n",
      "(gcp_dl) c:\\Users\\kzl465\\Documents\\gcp_ml_engine_talk>"
     ]
    }
   ],
   "source": [
    "%%cmd\n",
    "dir %cd%\\trained\\%PKG_NAME%\\script\\export\\exporter\\"
   ]
  },
  {
   "cell_type": "markdown",
   "metadata": {
    "cell_style": "split",
    "slideshow": {
     "slide_type": "fragment"
    }
   },
   "source": [
    "#### And we would be ready to deploy\n",
    "\n",
    "... but of course not without looking at performance metrics or predictions!"
   ]
  },
  {
   "cell_type": "markdown",
   "metadata": {
    "slideshow": {
     "slide_type": "subslide"
    }
   },
   "source": [
    "## 2. Training using `gcloud ml-engine local train`\n",
    "\n",
    "- continue training using `ml-engine local`"
   ]
  },
  {
   "cell_type": "code",
   "execution_count": 105,
   "metadata": {
    "slideshow": {
     "slide_type": "fragment"
    }
   },
   "outputs": [],
   "source": [
    "%%bash\n",
    "conda activate gcp_dl\n",
    "gcloud ml-engine local train \\\n",
    "   --module-name=${PKG_NAME}.task \\\n",
    "   --package-path=${PWD}/src/${PKG_NAME} \\\n",
    "   -- \\\n",
    "   --data_path=\"${PWD}/data\" \\\n",
    "   --output_dir=${PWD}/trained/${PKG_NAME}/local \\\n",
    "   --train_steps=2000 \\\n",
    "   --job_dir=./tmp"
   ]
  },
  {
   "cell_type": "code",
   "execution_count": 15,
   "metadata": {},
   "outputs": [
    {
     "name": "stdout",
     "output_type": "stream",
     "text": [
      "Microsoft Windows [Version 10.0.17763.864]\n",
      "(c) 2018 Microsoft Corporation. All rights reserved.\n",
      "\n",
      "(gcp_dl) c:\\Users\\kzl465\\Documents\\gcp_ml_engine_talk>conda activate gcp_dl\n",
      "\n",
      "(gcp_dl) c:\\Users\\kzl465\\Documents\\gcp_ml_engine_talk>gcloud ml-engine local train ^\n",
      "More?    --module-name=%PKG_NAME%.task ^\n",
      "More?    --package-path=%cd%\\src\\%PKG_NAME% ^\n",
      "More?    -- ^\n",
      "More?    --data_path=\"%cd%\\data\" ^\n",
      "More?    --output_dir=%cd%\\trained\\%PKG_NAME%\\trained ^\n",
      "More?    --train_steps=2000 ^\n",
      "More?    --job_dir=.\\tmp\n",
      "\n",
      "(gcp_dl) c:\\Users\\kzl465\\Documents\\gcp_ml_engine_talk>"
     ]
    },
    {
     "name": "stderr",
     "output_type": "stream",
     "text": [
      "WARNING: The `gcloud ml-engine` commands have been renamed and will soon be removed. Please use `gcloud ai-platform` instead.\n",
      "WARNING:tensorflow:enqueue_data was called with num_epochs and num_threads > 1. num_epochs is applied per thread, so this will produce more epochs than you probably intend. If you want to limit epochs, use one thread.\n",
      "WARNING:tensorflow:enqueue_data was called with shuffle=True, num_threads > 1, and num_epochs. This will create multiple threads, all reading the array/dataframe in order adding to the same shuffling queue; the results will likely not be sufficiently shuffled.\n",
      "WARNING:tensorflow:From C:\\Users\\kzl465\\AppData\\Local\\Continuum\\anaconda3\\envs\\gcp_dl\\lib\\site-packages\\tensorflow\\python\\estimator\\inputs\\queues\\feeding_queue_runner.py:62: QueueRunner.__init__ (from tensorflow.python.training.queue_runner_impl) is deprecated and will be removed in a future version.\n",
      "Instructions for updating:\n",
      "To construct input pipelines, use the `tf.data` module.\n",
      "WARNING:tensorflow:From C:\\Users\\kzl465\\AppData\\Local\\Continuum\\anaconda3\\envs\\gcp_dl\\lib\\site-packages\\tensorflow\\python\\estimator\\inputs\\queues\\feeding_functions.py:500: add_queue_runner (from tensorflow.python.training.queue_runner_impl) is deprecated and will be removed in a future version.\n",
      "Instructions for updating:\n",
      "To construct input pipelines, use the `tf.data` module.\n",
      "2019-11-27 10:53:54.667011: I tensorflow/core/platform/cpu_feature_guard.cc:141] Your CPU supports instructions that this TensorFlow binary was not compiled to use: AVX AVX2\n",
      "2019-11-27 10:53:54.669863: I tensorflow/core/common_runtime/process_util.cc:69] Creating new thread pool with default inter op setting: 8. Tune using inter_op_parallelism_threads for best performance.\n",
      "WARNING:tensorflow:From C:\\Users\\kzl465\\AppData\\Local\\Continuum\\anaconda3\\envs\\gcp_dl\\lib\\site-packages\\tensorflow\\python\\training\\monitored_session.py:804: start_queue_runners (from tensorflow.python.training.queue_runner_impl) is deprecated and will be removed in a future version.\n",
      "Instructions for updating:\n",
      "To construct input pipelines, use the `tf.data` module.\n",
      "WARNING:tensorflow:Export includes no default signature!\n",
      "WARNING:tensorflow:From C:\\Users\\kzl465\\AppData\\Local\\Continuum\\anaconda3\\envs\\gcp_dl\\lib\\site-packages\\tensorflow\\python\\estimator\\estimator.py:1044: calling SavedModelBuilder.add_meta_graph_and_variables (from tensorflow.python.saved_model.builder_impl) with legacy_init_op is deprecated and will be removed in a future version.\n",
      "Instructions for updating:\n",
      "Pass your op to the equivalent parameter main_op instead.\n"
     ]
    }
   ],
   "source": [
    "%%cmd\n",
    "conda activate gcp_dl\n",
    "gcloud ml-engine local train ^\n",
    "   --module-name=%PKG_NAME%.task ^\n",
    "   --package-path=%cd%\\src\\%PKG_NAME% ^\n",
    "   -- ^\n",
    "   --data_path=\"%cd%\\data\" ^\n",
    "   --output_dir=%cd%\\trained\\%PKG_NAME%\\local ^\n",
    "   --train_steps=2000 ^\n",
    "   --job_dir=.\\tmp"
   ]
  },
  {
   "cell_type": "code",
   "execution_count": 16,
   "metadata": {
    "slideshow": {
     "slide_type": "fragment"
    }
   },
   "outputs": [
    {
     "name": "stdout",
     "output_type": "stream",
     "text": [
      "NAME\n",
      "    gcloud ml-engine local train - run an AI Platform training job locally\n",
      "\n",
      "SYNOPSIS\n",
      "    gcloud ml-engine local train --module-name=MODULE_NAME [--distributed]\n",
      "        [--job-dir=JOB_DIR] [--package-path=PACKAGE_PATH]\n",
      "        [--parameter-server-count=PARAMETER_SERVER_COUNT]\n",
      "        [--start-port=START_PORT; default=27182] [--worker-count=WORKER_COUNT]\n",
      "        [GCLOUD_WIDE_FLAG ...] [-- USER_ARGS ...]\n",
      "\n",
      "DESCRIPTION\n",
      "    This command runs the specified module in an environment similar to that of\n",
      "    a live AI Platform Training Job.\n",
      "\n",
      "    This is especially useful in the case of testing distributed models, as it\n",
      "    allows you to validate that you are properly interacting with the AI\n",
      "    Platform cluster configuration. If your model expects a specific number of\n",
      "    parameter servers or workers (i.e. you expect to use the CUSTOM machine\n",
      "    type), use the --parameter-server-count and --worker-count flags to further\n",
      "    specify the desired cluster configuration, just as you would in your cloud\n",
      "    training job configuration:\n",
      "\n",
      "        $ gcloud ml-engine local train --module-name trainer.task \\\n",
      "                --package-path /path/to/my/code/trainer \\\n",
      "                --distributed \\\n",
      "                --parameter-server-count 4 \\\n",
      "                --worker-count 8\n",
      "\n",
      "    Unlike submitting a training job, the --package-path parameter can be\n",
      "    omitted, and will use your current working directory.\n",
      "\n",
      "POSITIONAL ARGUMENTS\n",
      "     [-- USER_ARGS ...]\n",
      "        Additional user arguments to be forwarded to user code. Any relative\n",
      "        paths will be relative to the parent directory of --package-path.\n",
      "\n",
      "        The '--' argument must be specified between gcloud specific args on the\n",
      "        left and USER_ARGS on the right.\n",
      "\n",
      "REQUIRED FLAGS\n",
      "     --module-name=MODULE_NAME\n",
      "        Name of the module to run.\n",
      "\n",
      "OPTIONAL FLAGS\n",
      "     --distributed\n",
      "        Runs the provided code in distributed mode by providing cluster\n",
      "        configurations as environment variables to subprocesses\n",
      "\n",
      "     --job-dir=JOB_DIR\n",
      "        Google Cloud Storage path or local_directory in which to store training\n",
      "        outputs and other data needed for training.\n",
      "\n",
      "        This path will be passed to your TensorFlow program as the --job_dir\n",
      "        command-line arg. The benefit of specifying this field is that AI\n",
      "        Platform will validate the path for use in training.\n",
      "\n",
      "     --package-path=PACKAGE_PATH\n",
      "        Path to a Python package to build. This should point to a directory\n",
      "        containing the Python source for the job. It will be built using\n",
      "        setuptools (which must be installed) using its parent directory as\n",
      "        context. If the parent directory contains a setup.py file, the build\n",
      "        will use that; otherwise, it will use a simple built-in one.\n",
      "\n",
      "     --parameter-server-count=PARAMETER_SERVER_COUNT\n",
      "        Number of parameter servers with which to run. Ignored if --distributed\n",
      "        is not specified. Default: 2\n",
      "\n",
      "     --start-port=START_PORT; default=27182\n",
      "        Start of the range of ports reserved by the local cluster. This command\n",
      "        will use a contiguous block of ports equal to parameter-server-count +\n",
      "        worker-count + 1.\n",
      "\n",
      "        If --distributed is not specified, this flag is ignored.\n",
      "\n",
      "     --worker-count=WORKER_COUNT\n",
      "        Number of workers with which to run. Ignored if --distributed is not\n",
      "        specified. Default: 2\n",
      "\n",
      "GCLOUD WIDE FLAGS\n",
      "    These flags are available to all commands: --account, --billing-project,\n",
      "    --configuration, --flags-file, --flatten, --format, --help,\n",
      "    --impersonate-service-account, --log-http, --project, --quiet,\n",
      "    --trace-token, --user-output-enabled, --verbosity. Run $ gcloud help for\n",
      "    details.\n",
      "\n",
      "NOTES\n",
      "    This variant is also available:\n",
      "\n",
      "        $ gcloud beta ml-engine local train\n",
      "\n"
     ]
    }
   ],
   "source": [
    "!gcloud ml-engine local train  --help"
   ]
  },
  {
   "cell_type": "markdown",
   "metadata": {
    "slideshow": {
     "slide_type": "subslide"
    }
   },
   "source": [
    "## Training Cloud using `gcloud ml-engine train`\n",
    "\n",
    "- a copy of the data is in Google Storage (buckets)\n",
    "- `gcloud ml-engine` output is saved to `OUTDIR`in Google Storage \n",
    "  - checkpoints (logs)\n",
    "  - model graph and weights\n",
    "- data is copied to Google Storage\n",
    "  \n",
    "> NOTE: No with-spaces behind line break symbol **\\**\n"
   ]
  },
  {
   "cell_type": "code",
   "execution_count": null,
   "metadata": {},
   "outputs": [],
   "source": []
  },
  {
   "cell_type": "code",
   "execution_count": 17,
   "metadata": {
    "slideshow": {
     "slide_type": "skip"
    }
   },
   "outputs": [
    {
     "name": "stderr",
     "output_type": "stream",
     "text": [
      "CommandException: 1 files/objects could not be removed.\n"
     ]
    }
   ],
   "source": [
    "!gsutil -m rm -rf gs://$BUCKET/$PKG_NAME/*"
   ]
  },
  {
   "cell_type": "code",
   "execution_count": 18,
   "metadata": {
    "code_folding": [
     0
    ],
    "slideshow": {
     "slide_type": "skip"
    }
   },
   "outputs": [
    {
     "name": "stdout",
     "output_type": "stream",
     "text": [
      "Number of epochs using 10000 steps: 21.3\n",
      "For ten epochs specify 4688 steps\n"
     ]
    }
   ],
   "source": [
    "# 10 epochs in global steps:\n",
    "\n",
    "steps = 10000\n",
    "batch_size = 128\n",
    "n_train = 60000\n",
    "print(\"Number of epochs using {} steps: {:.1f}\".format(steps, steps * batch_size / n_train))\n",
    "steps = int(60000 / 128 * 10) + 1\n",
    "print(\"For ten epochs specify {} steps\".format(steps))"
   ]
  },
  {
   "cell_type": "code",
   "execution_count": 19,
   "metadata": {
    "slideshow": {
     "slide_type": "fragment"
    }
   },
   "outputs": [],
   "source": [
    "OUTDIR = '/'.join(['gs:/', BUCKET, PKG_NAME, 'trained'])\n",
    "os.environ['OUTDIR'] = OUTDIR"
   ]
  },
  {
   "cell_type": "code",
   "execution_count": 139,
   "metadata": {
    "slideshow": {
     "slide_type": "fragment"
    }
   },
   "outputs": [
    {
     "name": "stdout",
     "output_type": "stream",
     "text": [
      "Copying file:///home/enryh/proj_DL_models_and_pipelines_with_GCP/data/mnist/raw/mnist.npz [Content-Type=application/octet-stream]...\n",
      "/ [1/1 files][ 11.0 MiB/ 11.0 MiB] 100% Done                                    \n",
      "Operation completed over 1 objects/11.0 MiB.                                     \n"
     ]
    }
   ],
   "source": [
    "!gsutil -m cp ${PWD}/data/mnist/raw/mnist.npz gs://${BUCKET}/$PKG_NAME/data/mnist.npz"
   ]
  },
  {
   "cell_type": "code",
   "execution_count": 23,
   "metadata": {},
   "outputs": [
    {
     "name": "stderr",
     "output_type": "stream",
     "text": [
      "Copying file://c:\\Users\\kzl465\\Documents\\gcp_ml_engine_talk\\data\\mnist\\raw\\mnist.npz [Content-Type=application/octet-stream]...\n",
      "/ [0/1 files][    0.0 B/ 11.0 MiB]   0% Done                                    \n",
      "-\n",
      "- [0/1 files][  1.3 MiB/ 11.0 MiB]  11% Done                                    \n",
      "\\\n",
      "|\n",
      "| [0/1 files][  4.9 MiB/ 11.0 MiB]  44% Done                                    \n",
      "/\n",
      "/ [0/1 files][  8.5 MiB/ 11.0 MiB]  77% Done                                    \n",
      "-\n",
      "\\\n",
      "\\ [1/1 files][ 11.0 MiB/ 11.0 MiB] 100% Done                                    \n",
      "\n",
      "Operation completed over 1 objects/11.0 MiB.                                     \n"
     ]
    }
   ],
   "source": [
    "!gsutil -m cp %cd%\\data\\mnist\\raw\\mnist.npz gs://%BUCKET%/%PKG_NAME%/data/mnist.npz"
   ]
  },
  {
   "cell_type": "code",
   "execution_count": 107,
   "metadata": {
    "slideshow": {
     "slide_type": "fragment"
    }
   },
   "outputs": [
    {
     "name": "stdout",
     "output_type": "stream",
     "text": [
      "gs://ml-productive-pipeline-53122/pkg_mnist_fnn/trained europe-west1 mnist_190226_153903\n",
      "jobId: mnist_190226_153903\n",
      "state: QUEUED\n"
     ]
    },
    {
     "name": "stderr",
     "output_type": "stream",
     "text": [
      "Removing gs://ml-productive-pipeline-53122/pkg_mnist_fnn/trained/#1551189625396791...\n",
      "Removing gs://ml-productive-pipeline-53122/pkg_mnist_fnn/trained/checkpoint#1551189632535194...\n",
      "Removing gs://ml-productive-pipeline-53122/pkg_mnist_fnn/trained/eval/events.out.tfevents.1551189555.cmle-training-15024654005366275538#1551189558325794...\n",
      "Removing gs://ml-productive-pipeline-53122/pkg_mnist_fnn/trained/eval/#1551189555184899...\n",
      "Removing gs://ml-productive-pipeline-53122/pkg_mnist_fnn/trained/events.out.tfevents.1551189473.cmle-training-15024654005366275538#1551189583874752...\n",
      "Removing gs://ml-productive-pipeline-53122/pkg_mnist_fnn/trained/eval/events.out.tfevents.1551189639.cmle-training-2556488161313260297#1551189642061761...\n",
      "Removing gs://ml-productive-pipeline-53122/pkg_mnist_fnn/trained/events.out.tfevents.1551189596.cmle-training-2556488161313260297#1551189666903395...\n",
      "Removing gs://ml-productive-pipeline-53122/pkg_mnist_fnn/trained/export/#1551189561488413...\n",
      "Removing gs://ml-productive-pipeline-53122/pkg_mnist_fnn/trained/export/exporter/#1551189561930742...\n",
      "Removing gs://ml-productive-pipeline-53122/pkg_mnist_fnn/trained/export/exporter/1551189558/#1551189578467590...\n",
      "Removing gs://ml-productive-pipeline-53122/pkg_mnist_fnn/trained/export/exporter/1551189558/saved_model.pb#1551189579369771...\n",
      "Removing gs://ml-productive-pipeline-53122/pkg_mnist_fnn/trained/export/exporter/1551189558/variables/#1551189580145479...\n",
      "Removing gs://ml-productive-pipeline-53122/pkg_mnist_fnn/trained/export/exporter/1551189558/variables/variables.data-00000-of-00002#1551189580902060...\n",
      "Removing gs://ml-productive-pipeline-53122/pkg_mnist_fnn/trained/export/exporter/1551189558/variables/variables.data-00001-of-00002#1551189581654534...\n",
      "Removing gs://ml-productive-pipeline-53122/pkg_mnist_fnn/trained/export/exporter/1551189558/variables/variables.index#1551189582521472...\n",
      "Removing gs://ml-productive-pipeline-53122/pkg_mnist_fnn/trained/export/exporter/1551189642/#1551189661837384...\n",
      "Removing gs://ml-productive-pipeline-53122/pkg_mnist_fnn/trained/export/exporter/1551189642/saved_model.pb#1551189662793564...\n",
      "Removing gs://ml-productive-pipeline-53122/pkg_mnist_fnn/trained/export/exporter/1551189642/variables/#1551189663449590...\n",
      "Removing gs://ml-productive-pipeline-53122/pkg_mnist_fnn/trained/export/exporter/1551189642/variables/variables.index#1551189665619460...\n",
      "Removing gs://ml-productive-pipeline-53122/pkg_mnist_fnn/trained/model.ckpt-5000.meta#1551189634748866...\n",
      "Removing gs://ml-productive-pipeline-53122/pkg_mnist_fnn/trained/export/exporter/1551189642/variables/variables.data-00000-of-00002#1551189664267142...\n",
      "Removing gs://ml-productive-pipeline-53122/pkg_mnist_fnn/trained/graph.pbtxt#1551189602344262...\n",
      "Removing gs://ml-productive-pipeline-53122/pkg_mnist_fnn/trained/model.ckpt-0.meta#1551189493691405...\n",
      "Removing gs://ml-productive-pipeline-53122/pkg_mnist_fnn/trained/model.ckpt-4688.index#1551189612271370...\n",
      "Removing gs://ml-productive-pipeline-53122/pkg_mnist_fnn/trained/model.ckpt-4688.data-00000-of-00002#1551189611405397...\n",
      "Removing gs://ml-productive-pipeline-53122/pkg_mnist_fnn/trained/model.ckpt-4688.meta#1551189617251951...\n",
      "Removing gs://ml-productive-pipeline-53122/pkg_mnist_fnn/trained/model.ckpt-4688.data-00001-of-00002#1551189610417126...\n",
      "Removing gs://ml-productive-pipeline-53122/pkg_mnist_fnn/trained/model.ckpt-5000.data-00000-of-00002#1551189628756071...\n",
      "Removing gs://ml-productive-pipeline-53122/pkg_mnist_fnn/trained/export/exporter/1551189642/variables/variables.data-00001-of-00002#1551189664913689...\n",
      "Removing gs://ml-productive-pipeline-53122/pkg_mnist_fnn/trained/model.ckpt-5000.data-00001-of-00002#1551189627714925...\n",
      "Removing gs://ml-productive-pipeline-53122/pkg_mnist_fnn/trained/model.ckpt-5000.index#1551189629641380...\n",
      "/ [31/31 objects] 100% Done                                                     \n",
      "Operation completed over 31 objects.                                             \n",
      "Job [mnist_190226_153903] submitted successfully.\n",
      "Your job is still active. You may view the status of your job with the command\n",
      "\n",
      "  $ gcloud ml-engine jobs describe mnist_190226_153903\n",
      "\n",
      "or continue streaming the logs with the command\n",
      "\n",
      "  $ gcloud ml-engine jobs stream-logs mnist_190226_153903\n"
     ]
    }
   ],
   "source": [
    "%%bash\n",
    "OUTDIR=gs://${BUCKET}/$PKG_NAME/trained\n",
    "JOBNAME=mnist_$(date -u +%y%m%d_%H%M%S)\n",
    "echo $OUTDIR $REGION $JOBNAME\n",
    "gsutil -m rm -rf $OUTDIR\n",
    "gcloud ml-engine jobs submit training $JOBNAME \\\n",
    "   --region=$REGION \\\n",
    "   --module-name=$PKG_NAME.task \\\n",
    "   --package-path=${PWD}/src/$PKG_NAME \\\n",
    "   --staging-bucket=gs://$BUCKET \\\n",
    "   --scale-tier=BASIC \\\n",
    "   --python-version 3.5 \\\n",
    "   --runtime-version=$TFVERSION \\\n",
    "   -- \\\n",
    "   --data_path=\"gs://${BUCKET}/$PKG_NAME/data/\" \\\n",
    "   --output_dir=$OUTDIR \\\n",
    "   --train_steps=5000 \\\n",
    "   --job_dir=$OUTDIR/jobs "
   ]
  },
  {
   "cell_type": "code",
   "execution_count": 34,
   "metadata": {},
   "outputs": [
    {
     "name": "stdout",
     "output_type": "stream",
     "text": [
      "Windows PowerShell \n",
      "Copyright (C) Microsoft Corporation. All rights reserved.\n",
      "\n",
      "(base) PS C:\\Users\\kzl465\\Documents\\gcp_ml_engine_talk> date +%y%m%d_%H%M%S\n",
      "191127_122505\n",
      "(base) PS C:\\Users\\kzl465\\Documents\\gcp_ml_engine_talk> "
     ]
    },
    {
     "name": "stderr",
     "output_type": "stream",
     "text": [
      "Loading personal and system profiles took 1105ms.\n"
     ]
    }
   ],
   "source": [
    "%%script powershell\n",
    "date +%y%m%d_%H%M%S"
   ]
  },
  {
   "cell_type": "code",
   "execution_count": 31,
   "metadata": {},
   "outputs": [],
   "source": [
    "%qtconsole"
   ]
  },
  {
   "cell_type": "code",
   "execution_count": 36,
   "metadata": {},
   "outputs": [
    {
     "name": "stdout",
     "output_type": "stream",
     "text": [
      "Microsoft Windows [Version 10.0.17763.864]\n",
      "(c) 2018 Microsoft Corporation. All rights reserved.\n",
      "\n",
      "(gcp_dl) c:\\Users\\kzl465\\Documents\\gcp_ml_engine_talk>set OUTDIR=gs://%BUCKET%/%PKG_NAME%/trained\n",
      "\n",
      "(gcp_dl) c:\\Users\\kzl465\\Documents\\gcp_ml_engine_talk>set JOBNAME=mnist_201911271216\n",
      "\n",
      "(gcp_dl) c:\\Users\\kzl465\\Documents\\gcp_ml_engine_talk>echo %OUTDIR% %REGION% %JOBNAME%\n",
      "gs://bold-circuit-254311/pkg_mnist_fnn/trained europe-west1 mnist_201911271216\n",
      "\n",
      "(gcp_dl) c:\\Users\\kzl465\\Documents\\gcp_ml_engine_talk>gsutil -m rm -rf %OUTDIR%\n",
      "\n",
      "(gcp_dl) c:\\Users\\kzl465\\Documents\\gcp_ml_engine_talk>gcloud ml-engine jobs submit training %JOBNAME% ^\n",
      "More?    --region=%REGION% ^\n",
      "More?    --module-name=%PKG_NAME%.task ^\n",
      "More?    --package-path=%cd%\\src\\%PKG_NAME% ^\n",
      "More?    --staging-bucket=gs://%BUCKET% ^\n",
      "More?    --scale-tier=BASIC ^\n",
      "More?    --python-version 3.5 ^\n",
      "More?    --runtime-version=%TFVERSION% ^\n",
      "More?    -- ^\n",
      "More?    --data_path=\"gs://%BUCKET%/%PKG_NAME%/data/\" ^\n",
      "More?    --output_dir=%OUTDIR% ^\n",
      "More?    --train_steps=5000 ^\n",
      "More?    --job_dir=%OUTDIR%/jobs \n",
      "jobId: mnist_201911271216\n",
      "state: QUEUED\n",
      "\n",
      "(gcp_dl) c:\\Users\\kzl465\\Documents\\gcp_ml_engine_talk>"
     ]
    },
    {
     "name": "stderr",
     "output_type": "stream",
     "text": [
      "CommandException: 1 files/objects could not be removed.\n",
      "WARNING: The `gcloud ml-engine` commands have been renamed and will soon be removed. Please use `gcloud ai-platform` instead.\n",
      "Job [mnist_201911271216] submitted successfully.\n",
      "Your job is still active. You may view the status of your job with the command\n",
      "\n",
      "  $ gcloud ai-platform jobs describe mnist_201911271216\n",
      "\n",
      "or continue streaming the logs with the command\n",
      "\n",
      "  $ gcloud ai-platform jobs stream-logs mnist_201911271216\n"
     ]
    }
   ],
   "source": [
    "%%cmd\n",
    "set OUTDIR=gs://%BUCKET%/%PKG_NAME%/trained\n",
    "#JOBNAME=mnist_$(date -u +%y%m%d_%H%M%S)\n",
    "set JOBNAME=mnist_201911271216\n",
    "echo %OUTDIR% %REGION% %JOBNAME%\n",
    "gsutil -m rm -rf %OUTDIR%\n",
    "gcloud ml-engine jobs submit training %JOBNAME% ^\n",
    "   --region=%REGION% ^\n",
    "   --module-name=%PKG_NAME%.task ^\n",
    "   --package-path=%cd%\\src\\%PKG_NAME% ^\n",
    "   --staging-bucket=gs://%BUCKET% ^\n",
    "   --scale-tier=BASIC ^\n",
    "   --python-version 3.5 ^\n",
    "   --runtime-version=%TFVERSION% ^\n",
    "   -- ^\n",
    "   --data_path=\"gs://%BUCKET%/%PKG_NAME%/data/\" ^\n",
    "   --output_dir=%OUTDIR% ^\n",
    "   --train_steps=5000 ^\n",
    "   --job_dir=%OUTDIR%/jobs "
   ]
  },
  {
   "cell_type": "code",
   "execution_count": 38,
   "metadata": {},
   "outputs": [
    {
     "name": "stdout",
     "output_type": "stream",
     "text": [
      "INFO\t2019-11-27 12:26:15 +0100\tservice\t\tValidating job requirements...\n",
      "INFO\t2019-11-27 12:26:15 +0100\tservice\t\tJob creation request has been successfully validated.\n",
      "INFO\t2019-11-27 12:26:15 +0100\tservice\t\tJob mnist_201911271216 is queued.\n",
      "INFO\t2019-11-27 12:26:16 +0100\tservice\t\tWaiting for job to be provisioned.\n",
      "INFO\t2019-11-27 12:26:19 +0100\tservice\t\tWaiting for training program to start.\n",
      "INFO\t2019-11-27 12:27:49 +0100\tmaster-replica-0\t\tRunning task with arguments: --cluster={\"master\": [\"127.0.0.1:2222\"]} --task={\"type\": \"master\", \"index\": 0} --job={  \"package_uris\": [\"gs://bold-circuit-254311/mnist_201911271216/4cd112f8a7c61f356de65e84f64e8c4994cba72d7f040f6a2fa51b9cc588d860/pkg_mnist_fnn-0.0.0.tar.gz\"],  \"python_module\": \"pkg_mnist_fnn.task\",  \"args\": [\"--data_path\\u003dgs://bold-circuit-254311/pkg_mnist_fnn/data/\", \"--output_dir\\u003dgs://bold-circuit-254311/pkg_mnist_fnn/trained\", \"--train_steps\\u003d5000\", \"--job_dir\\u003dgs://bold-circuit-254311/pkg_mnist_fnn/trained/jobs\"],  \"region\": \"europe-west1\",  \"runtime_version\": \"1.12\",  \"run_on_raw_vm\": true,  \"python_version\": \"3.5\"}\n",
      "INFO\t2019-11-27 12:28:07 +0100\tmaster-replica-0\t\tRunning module pkg_mnist_fnn.task.\n",
      "INFO\t2019-11-27 12:28:07 +0100\tmaster-replica-0\t\tDownloading the package: gs://bold-circuit-254311/mnist_201911271216/4cd112f8a7c61f356de65e84f64e8c4994cba72d7f040f6a2fa51b9cc588d860/pkg_mnist_fnn-0.0.0.tar.gz\n",
      "INFO\t2019-11-27 12:28:07 +0100\tmaster-replica-0\t\tRunning command: gsutil -q cp gs://bold-circuit-254311/mnist_201911271216/4cd112f8a7c61f356de65e84f64e8c4994cba72d7f040f6a2fa51b9cc588d860/pkg_mnist_fnn-0.0.0.tar.gz pkg_mnist_fnn-0.0.0.tar.gz\n",
      "INFO\t2019-11-27 12:28:08 +0100\tmaster-replica-0\t\tInstalling the package: gs://bold-circuit-254311/mnist_201911271216/4cd112f8a7c61f356de65e84f64e8c4994cba72d7f040f6a2fa51b9cc588d860/pkg_mnist_fnn-0.0.0.tar.gz\n",
      "INFO\t2019-11-27 12:28:08 +0100\tmaster-replica-0\t\tRunning command: pip3 install --user --upgrade --force-reinstall --no-deps pkg_mnist_fnn-0.0.0.tar.gz\n",
      "INFO\t2019-11-27 12:28:15 +0100\tmaster-replica-0\t\tProcessing ./pkg_mnist_fnn-0.0.0.tar.gz\n",
      "INFO\t2019-11-27 12:28:23 +0100\tmaster-replica-0\t\tGenerating grammar tables from /usr/lib/python3.5/lib2to3/Grammar.txt\n",
      "INFO\t2019-11-27 12:28:23 +0100\tmaster-replica-0\t\tGenerating grammar tables from /usr/lib/python3.5/lib2to3/PatternGrammar.txt\n",
      "INFO\t2019-11-27 12:28:23 +0100\tmaster-replica-0\t\tBuilding wheels for collected packages: pkg-mnist-fnn\n",
      "INFO\t2019-11-27 12:28:23 +0100\tmaster-replica-0\t\t  Building wheel for pkg-mnist-fnn (setup.py): started\n",
      "INFO\t2019-11-27 12:28:23 +0100\tmaster-replica-0\t\tGenerating grammar tables from /usr/lib/python3.5/lib2to3/Grammar.txt\n",
      "INFO\t2019-11-27 12:28:23 +0100\tmaster-replica-0\t\tGenerating grammar tables from /usr/lib/python3.5/lib2to3/PatternGrammar.txt\n",
      "INFO\t2019-11-27 12:28:23 +0100\tmaster-replica-0\t\t  Building wheel for pkg-mnist-fnn (setup.py): finished with status 'done'\n",
      "INFO\t2019-11-27 12:28:23 +0100\tmaster-replica-0\t\t  Created wheel for pkg-mnist-fnn: filename=pkg_mnist_fnn-0.0.0-cp35-none-any.whl size=4553 sha256=6132f13a6dd364d85da5df29336444d7b9abe10149eb63c9180cdd39277bdd02\n",
      "INFO\t2019-11-27 12:28:23 +0100\tmaster-replica-0\t\t  Stored in directory: /root/.cache/pip/wheels/1a/07/69/18074b1e4bd022717a0b95df967868ee8c62b8952276f00a53\n",
      "INFO\t2019-11-27 12:28:23 +0100\tmaster-replica-0\t\tSuccessfully built pkg-mnist-fnn\n",
      "INFO\t2019-11-27 12:28:23 +0100\tmaster-replica-0\t\tInstalling collected packages: pkg-mnist-fnn\n",
      "INFO\t2019-11-27 12:28:23 +0100\tmaster-replica-0\t\tSuccessfully installed pkg-mnist-fnn-0.0.0\n",
      "INFO\t2019-11-27 12:28:24 +0100\tmaster-replica-0\t\tRunning command: pip3 install --user pkg_mnist_fnn-0.0.0.tar.gz\n",
      "INFO\t2019-11-27 12:28:24 +0100\tmaster-replica-0\t\tProcessing ./pkg_mnist_fnn-0.0.0.tar.gz\n",
      "INFO\t2019-11-27 12:28:25 +0100\tmaster-replica-0\t\tGenerating grammar tables from /usr/lib/python3.5/lib2to3/Grammar.txt\n",
      "INFO\t2019-11-27 12:28:25 +0100\tmaster-replica-0\t\tGenerating grammar tables from /usr/lib/python3.5/lib2to3/PatternGrammar.txt\n",
      "INFO\t2019-11-27 12:28:25 +0100\tmaster-replica-0\t\tBuilding wheels for collected packages: pkg-mnist-fnn\n",
      "INFO\t2019-11-27 12:28:25 +0100\tmaster-replica-0\t\t  Building wheel for pkg-mnist-fnn (setup.py): started\n",
      "INFO\t2019-11-27 12:28:25 +0100\tmaster-replica-0\t\tGenerating grammar tables from /usr/lib/python3.5/lib2to3/Grammar.txt\n",
      "INFO\t2019-11-27 12:28:25 +0100\tmaster-replica-0\t\tGenerating grammar tables from /usr/lib/python3.5/lib2to3/PatternGrammar.txt\n",
      "INFO\t2019-11-27 12:28:25 +0100\tmaster-replica-0\t\t  Building wheel for pkg-mnist-fnn (setup.py): finished with status 'done'\n",
      "INFO\t2019-11-27 12:28:25 +0100\tmaster-replica-0\t\t  Created wheel for pkg-mnist-fnn: filename=pkg_mnist_fnn-0.0.0-cp35-none-any.whl size=4553 sha256=69ca2970ef4c71bf26fac65bbc8923fa929872155e1691df3c27321c1ca73c35\n",
      "INFO\t2019-11-27 12:28:25 +0100\tmaster-replica-0\t\t  Stored in directory: /root/.cache/pip/wheels/1a/07/69/18074b1e4bd022717a0b95df967868ee8c62b8952276f00a53\n",
      "INFO\t2019-11-27 12:28:25 +0100\tmaster-replica-0\t\tSuccessfully built pkg-mnist-fnn\n",
      "INFO\t2019-11-27 12:28:25 +0100\tmaster-replica-0\t\tInstalling collected packages: pkg-mnist-fnn\n",
      "INFO\t2019-11-27 12:28:25 +0100\tmaster-replica-0\t\t  Found existing installation: pkg-mnist-fnn 0.0.0\n",
      "INFO\t2019-11-27 12:28:25 +0100\tmaster-replica-0\t\t    Uninstalling pkg-mnist-fnn-0.0.0:\n",
      "INFO\t2019-11-27 12:28:25 +0100\tmaster-replica-0\t\t      Successfully uninstalled pkg-mnist-fnn-0.0.0\n",
      "INFO\t2019-11-27 12:28:25 +0100\tmaster-replica-0\t\tSuccessfully installed pkg-mnist-fnn-0.0.0\n",
      "INFO\t2019-11-27 12:28:26 +0100\tmaster-replica-0\t\tRunning command: python3 -m pkg_mnist_fnn.task --data_path=gs://bold-circuit-254311/pkg_mnist_fnn/data/ --output_dir=gs://bold-circuit-254311/pkg_mnist_fnn/trained --train_steps=5000 --job_dir=gs://bold-circuit-254311/pkg_mnist_fnn/trained/jobs\n",
      "INFO\t2019-11-27 12:28:27 +0100\tmaster-replica-0\t\tDownloading data from https://storage.googleapis.com/tensorflow/tf-keras-datasets/mnist.npz\n",
      "INFO\t2019-11-27 12:28:27 +0100\tmaster-replica-0\t\t    8192/11490434 [..............................] - ETA: \n",
      "INFO\t2019-11-27 12:28:27 +0100\tmaster-replica-0\t\t 4202496/11490434 [=========>....................] - ETA: \n",
      "INFO\t2019-11-27 12:28:27 +0100\tmaster-replica-0\t\t11493376/11490434 [==============================] - 0s 0us/step\n",
      "INFO\t2019-11-27 12:28:28 +0100\tmaster-replica-0\t\tTF_CONFIG environment variable: {'environment': 'cloud', 'job': {'package_uris': ['gs://bold-circuit-254311/mnist_201911271216/4cd112f8a7c61f356de65e84f64e8c4994cba72d7f040f6a2fa51b9cc588d860/pkg_mnist_fnn-0.0.0.tar.gz'], 'run_on_raw_vm': True, 'region': 'europe-west1', 'args': ['--data_path=gs://bold-circuit-254311/pkg_mnist_fnn/data/', '--output_dir=gs://bold-circuit-254311/pkg_mnist_fnn/trained', '--train_steps=5000', '--job_dir=gs://bold-circuit-254311/pkg_mnist_fnn/trained/jobs'], 'python_version': '3.5', 'runtime_version': '1.12', 'python_module': 'pkg_mnist_fnn.task'}, 'cluster': {'master': ['127.0.0.1:2222']}, 'task': {'type': 'master', 'index': 0, 'cloud': 'n139959b010693440-ml'}}\n",
      "INFO\t2019-11-27 12:28:28 +0100\tmaster-replica-0\t\tUsing default config.\n",
      "INFO\t2019-11-27 12:28:28 +0100\tmaster-replica-0\t\tUsing config: {'_tf_random_seed': None, '_keep_checkpoint_max': 5, '_keep_checkpoint_every_n_hours': 10000, '_num_ps_replicas': 0, '_task_type': 'master', '_log_step_count_steps': 100, '_train_distribute': None, '_evaluation_master': '', '_task_id': 0, '_service': None, '_session_config': device_filters: \"/job:ps\"\n",
      "INFO\t2019-11-27 12:28:28 +0100\tmaster-replica-0\t\tdevice_filters: \"/job:master\"\n",
      "INFO\t2019-11-27 12:28:28 +0100\tmaster-replica-0\t\tallow_soft_placement: true\n",
      "INFO\t2019-11-27 12:28:28 +0100\tmaster-replica-0\t\tgraph_options {\n",
      "INFO\t2019-11-27 12:28:28 +0100\tmaster-replica-0\t\t  rewrite_options {\n",
      "INFO\t2019-11-27 12:28:28 +0100\tmaster-replica-0\t\t    meta_optimizer_iterations: ONE\n",
      "INFO\t2019-11-27 12:28:28 +0100\tmaster-replica-0\t\t  }\n",
      "INFO\t2019-11-27 12:28:28 +0100\tmaster-replica-0\t\t}\n",
      "INFO\t2019-11-27 12:28:28 +0100\tmaster-replica-0\t\t, '_save_checkpoints_secs': 600, '_master': '', '_global_id_in_cluster': 0, '_is_chief': True, '_device_fn': None, '_protocol': None, '_save_checkpoints_steps': None, '_model_dir': 'gs://bold-circuit-254311/pkg_mnist_fnn/trained', '_num_worker_replicas': 1, '_save_summary_steps': 100, '_eval_distribute': None, '_experimental_distribute': None, '_cluster_spec': <tensorflow.python.training.server_lib.ClusterSpec object at 0x7fa5a6d5cb38>}\n",
      "INFO\t2019-11-27 12:28:28 +0100\tmaster-replica-0\t\tNot using Distribute Coordinator.\n",
      "INFO\t2019-11-27 12:28:28 +0100\tmaster-replica-0\t\tSkip starting Tensorflow server as there is only one node in the cluster.\n",
      "WARNING\t2019-11-27 12:28:28 +0100\tmaster-replica-0\t\tenqueue_data was called with num_epochs and num_threads > 1. num_epochs is applied per thread, so this will produce more epochs than you probably intend. If you want to limit epochs, use one thread.\n",
      "WARNING\t2019-11-27 12:28:28 +0100\tmaster-replica-0\t\tenqueue_data was called with shuffle=True, num_threads > 1, and num_epochs. This will create multiple threads, all reading the array/dataframe in order adding to the same shuffling queue; the results will likely not be sufficiently shuffled.\n",
      "WARNING\t2019-11-27 12:28:28 +0100\tmaster-replica-0\t\tFrom /usr/local/lib/python3.5/dist-packages/tensorflow/python/estimator/inputs/queues/feeding_queue_runner.py:62: QueueRunner.__init__ (from tensorflow.python.training.queue_runner_impl) is deprecated and will be removed in a future version.\n",
      "WARNING\t2019-11-27 12:28:28 +0100\tmaster-replica-0\t\tInstructions for updating:\n",
      "WARNING\t2019-11-27 12:28:28 +0100\tmaster-replica-0\t\tTo construct input pipelines, use the `tf.data` module.\n",
      "WARNING\t2019-11-27 12:28:28 +0100\tmaster-replica-0\t\tFrom /usr/local/lib/python3.5/dist-packages/tensorflow/python/estimator/inputs/queues/feeding_functions.py:500: add_queue_runner (from tensorflow.python.training.queue_runner_impl) is deprecated and will be removed in a future version.\n",
      "WARNING\t2019-11-27 12:28:28 +0100\tmaster-replica-0\t\tInstructions for updating:\n",
      "WARNING\t2019-11-27 12:28:28 +0100\tmaster-replica-0\t\tTo construct input pipelines, use the `tf.data` module.\n",
      "INFO\t2019-11-27 12:28:28 +0100\tmaster-replica-0\t\tCalling model_fn.\n",
      "INFO\t2019-11-27 12:28:29 +0100\tmaster-replica-0\t\tDone calling model_fn.\n",
      "INFO\t2019-11-27 12:28:29 +0100\tmaster-replica-0\t\tCreate CheckpointSaverHook.\n",
      "INFO\t2019-11-27 12:28:30 +0100\tmaster-replica-0\t\tGraph was finalized.\n",
      "INFO\t2019-11-27 12:28:30 +0100\tmaster-replica-0\t\tYour CPU supports instructions that this TensorFlow binary was not compiled to use: AVX2 FMA\n",
      "INFO\t2019-11-27 12:28:30 +0100\tmaster-replica-0\t\tRunning local_init_op.\n",
      "INFO\t2019-11-27 12:28:30 +0100\tmaster-replica-0\t\tDone running local_init_op.\n",
      "WARNING\t2019-11-27 12:28:30 +0100\tmaster-replica-0\t\tFrom /usr/local/lib/python3.5/dist-packages/tensorflow/python/training/monitored_session.py:804: start_queue_runners (from tensorflow.python.training.queue_runner_impl) is deprecated and will be removed in a future version.\n",
      "WARNING\t2019-11-27 12:28:30 +0100\tmaster-replica-0\t\tInstructions for updating:\n",
      "WARNING\t2019-11-27 12:28:30 +0100\tmaster-replica-0\t\tTo construct input pipelines, use the `tf.data` module.\n",
      "INFO\t2019-11-27 12:28:31 +0100\tmaster-replica-0\t\tSaving checkpoints for 0 into gs://bold-circuit-254311/pkg_mnist_fnn/trained/model.ckpt.\n",
      "INFO\t2019-11-27 12:28:36 +0100\tmaster-replica-0\t\tloss = 21261.4, step = 1\n",
      "INFO\t2019-11-27 12:28:36 +0100\tmaster-replica-0\t\tglobal_step/sec: 137.51\n",
      "INFO\t2019-11-27 12:28:36 +0100\tmaster-replica-0\t\tloss = 389.7095, step = 101 (0.728 sec)\n",
      "INFO\t2019-11-27 12:28:37 +0100\tmaster-replica-0\t\tglobal_step/sec: 146.48\n",
      "INFO\t2019-11-27 12:28:37 +0100\tmaster-replica-0\t\tloss = 193.99469, step = 201 (0.683 sec)\n",
      "INFO\t2019-11-27 12:28:38 +0100\tmaster-replica-0\t\tglobal_step/sec: 147.065\n",
      "INFO\t2019-11-27 12:28:38 +0100\tmaster-replica-0\t\tloss = 128.42026, step = 301 (0.680 sec)\n",
      "INFO\t2019-11-27 12:28:38 +0100\tmaster-replica-0\t\tglobal_step/sec: 147.179\n",
      "INFO\t2019-11-27 12:28:38 +0100\tmaster-replica-0\t\tloss = 87.73699, step = 401 (0.680 sec)\n",
      "INFO\t2019-11-27 12:28:39 +0100\tmaster-replica-0\t\tglobal_step/sec: 149.741\n",
      "INFO\t2019-11-27 12:28:39 +0100\tmaster-replica-0\t\tloss = 73.238396, step = 501 (0.668 sec)\n",
      "INFO\t2019-11-27 12:28:40 +0100\tmaster-replica-0\t\tglobal_step/sec: 154.672\n",
      "INFO\t2019-11-27 12:28:40 +0100\tmaster-replica-0\t\tloss = 175.14438, step = 601 (0.647 sec)\n",
      "INFO\t2019-11-27 12:28:40 +0100\tmaster-replica-0\t\tglobal_step/sec: 151.562\n",
      "INFO\t2019-11-27 12:28:40 +0100\tmaster-replica-0\t\tloss = 100.23123, step = 701 (0.660 sec)\n",
      "INFO\t2019-11-27 12:28:41 +0100\tmaster-replica-0\t\tglobal_step/sec: 147.456\n",
      "INFO\t2019-11-27 12:28:41 +0100\tmaster-replica-0\t\tloss = 77.52081, step = 801 (0.678 sec)\n",
      "INFO\t2019-11-27 12:28:42 +0100\tmaster-replica-0\t\tglobal_step/sec: 153.906\n",
      "INFO\t2019-11-27 12:28:42 +0100\tmaster-replica-0\t\tloss = 68.31069, step = 901 (0.650 sec)\n",
      "INFO\t2019-11-27 12:28:42 +0100\tmaster-replica-0\t\tglobal_step/sec: 152.551\n",
      "INFO\t2019-11-27 12:28:42 +0100\tmaster-replica-0\t\tloss = 27.923933, step = 1001 (0.655 sec)\n",
      "INFO\t2019-11-27 12:28:43 +0100\tmaster-replica-0\t\tglobal_step/sec: 149.745\n",
      "INFO\t2019-11-27 12:28:43 +0100\tmaster-replica-0\t\tloss = 64.69371, step = 1101 (0.668 sec)\n",
      "INFO\t2019-11-27 12:28:44 +0100\tmaster-replica-0\t\tglobal_step/sec: 152.174\n",
      "INFO\t2019-11-27 12:28:44 +0100\tmaster-replica-0\t\tloss = 27.42638, step = 1201 (0.657 sec)\n",
      "INFO\t2019-11-27 12:28:44 +0100\tmaster-replica-0\t\tglobal_step/sec: 150.789\n",
      "INFO\t2019-11-27 12:28:44 +0100\tmaster-replica-0\t\tloss = 43.95093, step = 1301 (0.663 sec)\n",
      "INFO\t2019-11-27 12:28:45 +0100\tmaster-replica-0\t\tglobal_step/sec: 150.992\n",
      "INFO\t2019-11-27 12:28:45 +0100\tmaster-replica-0\t\tloss = 43.02434, step = 1401 (0.663 sec)\n",
      "INFO\t2019-11-27 12:28:46 +0100\tmaster-replica-0\t\tglobal_step/sec: 148.678\n",
      "INFO\t2019-11-27 12:28:46 +0100\tmaster-replica-0\t\tloss = 26.444572, step = 1501 (0.672 sec)\n",
      "INFO\t2019-11-27 12:28:46 +0100\tmaster-replica-0\t\tglobal_step/sec: 154.654\n",
      "INFO\t2019-11-27 12:28:46 +0100\tmaster-replica-0\t\tloss = 45.053314, step = 1601 (0.647 sec)\n",
      "INFO\t2019-11-27 12:28:47 +0100\tmaster-replica-0\t\tglobal_step/sec: 151.125\n",
      "INFO\t2019-11-27 12:28:47 +0100\tmaster-replica-0\t\tloss = 45.902977, step = 1701 (0.662 sec)\n",
      "INFO\t2019-11-27 12:28:48 +0100\tmaster-replica-0\t\tglobal_step/sec: 147.347\n",
      "INFO\t2019-11-27 12:28:48 +0100\tmaster-replica-0\t\tloss = 39.905136, step = 1801 (0.679 sec)\n",
      "INFO\t2019-11-27 12:28:48 +0100\tmaster-replica-0\t\tglobal_step/sec: 151.217\n",
      "INFO\t2019-11-27 12:28:48 +0100\tmaster-replica-0\t\tloss = 41.059513, step = 1901 (0.661 sec)\n",
      "INFO\t2019-11-27 12:28:49 +0100\tmaster-replica-0\t\tglobal_step/sec: 152.993\n",
      "INFO\t2019-11-27 12:28:49 +0100\tmaster-replica-0\t\tloss = 28.768595, step = 2001 (0.654 sec)\n",
      "INFO\t2019-11-27 12:28:50 +0100\tmaster-replica-0\t\tglobal_step/sec: 149.025\n",
      "INFO\t2019-11-27 12:28:50 +0100\tmaster-replica-0\t\tloss = 38.67972, step = 2101 (0.671 sec)\n",
      "INFO\t2019-11-27 12:28:50 +0100\tmaster-replica-0\t\tglobal_step/sec: 149.813\n",
      "INFO\t2019-11-27 12:28:50 +0100\tmaster-replica-0\t\tloss = 41.39864, step = 2201 (0.669 sec)\n",
      "INFO\t2019-11-27 12:28:51 +0100\tmaster-replica-0\t\tglobal_step/sec: 153.051\n",
      "INFO\t2019-11-27 12:28:51 +0100\tmaster-replica-0\t\tloss = 32.222248, step = 2301 (0.652 sec)\n",
      "INFO\t2019-11-27 12:28:52 +0100\tmaster-replica-0\t\tglobal_step/sec: 157.778\n",
      "INFO\t2019-11-27 12:28:52 +0100\tmaster-replica-0\t\tloss = 34.537567, step = 2401 (0.634 sec)\n",
      "INFO\t2019-11-27 12:28:52 +0100\tmaster-replica-0\t\tglobal_step/sec: 154.291\n",
      "INFO\t2019-11-27 12:28:52 +0100\tmaster-replica-0\t\tloss = 21.982937, step = 2501 (0.648 sec)\n",
      "INFO\t2019-11-27 12:28:53 +0100\tmaster-replica-0\t\tglobal_step/sec: 150.181\n",
      "INFO\t2019-11-27 12:28:53 +0100\tmaster-replica-0\t\tloss = 44.70561, step = 2601 (0.666 sec)\n",
      "INFO\t2019-11-27 12:28:54 +0100\tmaster-replica-0\t\tglobal_step/sec: 149.256\n",
      "INFO\t2019-11-27 12:28:54 +0100\tmaster-replica-0\t\tloss = 30.339876, step = 2701 (0.670 sec)\n",
      "INFO\t2019-11-27 12:28:54 +0100\tmaster-replica-0\t\tglobal_step/sec: 162.556\n",
      "INFO\t2019-11-27 12:28:54 +0100\tmaster-replica-0\t\tloss = 38.145405, step = 2801 (0.615 sec)\n",
      "INFO\t2019-11-27 12:28:55 +0100\tmaster-replica-0\t\tglobal_step/sec: 155.25\n",
      "INFO\t2019-11-27 12:28:55 +0100\tmaster-replica-0\t\tloss = 28.557318, step = 2901 (0.644 sec)\n",
      "INFO\t2019-11-27 12:28:56 +0100\tmaster-replica-0\t\tglobal_step/sec: 144.885\n",
      "INFO\t2019-11-27 12:28:56 +0100\tmaster-replica-0\t\tloss = 16.66177, step = 3001 (0.690 sec)\n",
      "INFO\t2019-11-27 12:28:56 +0100\tmaster-replica-0\t\tglobal_step/sec: 147.023\n",
      "INFO\t2019-11-27 12:28:56 +0100\tmaster-replica-0\t\tloss = 40.469463, step = 3101 (0.680 sec)\n",
      "INFO\t2019-11-27 12:28:57 +0100\tmaster-replica-0\t\tglobal_step/sec: 144.789\n",
      "INFO\t2019-11-27 12:28:57 +0100\tmaster-replica-0\t\tloss = 34.642307, step = 3201 (0.691 sec)\n",
      "INFO\t2019-11-27 12:28:58 +0100\tmaster-replica-0\t\tglobal_step/sec: 148.559\n",
      "INFO\t2019-11-27 12:28:58 +0100\tmaster-replica-0\t\tloss = 20.041206, step = 3301 (0.673 sec)\n",
      "INFO\t2019-11-27 12:28:58 +0100\tmaster-replica-0\t\tglobal_step/sec: 147.477\n",
      "INFO\t2019-11-27 12:28:58 +0100\tmaster-replica-0\t\tloss = 16.470287, step = 3401 (0.678 sec)\n",
      "INFO\t2019-11-27 12:28:59 +0100\tmaster-replica-0\t\tglobal_step/sec: 144.998\n",
      "INFO\t2019-11-27 12:28:59 +0100\tmaster-replica-0\t\tloss = 37.69316, step = 3501 (0.690 sec)\n",
      "INFO\t2019-11-27 12:29:00 +0100\tmaster-replica-0\t\tglobal_step/sec: 152.885\n",
      "INFO\t2019-11-27 12:29:00 +0100\tmaster-replica-0\t\tloss = 34.983513, step = 3601 (0.654 sec)\n",
      "INFO\t2019-11-27 12:29:00 +0100\tmaster-replica-0\t\tglobal_step/sec: 146.145\n",
      "INFO\t2019-11-27 12:29:00 +0100\tmaster-replica-0\t\tloss = 12.808152, step = 3701 (0.685 sec)\n",
      "INFO\t2019-11-27 12:29:01 +0100\tmaster-replica-0\t\tglobal_step/sec: 145.314\n",
      "INFO\t2019-11-27 12:29:01 +0100\tmaster-replica-0\t\tloss = 20.022728, step = 3801 (0.688 sec)\n",
      "INFO\t2019-11-27 12:29:02 +0100\tmaster-replica-0\t\tglobal_step/sec: 145.134\n",
      "INFO\t2019-11-27 12:29:02 +0100\tmaster-replica-0\t\tloss = 17.357637, step = 3901 (0.689 sec)\n",
      "INFO\t2019-11-27 12:29:02 +0100\tmaster-replica-0\t\tglobal_step/sec: 148.072\n",
      "INFO\t2019-11-27 12:29:02 +0100\tmaster-replica-0\t\tloss = 27.678574, step = 4001 (0.675 sec)\n",
      "INFO\t2019-11-27 12:29:03 +0100\tmaster-replica-0\t\tglobal_step/sec: 142.299\n",
      "INFO\t2019-11-27 12:29:03 +0100\tmaster-replica-0\t\tloss = 18.16699, step = 4101 (0.703 sec)\n",
      "INFO\t2019-11-27 12:29:04 +0100\tmaster-replica-0\t\tglobal_step/sec: 147.682\n",
      "INFO\t2019-11-27 12:29:04 +0100\tmaster-replica-0\t\tloss = 9.767326, step = 4201 (0.677 sec)\n",
      "INFO\t2019-11-27 12:29:05 +0100\tmaster-replica-0\t\tglobal_step/sec: 146.856\n",
      "INFO\t2019-11-27 12:29:05 +0100\tmaster-replica-0\t\tloss = 17.704733, step = 4301 (0.681 sec)\n",
      "INFO\t2019-11-27 12:29:05 +0100\tmaster-replica-0\t\tglobal_step/sec: 145.686\n",
      "INFO\t2019-11-27 12:29:05 +0100\tmaster-replica-0\t\tloss = 23.18507, step = 4401 (0.686 sec)\n",
      "INFO\t2019-11-27 12:29:06 +0100\tmaster-replica-0\t\tglobal_step/sec: 141.271\n",
      "INFO\t2019-11-27 12:29:06 +0100\tmaster-replica-0\t\tloss = 27.834372, step = 4501 (0.708 sec)\n",
      "INFO\t2019-11-27 12:29:07 +0100\tmaster-replica-0\t\tglobal_step/sec: 145.87\n",
      "INFO\t2019-11-27 12:29:07 +0100\tmaster-replica-0\t\tloss = 20.107182, step = 4601 (0.686 sec)\n",
      "INFO\t2019-11-27 12:29:07 +0100\tmaster-replica-0\t\tSaving checkpoints for 4688 into gs://bold-circuit-254311/pkg_mnist_fnn/trained/model.ckpt.\n",
      "INFO\t2019-11-27 12:29:11 +0100\tmaster-replica-0\t\tCalling model_fn.\n",
      "INFO\t2019-11-27 12:29:12 +0100\tmaster-replica-0\t\tDone calling model_fn.\n",
      "INFO\t2019-11-27 12:29:12 +0100\tmaster-replica-0\t\tStarting evaluation at 2019-11-27-11:29:12\n",
      "INFO\t2019-11-27 12:29:12 +0100\tmaster-replica-0\t\tGraph was finalized.\n",
      "INFO\t2019-11-27 12:29:12 +0100\tmaster-replica-0\t\tRestoring parameters from gs://bold-circuit-254311/pkg_mnist_fnn/trained/model.ckpt-4688\n",
      "INFO\t2019-11-27 12:29:13 +0100\tmaster-replica-0\t\tRunning local_init_op.\n",
      "INFO\t2019-11-27 12:29:13 +0100\tmaster-replica-0\t\tDone running local_init_op.\n",
      "INFO\t2019-11-27 12:29:13 +0100\tmaster-replica-0\t\tFinished evaluation at 2019-11-27-11:29:13\n",
      "INFO\t2019-11-27 12:29:13 +0100\tmaster-replica-0\t\tSaving dict for global step 4688: accuracy = 0.9642, average_loss = 0.13970868, global_step = 4688, loss = 17.684643\n",
      "INFO\t2019-11-27 12:29:14 +0100\tmaster-replica-0\t\tSaving 'checkpoint_path' summary for global step 4688: gs://bold-circuit-254311/pkg_mnist_fnn/trained/model.ckpt-4688\n",
      "INFO\t2019-11-27 12:29:15 +0100\tmaster-replica-0\t\tCalling model_fn.\n",
      "INFO\t2019-11-27 12:29:15 +0100\tmaster-replica-0\t\tDone calling model_fn.\n",
      "INFO\t2019-11-27 12:29:15 +0100\tmaster-replica-0\t\tSignatures INCLUDED in export for Train: None\n",
      "INFO\t2019-11-27 12:29:15 +0100\tmaster-replica-0\t\tSignatures INCLUDED in export for Regress: None\n",
      "INFO\t2019-11-27 12:29:15 +0100\tmaster-replica-0\t\tSignatures INCLUDED in export for Classify: None\n",
      "INFO\t2019-11-27 12:29:15 +0100\tmaster-replica-0\t\tSignatures INCLUDED in export for Predict: ['predict']\n",
      "INFO\t2019-11-27 12:29:15 +0100\tmaster-replica-0\t\tSignatures INCLUDED in export for Eval: None\n",
      "INFO\t2019-11-27 12:29:15 +0100\tmaster-replica-0\t\tSignatures EXCLUDED from export because they cannot be be served via TensorFlow Serving APIs:\n",
      "INFO\t2019-11-27 12:29:15 +0100\tmaster-replica-0\t\t'classification' : Classification input must be a single string Tensor; got {'x': <tf.Tensor 'Placeholder:0' shape=(?, 784) dtype=float32>}\n",
      "INFO\t2019-11-27 12:29:15 +0100\tmaster-replica-0\t\t'serving_default' : Classification input must be a single string Tensor; got {'x': <tf.Tensor 'Placeholder:0' shape=(?, 784) dtype=float32>}\n",
      "WARNING\t2019-11-27 12:29:15 +0100\tmaster-replica-0\t\tExport includes no default signature!\n",
      "INFO\t2019-11-27 12:29:16 +0100\tmaster-replica-0\t\tRestoring parameters from gs://bold-circuit-254311/pkg_mnist_fnn/trained/model.ckpt-4688\n",
      "WARNING\t2019-11-27 12:29:16 +0100\tmaster-replica-0\t\tFrom /usr/local/lib/python3.5/dist-packages/tensorflow/python/estimator/estimator.py:1044: calling SavedModelBuilder.add_meta_graph_and_variables (from tensorflow.python.saved_model.builder_impl) with legacy_init_op is deprecated and will be removed in a future version.\n",
      "WARNING\t2019-11-27 12:29:16 +0100\tmaster-replica-0\t\tInstructions for updating:\n",
      "WARNING\t2019-11-27 12:29:16 +0100\tmaster-replica-0\t\tPass your op to the equivalent parameter main_op instead.\n",
      "INFO\t2019-11-27 12:29:16 +0100\tmaster-replica-0\t\tAssets added to graph.\n",
      "INFO\t2019-11-27 12:29:16 +0100\tmaster-replica-0\t\tNo assets to write.\n",
      "INFO\t2019-11-27 12:29:19 +0100\tmaster-replica-0\t\tSavedModel written to: gs://bold-circuit-254311/pkg_mnist_fnn/trained/export/exporter/temp-b'1574854154'/saved_model.pb\n",
      "INFO\t2019-11-27 12:29:20 +0100\tmaster-replica-0\t\tLoss for final step: 14.829007.\n",
      "INFO\t2019-11-27 12:29:21 +0100\tmaster-replica-0\t\tModule completed; cleaning up.\n",
      "INFO\t2019-11-27 12:29:21 +0100\tmaster-replica-0\t\tClean up finished.\n",
      "INFO\t2019-11-27 12:29:21 +0100\tmaster-replica-0\t\tTask completed successfully.\n",
      "INFO\t2019-11-27 12:31:56 +0100\tservice\t\tJob completed successfully.\n"
     ]
    }
   ],
   "source": [
    "!gcloud ai-platform jobs stream-logs mnist_201911271216"
   ]
  },
  {
   "cell_type": "markdown",
   "metadata": {
    "slideshow": {
     "slide_type": "subslide"
    }
   },
   "source": [
    "### Fetch logs from ml-engine job"
   ]
  },
  {
   "cell_type": "code",
   "execution_count": 46,
   "metadata": {
    "collapsed": true,
    "jupyter": {
     "outputs_hidden": true
    },
    "slideshow": {
     "slide_type": "fragment"
    }
   },
   "outputs": [
    {
     "name": "stdout",
     "output_type": "stream",
     "text": [
      "createTime: '2019-02-26T13:56:16Z'\n",
      "etag: xa9JtMyFgys=\n",
      "jobId: mnist_190226_135612\n",
      "startTime: '2019-02-26T13:57:04Z'\n",
      "state: RUNNING\n",
      "trainingInput:\n",
      "  args:\n",
      "  - --data_path=gs://ml-productive-pipeline-53122/pkg_mnist_fnn/\n",
      "  - --output_dir=gs://ml-productive-pipeline-53122/pkg_mnist_fnn/trained\n",
      "  - --train_steps=5000\n",
      "  - --job_dir=gs://ml-productive-pipeline-53122/pkg_mnist_fnn/trained/jobs\n",
      "  packageUris:\n",
      "  - gs://ml-productive-pipeline-53122/mnist_190226_135612/dbf14cd8277aeba054056ee160e13d2f2d798a9f82dfd5b3b76d289e7a0284c8/pkg_mnist_fnn-0.0.0.tar.gz\n",
      "  pythonModule: pkg_mnist_fnn.task\n",
      "  pythonVersion: '3.5'\n",
      "  region: europe-west1\n",
      "  runtimeVersion: '1.12'\n",
      "trainingOutput:\n",
      "  consumedMLUnits: 0.03\n",
      "\n",
      "View job in the Cloud Console at:\n",
      "https://console.cloud.google.com/ml/jobs/mnist_190226_135612?project=ml-productive-pipeline-53122\n",
      "\n",
      "View logs at:\n",
      "https://console.cloud.google.com/logs?resource=ml.googleapis.com%2Fjob_id%2Fmnist_190226_135612&project=ml-productive-pipeline-53122\n"
     ]
    }
   ],
   "source": [
    "!gcloud ai-platform jobs describe mnist_201911271216"
   ]
  },
  {
   "cell_type": "code",
   "execution_count": 47,
   "metadata": {
    "collapsed": true,
    "jupyter": {
     "outputs_hidden": true
    },
    "slideshow": {
     "slide_type": "fragment"
    }
   },
   "outputs": [
    {
     "name": "stdout",
     "output_type": "stream",
     "text": [
      "INFO\t2019-02-26 14:56:16 +0100\tservice\t\tValidating job requirements...\n",
      "INFO\t2019-02-26 14:56:16 +0100\tservice\t\tJob creation request has been successfully validated.\n",
      "INFO\t2019-02-26 14:56:16 +0100\tservice\t\tWaiting for job to be provisioned.\n",
      "INFO\t2019-02-26 14:56:16 +0100\tservice\t\tJob mnist_190226_135612 is queued.\n",
      "INFO\t2019-02-26 14:56:21 +0100\tservice\t\tWaiting for training program to start.\n",
      "INFO\t2019-02-26 14:57:30 +0100\tmaster-replica-0\t\tRunning task with arguments: --cluster={\"master\": [\"127.0.0.1:2222\"]} --task={\"type\": \"master\", \"index\": 0} --job={  \"package_uris\": [\"gs://ml-productive-pipeline-53122/mnist_190226_135612/dbf14cd8277aeba054056ee160e13d2f2d798a9f82dfd5b3b76d289e7a0284c8/pkg_mnist_fnn-0.0.0.tar.gz\"],  \"python_module\": \"pkg_mnist_fnn.task\",  \"args\": [\"--data_path\\u003dgs://ml-productive-pipeline-53122/pkg_mnist_fnn/\", \"--output_dir\\u003dgs://ml-productive-pipeline-53122/pkg_mnist_fnn/trained\", \"--train_steps\\u003d5000\", \"--job_dir\\u003dgs://ml-productive-pipeline-53122/pkg_mnist_fnn/trained/jobs\"],  \"region\": \"europe-west1\",  \"runtime_version\": \"1.12\",  \"run_on_raw_vm\": true,  \"python_version\": \"3.5\"}\n",
      "INFO\t2019-02-26 14:57:38 +0100\tmaster-replica-0\t\tRunning module pkg_mnist_fnn.task.\n",
      "INFO\t2019-02-26 14:57:38 +0100\tmaster-replica-0\t\tDownloading the package: gs://ml-productive-pipeline-53122/mnist_190226_135612/dbf14cd8277aeba054056ee160e13d2f2d798a9f82dfd5b3b76d289e7a0284c8/pkg_mnist_fnn-0.0.0.tar.gz\n",
      "INFO\t2019-02-26 14:57:38 +0100\tmaster-replica-0\t\tRunning command: gsutil -q cp gs://ml-productive-pipeline-53122/mnist_190226_135612/dbf14cd8277aeba054056ee160e13d2f2d798a9f82dfd5b3b76d289e7a0284c8/pkg_mnist_fnn-0.0.0.tar.gz pkg_mnist_fnn-0.0.0.tar.gz\n",
      "INFO\t2019-02-26 14:57:39 +0100\tmaster-replica-0\t\tInstalling the package: gs://ml-productive-pipeline-53122/mnist_190226_135612/dbf14cd8277aeba054056ee160e13d2f2d798a9f82dfd5b3b76d289e7a0284c8/pkg_mnist_fnn-0.0.0.tar.gz\n",
      "INFO\t2019-02-26 14:57:39 +0100\tmaster-replica-0\t\tRunning command: pip3 install --user --upgrade --force-reinstall --no-deps pkg_mnist_fnn-0.0.0.tar.gz\n",
      "INFO\t2019-02-26 14:57:41 +0100\tmaster-replica-0\t\tProcessing ./pkg_mnist_fnn-0.0.0.tar.gz\n",
      "INFO\t2019-02-26 14:57:42 +0100\tmaster-replica-0\t\tGenerating grammar tables from /usr/lib/python3.5/lib2to3/Grammar.txt\n",
      "INFO\t2019-02-26 14:57:42 +0100\tmaster-replica-0\t\tGenerating grammar tables from /usr/lib/python3.5/lib2to3/PatternGrammar.txt\n",
      "INFO\t2019-02-26 14:57:42 +0100\tmaster-replica-0\t\tBuilding wheels for collected packages: pkg-mnist-fnn\n",
      "INFO\t2019-02-26 14:57:42 +0100\tmaster-replica-0\t\t  Building wheel for pkg-mnist-fnn (setup.py): started\n",
      "INFO\t2019-02-26 14:57:43 +0100\tmaster-replica-0\t\tGenerating grammar tables from /usr/lib/python3.5/lib2to3/Grammar.txt\n",
      "INFO\t2019-02-26 14:57:43 +0100\tmaster-replica-0\t\tGenerating grammar tables from /usr/lib/python3.5/lib2to3/PatternGrammar.txt\n",
      "INFO\t2019-02-26 14:57:43 +0100\tmaster-replica-0\t\t  Building wheel for pkg-mnist-fnn (setup.py): finished with status 'done'\n",
      "INFO\t2019-02-26 14:57:43 +0100\tmaster-replica-0\t\t  Stored in directory: /root/.cache/pip/wheels/1a/07/69/18074b1e4bd022717a0b95df967868ee8c62b8952276f00a53\n",
      "INFO\t2019-02-26 14:57:43 +0100\tmaster-replica-0\t\tSuccessfully built pkg-mnist-fnn\n",
      "INFO\t2019-02-26 14:57:43 +0100\tmaster-replica-0\t\tInstalling collected packages: pkg-mnist-fnn\n",
      "INFO\t2019-02-26 14:57:43 +0100\tmaster-replica-0\t\tSuccessfully installed pkg-mnist-fnn-0.0.0\n",
      "ERROR\t2019-02-26 14:57:43 +0100\tmaster-replica-0\t\tYou are using pip version 19.0.2, however version 19.0.3 is available.\n",
      "ERROR\t2019-02-26 14:57:43 +0100\tmaster-replica-0\t\tYou should consider upgrading via the 'pip install --upgrade pip' command.\n",
      "INFO\t2019-02-26 14:57:43 +0100\tmaster-replica-0\t\tRunning command: pip3 install --user pkg_mnist_fnn-0.0.0.tar.gz\n",
      "INFO\t2019-02-26 14:57:44 +0100\tmaster-replica-0\t\tProcessing ./pkg_mnist_fnn-0.0.0.tar.gz\n",
      "INFO\t2019-02-26 14:57:44 +0100\tmaster-replica-0\t\tGenerating grammar tables from /usr/lib/python3.5/lib2to3/Grammar.txt\n",
      "INFO\t2019-02-26 14:57:44 +0100\tmaster-replica-0\t\tGenerating grammar tables from /usr/lib/python3.5/lib2to3/PatternGrammar.txt\n",
      "INFO\t2019-02-26 14:57:44 +0100\tmaster-replica-0\t\tBuilding wheels for collected packages: pkg-mnist-fnn\n",
      "INFO\t2019-02-26 14:57:44 +0100\tmaster-replica-0\t\t  Building wheel for pkg-mnist-fnn (setup.py): started\n",
      "INFO\t2019-02-26 14:57:44 +0100\tmaster-replica-0\t\tGenerating grammar tables from /usr/lib/python3.5/lib2to3/Grammar.txt\n",
      "INFO\t2019-02-26 14:57:45 +0100\tmaster-replica-0\t\tGenerating grammar tables from /usr/lib/python3.5/lib2to3/PatternGrammar.txt\n",
      "INFO\t2019-02-26 14:57:45 +0100\tmaster-replica-0\t\t  Building wheel for pkg-mnist-fnn (setup.py): finished with status 'done'\n",
      "INFO\t2019-02-26 14:57:45 +0100\tmaster-replica-0\t\t  Stored in directory: /root/.cache/pip/wheels/1a/07/69/18074b1e4bd022717a0b95df967868ee8c62b8952276f00a53\n",
      "INFO\t2019-02-26 14:57:45 +0100\tmaster-replica-0\t\tSuccessfully built pkg-mnist-fnn\n",
      "INFO\t2019-02-26 14:57:46 +0100\tmaster-replica-0\t\tInstalling collected packages: pkg-mnist-fnn\n",
      "INFO\t2019-02-26 14:57:46 +0100\tmaster-replica-0\t\t  Found existing installation: pkg-mnist-fnn 0.0.0\n",
      "INFO\t2019-02-26 14:57:46 +0100\tmaster-replica-0\t\t    Uninstalling pkg-mnist-fnn-0.0.0:\n",
      "INFO\t2019-02-26 14:57:46 +0100\tmaster-replica-0\t\t      Successfully uninstalled pkg-mnist-fnn-0.0.0\n",
      "INFO\t2019-02-26 14:57:46 +0100\tmaster-replica-0\t\tSuccessfully installed pkg-mnist-fnn-0.0.0\n",
      "ERROR\t2019-02-26 14:57:46 +0100\tmaster-replica-0\t\tYou are using pip version 19.0.2, however version 19.0.3 is available.\n",
      "ERROR\t2019-02-26 14:57:46 +0100\tmaster-replica-0\t\tYou should consider upgrading via the 'pip install --upgrade pip' command.\n",
      "INFO\t2019-02-26 14:57:46 +0100\tmaster-replica-0\t\tRunning command: python3 -m pkg_mnist_fnn.task --data_path=gs://ml-productive-pipeline-53122/pkg_mnist_fnn/ --output_dir=gs://ml-productive-pipeline-53122/pkg_mnist_fnn/trained --train_steps=5000 --job_dir=gs://ml-productive-pipeline-53122/pkg_mnist_fnn/trained/jobs\n",
      "INFO\t2019-02-26 14:57:48 +0100\tmaster-replica-0\t\tDownloading data from https://storage.googleapis.com/tensorflow/tf-keras-datasets/mnist.npz\n",
      "INFO\t2019-02-26 14:57:48 +0100\tmaster-replica-0\t\t    8192/11490434 [..............................] - ETA: \n",
      "INFO\t2019-02-26 14:57:48 +0100\tmaster-replica-0\t\t 4202496/11490434 [=========>....................] - ETA: \n",
      "INFO\t2019-02-26 14:57:48 +0100\tmaster-replica-0\t\t11493376/11490434 [==============================] - 0s 0us/step\n",
      "INFO\t2019-02-26 14:57:49 +0100\tmaster-replica-0\t\tTF_CONFIG environment variable: {'task': {'type': 'master', 'index': 0, 'cloud': 'qe913eccfb8ab063b-ml'}, 'cluster': {'master': ['127.0.0.1:2222']}, 'environment': 'cloud', 'job': {'python_version': '3.5', 'args': ['--data_path=gs://ml-productive-pipeline-53122/pkg_mnist_fnn/', '--output_dir=gs://ml-productive-pipeline-53122/pkg_mnist_fnn/trained', '--train_steps=5000', '--job_dir=gs://ml-productive-pipeline-53122/pkg_mnist_fnn/trained/jobs'], 'runtime_version': '1.12', 'python_module': 'pkg_mnist_fnn.task', 'run_on_raw_vm': True, 'package_uris': ['gs://ml-productive-pipeline-53122/mnist_190226_135612/dbf14cd8277aeba054056ee160e13d2f2d798a9f82dfd5b3b76d289e7a0284c8/pkg_mnist_fnn-0.0.0.tar.gz'], 'region': 'europe-west1'}}\n",
      "INFO\t2019-02-26 14:57:49 +0100\tmaster-replica-0\t\tUsing default config.\n",
      "INFO\t2019-02-26 14:57:49 +0100\tmaster-replica-0\t\tUsing config: {'_save_checkpoints_steps': None, '_service': None, '_task_id': 0, '_tf_random_seed': None, '_num_ps_replicas': 0, '_task_type': 'master', '_keep_checkpoint_max': 5, '_is_chief': True, '_experimental_distribute': None, '_cluster_spec': <tensorflow.python.training.server_lib.ClusterSpec object at 0x7f967cedbf98>, '_log_step_count_steps': 100, '_save_summary_steps': 100, '_eval_distribute': None, '_evaluation_master': '', '_master': '', '_protocol': None, '_keep_checkpoint_every_n_hours': 10000, '_global_id_in_cluster': 0, '_device_fn': None, '_num_worker_replicas': 1, '_train_distribute': None, '_save_checkpoints_secs': 600, '_model_dir': 'gs://ml-productive-pipeline-53122/pkg_mnist_fnn/trained', '_session_config': device_filters: \"/job:ps\"\n",
      "INFO\t2019-02-26 14:57:49 +0100\tmaster-replica-0\t\tdevice_filters: \"/job:master\"\n",
      "INFO\t2019-02-26 14:57:49 +0100\tmaster-replica-0\t\tallow_soft_placement: true\n",
      "INFO\t2019-02-26 14:57:49 +0100\tmaster-replica-0\t\tgraph_options {\n",
      "INFO\t2019-02-26 14:57:49 +0100\tmaster-replica-0\t\t  rewrite_options {\n",
      "INFO\t2019-02-26 14:57:49 +0100\tmaster-replica-0\t\t    meta_optimizer_iterations: ONE\n",
      "INFO\t2019-02-26 14:57:49 +0100\tmaster-replica-0\t\t  }\n",
      "INFO\t2019-02-26 14:57:49 +0100\tmaster-replica-0\t\t}\n",
      "INFO\t2019-02-26 14:57:49 +0100\tmaster-replica-0\t\t}\n",
      "INFO\t2019-02-26 14:57:49 +0100\tmaster-replica-0\t\tNot using Distribute Coordinator.\n",
      "INFO\t2019-02-26 14:57:49 +0100\tmaster-replica-0\t\tSkip starting Tensorflow server as there is only one node in the cluster.\n",
      "WARNING\t2019-02-26 14:57:49 +0100\tmaster-replica-0\t\tenqueue_data was called with num_epochs and num_threads > 1. num_epochs is applied per thread, so this will produce more epochs than you probably intend. If you want to limit epochs, use one thread.\n",
      "WARNING\t2019-02-26 14:57:49 +0100\tmaster-replica-0\t\tenqueue_data was called with shuffle=True, num_threads > 1, and num_epochs. This will create multiple threads, all reading the array/dataframe in order adding to the same shuffling queue; the results will likely not be sufficiently shuffled.\n",
      "WARNING\t2019-02-26 14:57:50 +0100\tmaster-replica-0\t\tFrom /usr/local/lib/python3.5/dist-packages/tensorflow/python/estimator/inputs/queues/feeding_queue_runner.py:62: QueueRunner.__init__ (from tensorflow.python.training.queue_runner_impl) is deprecated and will be removed in a future version.\n",
      "WARNING\t2019-02-26 14:57:50 +0100\tmaster-replica-0\t\tInstructions for updating:\n",
      "WARNING\t2019-02-26 14:57:50 +0100\tmaster-replica-0\t\tTo construct input pipelines, use the `tf.data` module.\n",
      "WARNING\t2019-02-26 14:57:50 +0100\tmaster-replica-0\t\tFrom /usr/local/lib/python3.5/dist-packages/tensorflow/python/estimator/inputs/queues/feeding_functions.py:500: add_queue_runner (from tensorflow.python.training.queue_runner_impl) is deprecated and will be removed in a future version.\n",
      "WARNING\t2019-02-26 14:57:50 +0100\tmaster-replica-0\t\tInstructions for updating:\n",
      "WARNING\t2019-02-26 14:57:50 +0100\tmaster-replica-0\t\tTo construct input pipelines, use the `tf.data` module.\n",
      "INFO\t2019-02-26 14:57:50 +0100\tmaster-replica-0\t\tCalling model_fn.\n",
      "INFO\t2019-02-26 14:57:50 +0100\tmaster-replica-0\t\tDone calling model_fn.\n",
      "INFO\t2019-02-26 14:57:50 +0100\tmaster-replica-0\t\tCreate CheckpointSaverHook.\n",
      "INFO\t2019-02-26 14:57:55 +0100\tmaster-replica-0\t\tGraph was finalized.\n",
      "INFO\t2019-02-26 14:57:55 +0100\tmaster-replica-0\t\tRunning local_init_op.\n",
      "INFO\t2019-02-26 14:57:55 +0100\tmaster-replica-0\t\tDone running local_init_op.\n",
      "WARNING\t2019-02-26 14:57:55 +0100\tmaster-replica-0\t\tFrom /usr/local/lib/python3.5/dist-packages/tensorflow/python/training/monitored_session.py:804: start_queue_runners (from tensorflow.python.training.queue_runner_impl) is deprecated and will be removed in a future version.\n",
      "WARNING\t2019-02-26 14:57:55 +0100\tmaster-replica-0\t\tInstructions for updating:\n",
      "WARNING\t2019-02-26 14:57:55 +0100\tmaster-replica-0\t\tTo construct input pipelines, use the `tf.data` module.\n",
      "INFO\t2019-02-26 14:57:58 +0100\tmaster-replica-0\t\tSaving checkpoints for 0 into gs://ml-productive-pipeline-53122/pkg_mnist_fnn/trained/model.ckpt.\n",
      "INFO\t2019-02-26 14:58:14 +0100\tmaster-replica-0\t\tloss = 15157.986, step = 1\n",
      "INFO\t2019-02-26 14:58:15 +0100\tmaster-replica-0\t\tglobal_step/sec: 97.5212\n",
      "INFO\t2019-02-26 14:58:15 +0100\tmaster-replica-0\t\tloss = 303.1347, step = 101 (1.030 sec)\n",
      "INFO\t2019-02-26 14:58:16 +0100\tmaster-replica-0\t\tglobal_step/sec: 125.445\n",
      "INFO\t2019-02-26 14:58:16 +0100\tmaster-replica-0\t\tloss = 175.5782, step = 201 (0.793 sec)\n",
      "INFO\t2019-02-26 14:58:17 +0100\tmaster-replica-0\t\tglobal_step/sec: 128.56\n",
      "INFO\t2019-02-26 14:58:17 +0100\tmaster-replica-0\t\tloss = 137.81128, step = 301 (0.778 sec)\n",
      "INFO\t2019-02-26 14:58:17 +0100\tmaster-replica-0\t\tglobal_step/sec: 125.089\n",
      "INFO\t2019-02-26 14:58:17 +0100\tmaster-replica-0\t\tloss = 103.07169, step = 401 (0.799 sec)\n",
      "INFO\t2019-02-26 14:58:18 +0100\tmaster-replica-0\t\tglobal_step/sec: 118.506\n",
      "INFO\t2019-02-26 14:58:18 +0100\tmaster-replica-0\t\tloss = 120.83708, step = 501 (0.844 sec)\n",
      "INFO\t2019-02-26 14:58:19 +0100\tmaster-replica-0\t\tglobal_step/sec: 124.731\n",
      "INFO\t2019-02-26 14:58:19 +0100\tmaster-replica-0\t\tloss = 76.74655, step = 601 (0.802 sec)\n",
      "INFO\t2019-02-26 14:58:20 +0100\tmaster-replica-0\t\tglobal_step/sec: 112.614\n",
      "INFO\t2019-02-26 14:58:20 +0100\tmaster-replica-0\t\tloss = 63.736683, step = 701 (0.888 sec)\n",
      "INFO\t2019-02-26 14:58:21 +0100\tmaster-replica-0\t\tglobal_step/sec: 132.664\n",
      "INFO\t2019-02-26 14:58:21 +0100\tmaster-replica-0\t\tloss = 44.632027, step = 801 (0.754 sec)\n",
      "INFO\t2019-02-26 14:58:21 +0100\tmaster-replica-0\t\tglobal_step/sec: 128.675\n",
      "INFO\t2019-02-26 14:58:21 +0100\tmaster-replica-0\t\tloss = 63.499046, step = 901 (0.777 sec)\n",
      "INFO\t2019-02-26 14:58:22 +0100\tmaster-replica-0\t\tglobal_step/sec: 111.288\n",
      "INFO\t2019-02-26 14:58:22 +0100\tmaster-replica-0\t\tloss = 47.406704, step = 1001 (0.898 sec)\n",
      "INFO\t2019-02-26 14:58:23 +0100\tmaster-replica-0\t\tglobal_step/sec: 114.18\n",
      "INFO\t2019-02-26 14:58:23 +0100\tmaster-replica-0\t\tloss = 52.468086, step = 1101 (0.876 sec)\n",
      "INFO\t2019-02-26 14:58:24 +0100\tmaster-replica-0\t\tglobal_step/sec: 124.826\n",
      "INFO\t2019-02-26 14:58:24 +0100\tmaster-replica-0\t\tloss = 36.76288, step = 1201 (0.801 sec)\n",
      "INFO\t2019-02-26 14:58:25 +0100\tmaster-replica-0\t\tglobal_step/sec: 133.828\n",
      "INFO\t2019-02-26 14:58:25 +0100\tmaster-replica-0\t\tloss = 57.106045, step = 1301 (0.747 sec)\n",
      "INFO\t2019-02-26 14:58:26 +0100\tmaster-replica-0\t\tglobal_step/sec: 124.979\n",
      "INFO\t2019-02-26 14:58:26 +0100\tmaster-replica-0\t\tloss = 28.483606, step = 1401 (0.800 sec)\n",
      "INFO\t2019-02-26 14:58:26 +0100\tmaster-replica-0\t\tglobal_step/sec: 115.506\n",
      "INFO\t2019-02-26 14:58:26 +0100\tmaster-replica-0\t\tloss = 39.97032, step = 1501 (0.867 sec)\n",
      "INFO\t2019-02-26 14:58:27 +0100\tmaster-replica-0\t\tglobal_step/sec: 105.778\n",
      "INFO\t2019-02-26 14:58:27 +0100\tmaster-replica-0\t\tloss = 77.53945, step = 1601 (0.947 sec)\n",
      "INFO\t2019-02-26 14:58:28 +0100\tmaster-replica-0\t\tglobal_step/sec: 119.023\n",
      "INFO\t2019-02-26 14:58:28 +0100\tmaster-replica-0\t\tloss = 25.5344, step = 1701 (0.837 sec)\n",
      "INFO\t2019-02-26 14:58:29 +0100\tmaster-replica-0\t\tglobal_step/sec: 131.283\n",
      "INFO\t2019-02-26 14:58:29 +0100\tmaster-replica-0\t\tloss = 41.213722, step = 1801 (0.762 sec)\n",
      "INFO\t2019-02-26 14:58:30 +0100\tmaster-replica-0\t\tglobal_step/sec: 121.836\n",
      "INFO\t2019-02-26 14:58:30 +0100\tmaster-replica-0\t\tloss = 42.21063, step = 1901 (0.820 sec)\n",
      "INFO\t2019-02-26 14:58:31 +0100\tmaster-replica-0\t\tglobal_step/sec: 117.395\n",
      "INFO\t2019-02-26 14:58:31 +0100\tmaster-replica-0\t\tloss = 47.18328, step = 2001 (0.852 sec)\n",
      "INFO\t2019-02-26 14:58:32 +0100\tmaster-replica-0\t\tglobal_step/sec: 99.5387\n",
      "INFO\t2019-02-26 14:58:32 +0100\tmaster-replica-0\t\tloss = 28.376987, step = 2101 (1.005 sec)\n",
      "INFO\t2019-02-26 14:58:32 +0100\tmaster-replica-0\t\tglobal_step/sec: 128.67\n",
      "INFO\t2019-02-26 14:58:32 +0100\tmaster-replica-0\t\tloss = 29.000477, step = 2201 (0.777 sec)\n",
      "INFO\t2019-02-26 14:58:33 +0100\tmaster-replica-0\t\tglobal_step/sec: 128\n",
      "INFO\t2019-02-26 14:58:33 +0100\tmaster-replica-0\t\tloss = 39.08721, step = 2301 (0.781 sec)\n",
      "INFO\t2019-02-26 14:58:34 +0100\tmaster-replica-0\t\tglobal_step/sec: 111.436\n",
      "INFO\t2019-02-26 14:58:34 +0100\tmaster-replica-0\t\tloss = 32.145775, step = 2401 (0.897 sec)\n",
      "INFO\t2019-02-26 14:58:35 +0100\tmaster-replica-0\t\tglobal_step/sec: 108.488\n",
      "INFO\t2019-02-26 14:58:35 +0100\tmaster-replica-0\t\tloss = 32.952908, step = 2501 (0.922 sec)\n",
      "INFO\t2019-02-26 14:58:36 +0100\tmaster-replica-0\t\tglobal_step/sec: 108.073\n",
      "INFO\t2019-02-26 14:58:36 +0100\tmaster-replica-0\t\tloss = 21.14497, step = 2601 (0.926 sec)\n",
      "INFO\t2019-02-26 14:58:37 +0100\tmaster-replica-0\t\tglobal_step/sec: 133.497\n",
      "INFO\t2019-02-26 14:58:37 +0100\tmaster-replica-0\t\tloss = 9.791897, step = 2701 (0.749 sec)\n",
      "INFO\t2019-02-26 14:58:37 +0100\tmaster-replica-0\t\tglobal_step/sec: 126.036\n",
      "INFO\t2019-02-26 14:58:37 +0100\tmaster-replica-0\t\tloss = 23.587774, step = 2801 (0.793 sec)\n",
      "INFO\t2019-02-26 14:58:38 +0100\tmaster-replica-0\t\tglobal_step/sec: 113.246\n",
      "INFO\t2019-02-26 14:58:38 +0100\tmaster-replica-0\t\tloss = 33.05316, step = 2901 (0.883 sec)\n",
      "INFO\t2019-02-26 14:58:39 +0100\tmaster-replica-0\t\tglobal_step/sec: 116.813\n",
      "INFO\t2019-02-26 14:58:39 +0100\tmaster-replica-0\t\tloss = 10.151543, step = 3001 (0.856 sec)\n",
      "INFO\t2019-02-26 14:58:40 +0100\tmaster-replica-0\t\tglobal_step/sec: 107.54\n",
      "INFO\t2019-02-26 14:58:40 +0100\tmaster-replica-0\t\tloss = 16.170946, step = 3101 (0.930 sec)\n",
      "INFO\t2019-02-26 14:58:41 +0100\tmaster-replica-0\t\tglobal_step/sec: 131.775\n",
      "INFO\t2019-02-26 14:58:41 +0100\tmaster-replica-0\t\tloss = 26.6584, step = 3201 (0.759 sec)\n",
      "INFO\t2019-02-26 14:58:42 +0100\tmaster-replica-0\t\tglobal_step/sec: 133.08\n",
      "INFO\t2019-02-26 14:58:42 +0100\tmaster-replica-0\t\tloss = 30.583443, step = 3301 (0.751 sec)\n",
      "INFO\t2019-02-26 14:58:42 +0100\tmaster-replica-0\t\tglobal_step/sec: 118.436\n",
      "INFO\t2019-02-26 14:58:42 +0100\tmaster-replica-0\t\tloss = 29.512897, step = 3401 (0.844 sec)\n",
      "INFO\t2019-02-26 14:58:43 +0100\tmaster-replica-0\t\tglobal_step/sec: 121.669\n",
      "INFO\t2019-02-26 14:58:43 +0100\tmaster-replica-0\t\tloss = 26.213184, step = 3501 (0.822 sec)\n",
      "INFO\t2019-02-26 14:58:44 +0100\tmaster-replica-0\t\tglobal_step/sec: 104.78\n",
      "INFO\t2019-02-26 14:58:44 +0100\tmaster-replica-0\t\tloss = 27.861076, step = 3601 (0.954 sec)\n",
      "INFO\t2019-02-26 14:58:45 +0100\tmaster-replica-0\t\tglobal_step/sec: 131.251\n",
      "INFO\t2019-02-26 14:58:45 +0100\tmaster-replica-0\t\tloss = 9.179043, step = 3701 (0.762 sec)\n",
      "INFO\t2019-02-26 14:58:46 +0100\tmaster-replica-0\t\tglobal_step/sec: 128.144\n",
      "INFO\t2019-02-26 14:58:46 +0100\tmaster-replica-0\t\tloss = 18.559498, step = 3801 (0.780 sec)\n",
      "INFO\t2019-02-26 14:58:47 +0100\tmaster-replica-0\t\tglobal_step/sec: 117.095\n",
      "INFO\t2019-02-26 14:58:47 +0100\tmaster-replica-0\t\tloss = 17.10899, step = 3901 (0.854 sec)\n",
      "INFO\t2019-02-26 14:58:48 +0100\tmaster-replica-0\t\tglobal_step/sec: 111.664\n",
      "INFO\t2019-02-26 14:58:48 +0100\tmaster-replica-0\t\tloss = 15.998984, step = 4001 (0.896 sec)\n",
      "INFO\t2019-02-26 14:58:48 +0100\tmaster-replica-0\t\tglobal_step/sec: 106.907\n",
      "INFO\t2019-02-26 14:58:48 +0100\tmaster-replica-0\t\tloss = 14.344251, step = 4101 (0.936 sec)\n",
      "INFO\t2019-02-26 14:58:49 +0100\tmaster-replica-0\t\tglobal_step/sec: 128.334\n",
      "INFO\t2019-02-26 14:58:49 +0100\tmaster-replica-0\t\tloss = 22.985023, step = 4201 (0.779 sec)\n",
      "INFO\t2019-02-26 14:58:50 +0100\tmaster-replica-0\t\tglobal_step/sec: 129.581\n",
      "INFO\t2019-02-26 14:58:50 +0100\tmaster-replica-0\t\tloss = 34.716415, step = 4301 (0.772 sec)\n",
      "INFO\t2019-02-26 14:58:51 +0100\tmaster-replica-0\t\tglobal_step/sec: 111.974\n",
      "INFO\t2019-02-26 14:58:51 +0100\tmaster-replica-0\t\tloss = 13.917028, step = 4401 (0.893 sec)\n",
      "INFO\t2019-02-26 14:58:52 +0100\tmaster-replica-0\t\tglobal_step/sec: 113.866\n",
      "INFO\t2019-02-26 14:58:52 +0100\tmaster-replica-0\t\tloss = 13.324679, step = 4501 (0.879 sec)\n",
      "INFO\t2019-02-26 14:58:53 +0100\tmaster-replica-0\t\tglobal_step/sec: 105.189\n",
      "INFO\t2019-02-26 14:58:53 +0100\tmaster-replica-0\t\tloss = 16.725422, step = 4601 (0.950 sec)\n",
      "INFO\t2019-02-26 14:58:54 +0100\tmaster-replica-0\t\tSaving checkpoints for 4688 into gs://ml-productive-pipeline-53122/pkg_mnist_fnn/trained/model.ckpt.\n",
      "INFO\t2019-02-26 14:59:10 +0100\tmaster-replica-0\t\tCalling model_fn.\n",
      "INFO\t2019-02-26 14:59:11 +0100\tmaster-replica-0\t\tDone calling model_fn.\n",
      "INFO\t2019-02-26 14:59:11 +0100\tmaster-replica-0\t\tStarting evaluation at 2019-02-26-13:59:11\n",
      "INFO\t2019-02-26 14:59:11 +0100\tmaster-replica-0\t\tGraph was finalized.\n",
      "INFO\t2019-02-26 14:59:11 +0100\tmaster-replica-0\t\tRestoring parameters from gs://ml-productive-pipeline-53122/pkg_mnist_fnn/trained/model.ckpt-4688\n",
      "INFO\t2019-02-26 14:59:13 +0100\tmaster-replica-0\t\tRunning local_init_op.\n",
      "INFO\t2019-02-26 14:59:13 +0100\tmaster-replica-0\t\tDone running local_init_op.\n",
      "INFO\t2019-02-26 14:59:13 +0100\tmaster-replica-0\t\tFinished evaluation at 2019-02-26-13:59:13\n",
      "INFO\t2019-02-26 14:59:13 +0100\tmaster-replica-0\t\tSaving dict for global step 4688: accuracy = 0.9659, average_loss = 0.12809898, global_step = 4688, loss = 16.21506\n",
      "INFO\t2019-02-26 14:59:17 +0100\tmaster-replica-0\t\tSaving 'checkpoint_path' summary for global step 4688: gs://ml-productive-pipeline-53122/pkg_mnist_fnn/trained/model.ckpt-4688\n",
      "INFO\t2019-02-26 14:59:22 +0100\tmaster-replica-0\t\tCalling model_fn.\n",
      "INFO\t2019-02-26 14:59:23 +0100\tmaster-replica-0\t\tDone calling model_fn.\n",
      "INFO\t2019-02-26 14:59:23 +0100\tmaster-replica-0\t\tSignatures INCLUDED in export for Regress: None\n",
      "INFO\t2019-02-26 14:59:23 +0100\tmaster-replica-0\t\tSignatures INCLUDED in export for Classify: None\n",
      "INFO\t2019-02-26 14:59:23 +0100\tmaster-replica-0\t\tSignatures INCLUDED in export for Train: None\n",
      "INFO\t2019-02-26 14:59:23 +0100\tmaster-replica-0\t\tSignatures INCLUDED in export for Predict: ['predict']\n",
      "INFO\t2019-02-26 14:59:23 +0100\tmaster-replica-0\t\tSignatures INCLUDED in export for Eval: None\n",
      "INFO\t2019-02-26 14:59:23 +0100\tmaster-replica-0\t\tSignatures EXCLUDED from export because they cannot be be served via TensorFlow Serving APIs:\n",
      "INFO\t2019-02-26 14:59:23 +0100\tmaster-replica-0\t\t'classification' : Classification input must be a single string Tensor; got {'x': <tf.Tensor 'Placeholder:0' shape=(?, 784) dtype=float32>}\n",
      "INFO\t2019-02-26 14:59:23 +0100\tmaster-replica-0\t\t'serving_default' : Classification input must be a single string Tensor; got {'x': <tf.Tensor 'Placeholder:0' shape=(?, 784) dtype=float32>}\n",
      "WARNING\t2019-02-26 14:59:23 +0100\tmaster-replica-0\t\tExport includes no default signature!\n",
      "INFO\t2019-02-26 14:59:23 +0100\tmaster-replica-0\t\tRestoring parameters from gs://ml-productive-pipeline-53122/pkg_mnist_fnn/trained/model.ckpt-4688\n",
      "WARNING\t2019-02-26 14:59:24 +0100\tmaster-replica-0\t\tFrom /usr/local/lib/python3.5/dist-packages/tensorflow/python/estimator/estimator.py:1044: calling SavedModelBuilder.add_meta_graph_and_variables (from tensorflow.python.saved_model.builder_impl) with legacy_init_op is deprecated and will be removed in a future version.\n",
      "WARNING\t2019-02-26 14:59:24 +0100\tmaster-replica-0\t\tInstructions for updating:\n",
      "WARNING\t2019-02-26 14:59:24 +0100\tmaster-replica-0\t\tPass your op to the equivalent parameter main_op instead.\n",
      "INFO\t2019-02-26 14:59:24 +0100\tmaster-replica-0\t\tAssets added to graph.\n",
      "INFO\t2019-02-26 14:59:24 +0100\tmaster-replica-0\t\tNo assets to write.\n",
      "INFO\t2019-02-26 14:59:37 +0100\tmaster-replica-0\t\tSavedModel written to: gs://ml-productive-pipeline-53122/pkg_mnist_fnn/trained/export/exporter/temp-b'1551189558'/saved_model.pb\n",
      "INFO\t2019-02-26 14:59:44 +0100\tmaster-replica-0\t\tLoss for final step: 4.3825617.\n",
      "INFO\t2019-02-26 14:59:44 +0100\tmaster-replica-0\t\tModule completed; cleaning up.\n",
      "INFO\t2019-02-26 14:59:44 +0100\tmaster-replica-0\t\tClean up finished.\n",
      "INFO\t2019-02-26 14:59:44 +0100\tmaster-replica-0\t\tTask completed successfully.\n"
     ]
    }
   ],
   "source": [
    "!gcloud ai-platform jobs stream-logs mnist_201911271216"
   ]
  },
  {
   "cell_type": "markdown",
   "metadata": {
    "slideshow": {
     "slide_type": "notes"
    }
   },
   "source": [
    "Don't be concerned if the notebook appears stalled (with a blue progress bar) or returns with an error about being unable to refresh auth tokens. This is a long-lived Cloud job and work is going on in the cloud. \n",
    "\n",
    "**Use the Cloud Console link to monitor the job and do NOT proceed until the job is done.**"
   ]
  },
  {
   "cell_type": "markdown",
   "metadata": {
    "slideshow": {
     "slide_type": "slide"
    }
   },
   "source": [
    "## Check Results in TensorBoard\n",
    "\n",
    "- In Datalab Tensorboard is available using a special package. On your local machine, you can execute tensorflow using the command line."
   ]
  },
  {
   "cell_type": "markdown",
   "metadata": {
    "slideshow": {
     "slide_type": "skip"
    }
   },
   "source": [
    "In Datalab Tensorboard is available using a special package. On your local machine, you can execute tensorflow using the command line.\n",
    "\n",
    "DATALAB:"
   ]
  },
  {
   "cell_type": "code",
   "execution_count": null,
   "metadata": {
    "slideshow": {
     "slide_type": "skip"
    }
   },
   "outputs": [],
   "source": [
    "from google.datalab.ml import TensorBoard\n",
    "TensorBoard().start(('{}/'+os.environ['PKG_NAME']).format(os.environ['PWD']))"
   ]
  },
  {
   "cell_type": "code",
   "execution_count": null,
   "metadata": {
    "slideshow": {
     "slide_type": "skip"
    }
   },
   "outputs": [],
   "source": [
    "for pid in TensorBoard.list()['pid']:\n",
    "  TensorBoard().stop(pid)\n",
    "  print('Stopped TensorBoard with pid {}'.format(pid))"
   ]
  },
  {
   "cell_type": "markdown",
   "metadata": {
    "slideshow": {
     "slide_type": "skip"
    }
   },
   "source": [
    "If the above step (to stop TensorBoard) appears stalled, just move on to the next step. You don't need to wait for it to return."
   ]
  },
  {
   "cell_type": "markdown",
   "metadata": {
    "slideshow": {
     "slide_type": "fragment"
    }
   },
   "source": [
    "Local Machine: `tensorboard --logdir /home/enryh/proj_DL_models_and_pipelines_with_GCP/src/pkg_mnist_fnn/trained`"
   ]
  },
  {
   "cell_type": "code",
   "execution_count": 59,
   "metadata": {
    "cell_style": "split",
    "slideshow": {
     "slide_type": "fragment"
    }
   },
   "outputs": [
    {
     "name": "stdout",
     "output_type": "stream",
     "text": [
      "Process is terminated.\n"
     ]
    }
   ],
   "source": [
    "%%bash\n",
    "conda activate gcp_dl\n",
    "tensorboard --logdir $PWD/src/$PKG_NAME/trained"
   ]
  },
  {
   "cell_type": "code",
   "execution_count": null,
   "metadata": {},
   "outputs": [],
   "source": [
    "%%cmd\n",
    "conda activate gcp_dl\n",
    "tensorboard --logdir %cd%\\trained\\%PKG_NAME%\\trained"
   ]
  },
  {
   "cell_type": "code",
   "execution_count": null,
   "metadata": {
    "slideshow": {
     "slide_type": "fragment"
    }
   },
   "outputs": [],
   "source": [
    "%%bash\n",
    "#gcloud auth application-default login\n",
    "echo $OUTDIR\n",
    "tensorboard --logdir $OUTDIR"
   ]
  },
  {
   "cell_type": "code",
   "execution_count": null,
   "metadata": {},
   "outputs": [],
   "source": [
    "%%cmd\n",
    "#gcloud auth application-default login\n",
    "echo %OUTDIR%\n",
    "tensorboard --logdir %OUTDIR%"
   ]
  },
  {
   "cell_type": "markdown",
   "metadata": {
    "slideshow": {
     "slide_type": "slide"
    }
   },
   "source": [
    "# Deploy model - from any previous step\n",
    "\n",
    "- `tf.estimator.LatestExporter`is used to store a model for deployment in the cloud\n",
    "- See also:  `tf.estimator.export`, `tf.saved_model`\n",
    "\n",
    "[Link to Console](https://console.cloud.google.com/)"
   ]
  },
  {
   "cell_type": "code",
   "execution_count": 115,
   "metadata": {
    "slideshow": {
     "slide_type": "fragment"
    }
   },
   "outputs": [
    {
     "name": "stdout",
     "output_type": "stream",
     "text": [
      "gs://ml-productive-pipeline-53122/pkg_mnist_fnn/trained/export/exporter/\n",
      "gs://ml-productive-pipeline-53122/pkg_mnist_fnn/trained/export/exporter/1551195744/\n"
     ]
    }
   ],
   "source": [
    "%%bash\n",
    "gsutil ls gs://${BUCKET}/${PKG_NAME}/trained/export/exporter "
   ]
  },
  {
   "cell_type": "code",
   "execution_count": 22,
   "metadata": {},
   "outputs": [
    {
     "name": "stderr",
     "output_type": "stream",
     "text": [
      "UsageError: Cell magic `%%powershell` not found.\n"
     ]
    }
   ],
   "source": [
    "%%cmd\n",
    "gsutil ls gs://%BUCKET%/%PKG_NAME%/trained/export/exporter "
   ]
  },
  {
   "cell_type": "markdown",
   "metadata": {
    "slideshow": {
     "slide_type": "fragment"
    }
   },
   "source": [
    "Identifier for deployed model:\n",
    "- `MODEL_NAME`\n",
    "- `MODEL_VERSION`"
   ]
  },
  {
   "cell_type": "code",
   "execution_count": 111,
   "metadata": {
    "slideshow": {
     "slide_type": "fragment"
    }
   },
   "outputs": [
    {
     "name": "stdout",
     "output_type": "stream",
     "text": [
      "Run these commands one-by-one (the very first time, you'll create a model and then create a version)\n"
     ]
    },
    {
     "name": "stderr",
     "output_type": "stream",
     "text": [
      "ERROR: (gcloud.ml-engine.models.create) Resource in project [ml-productive-pipeline-53122] is the subject of a conflict: Field: model.name Error: A model with the same name already exists.\n",
      "- '@type': type.googleapis.com/google.rpc.BadRequest\n",
      "  fieldViolations:\n",
      "  - description: A model with the same name already exists.\n",
      "    field: model.name\n",
      "Creating version (this might take a few minutes)......\n",
      "..............................................................................................done.\n"
     ]
    }
   ],
   "source": [
    "%%bash\n",
    "MODEL_NAME=\"MNIST_MLENGINE\"\n",
    "MODEL_VERSION=\"v3\" \n",
    "MODEL_LOCATION=$(gsutil ls gs://${BUCKET}/$PKG_NAME/trained/export/exporter | tail -1)\n",
    "echo \"Run these commands one-by-one (the very first time, you'll create a model and then create a version)\"\n",
    "#gcloud ml-engine versions delete ${MODEL_VERSION} --model ${MODEL_NAME}\n",
    "#gcloud ml-engine models delete ${MODEL_NAME}\n",
    "gcloud ml-engine models   create ${MODEL_NAME} --regions $REGION\n",
    "gcloud ml-engine versions create ${MODEL_VERSION} --model ${MODEL_NAME} --origin ${MODEL_LOCATION} --runtime-version $TFVERSION"
   ]
  },
  {
   "cell_type": "code",
   "execution_count": 44,
   "metadata": {},
   "outputs": [
    {
     "name": "stdout",
     "output_type": "stream",
     "text": [
      "gs://bold-circuit-254311/pkg_mnist_fnn/trained/export/exporter/\n",
      "gs://bold-circuit-254311/pkg_mnist_fnn/trained/export/exporter/1574854154/\n"
     ]
    }
   ],
   "source": [
    "!gsutil ls gs://%BUCKET%/%PKG_NAME%/trained/export/exporter"
   ]
  },
  {
   "cell_type": "code",
   "execution_count": 45,
   "metadata": {},
   "outputs": [
    {
     "name": "stdout",
     "output_type": "stream",
     "text": [
      "Microsoft Windows [Version 10.0.17763.864]\n",
      "(c) 2018 Microsoft Corporation. All rights reserved.\n",
      "\n",
      "(gcp_dl) c:\\Users\\kzl465\\Documents\\gcp_ml_engine_talk>set MODEL_NAME=\"MNIST_MLENGINE\"\n",
      "\n",
      "(gcp_dl) c:\\Users\\kzl465\\Documents\\gcp_ml_engine_talk>set MODEL_VERSION=\"v1\" \n",
      "\n",
      "(gcp_dl) c:\\Users\\kzl465\\Documents\\gcp_ml_engine_talk>set NAME=1574854154\n",
      "\n",
      "(gcp_dl) c:\\Users\\kzl465\\Documents\\gcp_ml_engine_talk>set MODEL_LOCATION=gs://%BUCKET%/%PKG_NAME%/trained/export/exporter/1574854154\n",
      "\n",
      "(gcp_dl) c:\\Users\\kzl465\\Documents\\gcp_ml_engine_talk>\n",
      "(gcp_dl) c:\\Users\\kzl465\\Documents\\gcp_ml_engine_talk>echo \"Run these commands one-by-one (the very first time, you'll create a model and then create a version)\"\n",
      "\"Run these commands one-by-one (the very first time, you'll create a model and then create a version)\"\n",
      "\n",
      "(gcp_dl) c:\\Users\\kzl465\\Documents\\gcp_ml_engine_talk># gcloud ml-engine versions delete %MODEL_VERSION% --model %MODEL_NAME%\n",
      "\n",
      "(gcp_dl) c:\\Users\\kzl465\\Documents\\gcp_ml_engine_talk># gcloud ml-engine models delete %MODEL_NAME%\n",
      "\n",
      "(gcp_dl) c:\\Users\\kzl465\\Documents\\gcp_ml_engine_talk>gcloud ml-engine models   create %MODEL_NAME% --regions %REGION%\n",
      "\n",
      "(gcp_dl) c:\\Users\\kzl465\\Documents\\gcp_ml_engine_talk>gcloud ml-engine versions create %MODEL_VERSION% --model %MODEL_NAME% --origin %MODEL_LOCATION% --runtime-version %TFVERSION%\n",
      "\n",
      "(gcp_dl) c:\\Users\\kzl465\\Documents\\gcp_ml_engine_talk>"
     ]
    },
    {
     "name": "stderr",
     "output_type": "stream",
     "text": [
      "'#' is not recognized as an internal or external command,\n",
      "operable program or batch file.\n",
      "'#' is not recognized as an internal or external command,\n",
      "operable program or batch file.\n",
      "WARNING: The `gcloud ml-engine` commands have been renamed and will soon be removed. Please use `gcloud ai-platform` instead.\n",
      "ERROR: (gcloud.ml-engine.models.create) Resource in project [bold-circuit-254311] is the subject of a conflict: Field: model.name Error: A model with the same name already exists.\n",
      "- '@type': type.googleapis.com/google.rpc.BadRequest\n",
      "  fieldViolations:\n",
      "  - description: A model with the same name already exists.\n",
      "    field: model.name\n",
      "WARNING: The `gcloud ml-engine` commands have been renamed and will soon be removed. Please use `gcloud ai-platform` instead.\n",
      "Creating version (this might take a few minutes)......\n",
      "...............................................................................................................................................................................................................................................................................................................................................................................................................................................................................................................................................................................................................................................................................................................................................................................................................................................................................................................................................................................................................................................................................................................................................................................................................................................................................................................................................................................................................................................................................................................................................................done.\n"
     ]
    }
   ],
   "source": [
    "%%cmd\n",
    "set MODEL_NAME=\"MNIST_MLENGINE\"\n",
    "set MODEL_VERSION=\"v1\" \n",
    "set NAME=1574854154\n",
    "set MODEL_LOCATION=gs://%BUCKET%/%PKG_NAME%/trained/export/exporter/1574854154\n",
    "\n",
    "echo \"Run these commands one-by-one (the very first time, you'll create a model and then create a version)\"\n",
    "# gcloud ml-engine versions delete %MODEL_VERSION% --model %MODEL_NAME%\n",
    "# gcloud ml-engine models delete %MODEL_NAME%\n",
    "gcloud ml-engine models   create %MODEL_NAME% --regions %REGION%\n",
    "gcloud ml-engine versions create %MODEL_VERSION% --model %MODEL_NAME% --origin %MODEL_LOCATION% --runtime-version %TFVERSION%"
   ]
  },
  {
   "cell_type": "markdown",
   "metadata": {
    "slideshow": {
     "slide_type": "slide"
    }
   },
   "source": [
    "# Predictions"
   ]
  },
  {
   "cell_type": "markdown",
   "metadata": {
    "cell_style": "split",
    "slideshow": {
     "slide_type": "fragment"
    }
   },
   "source": [
    "1. Using the Model saved by Python Module\n",
    "2. Using Model saved by `ml-engine local`\n",
    "3. Using Model trained online"
   ]
  },
  {
   "cell_type": "markdown",
   "metadata": {
    "cell_style": "split",
    "slideshow": {
     "slide_type": "fragment"
    }
   },
   "source": [
    "Tools get predictions:\n",
    "- Command Line Interfaces\n",
    "    - `gcloud ml-engine local predict`\n",
    "    - `gcloud ml-engine predict`\n",
    "- Python Client"
   ]
  },
  {
   "cell_type": "markdown",
   "metadata": {
    "slideshow": {
     "slide_type": "subslide"
    }
   },
   "source": [
    "### Let's look again at our four examples"
   ]
  },
  {
   "cell_type": "code",
   "execution_count": 47,
   "metadata": {
    "slideshow": {
     "slide_type": "fragment"
    }
   },
   "outputs": [
    {
     "data": {
      "image/png": "[encoded data removed]",
      "text/plain": [
       "<Figure size 1440x288 with 4 Axes>"
      ]
     },
     "metadata": {
      "needs_background": "light"
     },
     "output_type": "display_data"
    }
   ],
   "source": [
    "from src.utils.mnist_utils import plot_mnist_testdata\n",
    "plot_mnist_testdata()"
   ]
  },
  {
   "cell_type": "markdown",
   "metadata": {
    "slideshow": {
     "slide_type": "subslide"
    }
   },
   "source": [
    "## ML-Engine: `ml-engine local predict`\n",
    "- Using Model saved\n",
    "  - Python module\n",
    "  - `ml-engine local`"
   ]
  },
  {
   "cell_type": "markdown",
   "metadata": {
    "slideshow": {
     "slide_type": "skip"
    }
   },
   "source": [
    "### `ML-Engine local` using Python 3 ...\n",
    "you still have to remove manually some compiled python files"
   ]
  },
  {
   "cell_type": "code",
   "execution_count": null,
   "metadata": {
    "slideshow": {
     "slide_type": "skip"
    }
   },
   "outputs": [],
   "source": [
    "!ls /usr/lib/google-cloud-sdk/lib/googlecloudsdk/command_lib/ml_engine/"
   ]
  },
  {
   "cell_type": "code",
   "execution_count": null,
   "metadata": {},
   "outputs": [],
   "source": []
  },
  {
   "cell_type": "markdown",
   "metadata": {
    "slideshow": {
     "slide_type": "skip"
    }
   },
   "source": [
    "In order to work with `Python 3`, delete the `*.pyc` files, see [post](https://stackoverflow.com/questions/48824381/gcloud-ml-engine-local-predict-runtimeerror-bad-magic-number-in-pyc-file)\n",
    "\n",
    "Default Datalab\n",
    "```\n",
    "rm /tools/google-cloud-sdk/lib/googlecloudsdk/command_lib/ml_engine/*.pyc\n",
    "```\n",
    "Default UNIX:\n",
    "```\n",
    "sudo rm /usr/lib/google-cloud-sdk/lib/googlecloudsdk/command_lib/ml_engine/*.pyc\n",
    "```\n",
    "\n",
    "> Process running Datalab or Jupyter Notebook needs admin rights. This is not always given for locally run notebooks"
   ]
  },
  {
   "cell_type": "code",
   "execution_count": null,
   "metadata": {
    "slideshow": {
     "slide_type": "skip"
    }
   },
   "outputs": [],
   "source": [
    "%%bash\n",
    "# #remove any pyc files: Using Python3 you have to recompile\n",
    "# #Note: you need admin rights\n",
    "rm /tools/google-cloud-sdk/lib/googlecloudsdk/command_lib/ml_engine/*.pyc\n",
    "# sudo rm /usr/lib/google-cloud-sdk/lib/googlecloudsdk/command_lib/ml_engine/*.pyc "
   ]
  },
  {
   "cell_type": "code",
   "execution_count": null,
   "metadata": {},
   "outputs": [],
   "source": []
  },
  {
   "cell_type": "code",
   "execution_count": 117,
   "metadata": {
    "collapsed": true,
    "jupyter": {
     "outputs_hidden": true
    },
    "slideshow": {
     "slide_type": "fragment"
    }
   },
   "outputs": [
    {
     "name": "stdout",
     "output_type": "stream",
     "text": [
      "Selected Model:  1551195228\n",
      "CLASS_IDS  CLASSES  LOGITS                                                                                                                                                                                                    PROBABILITIES\n",
      "[7]        [u'7']   [10.159305572509766, 12.954800605773926, 11.682648658752441, 13.86036205291748, 25.222925186157227, 7.880295276641846, -3.0875470638275146, 39.66598892211914, 10.021535873413086, 31.613039016723633]    [1.5320462455094275e-13, 2.508069489939868e-12, 7.028310767577539e-13, 6.2032701024505865e-12, 5.337264497029537e-07, 1.5685923629329794e-14, 2.705433004601221e-19, 0.9996814727783203, 1.334870934491597e-13, 0.0003180606581736356]\n",
      "[4]        [u'4']   [15.225436210632324, 9.730201721191406, 23.877195358276367, 10.366071701049805, 55.04463195800781, 25.375831604003906, 4.700004577636719, 11.3602294921875, 20.23716926574707, 36.84248352050781]         [5.0903007448063715e-18, 2.09022482340398e-20, 2.9117513115255525e-14, 3.947741122276919e-20, 1.0, 1.3031779431613155e-13, 1.3664889676131002e-22, 1.0668541917122214e-19, 7.643815369040346e-16, 1.2442492369757474e-08]\n",
      "[5]        [u'5']   [3.782614231109619, -1.0346084833145142, -10.292284965515137, 12.222375869750977, -3.435852527618408, 20.981077194213867, 7.780500411987305, -10.769729614257812, 10.912049293518066, 5.829242706298828]  [3.394022130009944e-08, 2.7455002160614583e-10, 2.6185703385912633e-14, 0.00015705682744737715, 2.487567270226254e-11, 0.9997984766960144, 1.8491613218429848e-06, 1.6244721429028823e-14, 4.236324457451701e-05, 2.627570552249381e-07]\n",
      "[5]        [u'5']   [-3.44067645072937, 3.010024309158325, -24.10145378112793, 17.05324363708496, -9.225375175476074, 29.1401309967041, 5.396637916564941, -15.62303352355957, 16.527509689331055, 13.723596572875977]        [7.084862244674615e-15, 4.4857511802276484e-12, 7.541705102556462e-24, 5.6328412938455585e-06, 2.17805473030542e-17, 0.9999908208847046, 4.8789729201192955e-11, 3.6274435412818885e-20, 3.3296930723736295e-06, 2.0168806713627419e-07]\n"
     ]
    },
    {
     "name": "stderr",
     "output_type": "stream",
     "text": [
      "DEBUG: Running [gcloud.ml-engine.local.predict] with arguments: [--json-instances: \"./data/test.json\", --model-dir: \"/home/enryh/proj_DL_models_and_pipelines_with_GCP/src/pkg_mnist_fnn/trained/export/exporter/1551195228\", --verbosity: \"debug\"]\n",
      "WARNING: 2019-02-26 16:48:35.696390: I tensorflow/core/platform/cpu_feature_guard.cc:141] Your CPU supports instructions that this TensorFlow binary was not compiled to use: SSE4.1 SSE4.2 AVX AVX2 FMA\n",
      "2019-02-26 16:48:35.700984: I tensorflow/core/common_runtime/process_util.cc:69] Creating new thread pool with default inter op setting: 2. Tune using inter_op_parallelism_threads for best performance.\n",
      "\n",
      "INFO: Display format: \"default \n",
      "          table(\n",
      "              predictions:format=\"table(\n",
      "                  class_ids, classes, logits, probabilities\n",
      "              )\"\n",
      "          )\"\n",
      "DEBUG: SDK update checks are disabled.\n"
     ]
    }
   ],
   "source": [
    "%%bash\n",
    "conda activate gcp_dl\n",
    "model_dir=$(ls $PWD/src/$PKG_NAME/trained/export/exporter/ | tail -1)\n",
    "echo \"Selected Model:  $model_dir\" \n",
    "gcloud ml-engine local predict \\\n",
    "    --model-dir=${PWD}/src/${PKG_NAME}/trained/export/exporter/${model_dir} \\\n",
    "    --json-instances=./data/test.json \\\n",
    "    --verbosity debug > data/test_predictions\n",
    "cat data/test_predictions"
   ]
  },
  {
   "cell_type": "code",
   "execution_count": null,
   "metadata": {},
   "outputs": [],
   "source": []
  },
  {
   "cell_type": "code",
   "execution_count": null,
   "metadata": {
    "slideshow": {
     "slide_type": "subslide"
    }
   },
   "outputs": [],
   "source": [
    "%%bash\n",
    "gcloud ml-engine local predict --help"
   ]
  },
  {
   "cell_type": "code",
   "execution_count": null,
   "metadata": {},
   "outputs": [],
   "source": []
  },
  {
   "cell_type": "markdown",
   "metadata": {
    "slideshow": {
     "slide_type": "subslide"
    }
   },
   "source": [
    "## Online Prediction - Command Line\n",
    "\n",
    "- same output format as before"
   ]
  },
  {
   "cell_type": "code",
   "execution_count": 118,
   "metadata": {
    "collapsed": true,
    "jupyter": {
     "outputs_hidden": true
    },
    "slideshow": {
     "slide_type": "fragment"
    }
   },
   "outputs": [
    {
     "name": "stdout",
     "output_type": "stream",
     "text": [
      "CLASS_IDS  CLASSES  LOGITS                                                                                                                                                                                                    PROBABILITIES\n",
      "[7]        [u'7']   [22.002077102661133, 4.273345470428467, 24.17157745361328, 24.138999938964844, 28.22089195251465, 23.208688735961914, 3.522111415863037, 42.038028717041016, 16.697460174560547, 34.3787841796875]        [1.9874284440390966e-09, 3.970099341190314e-17, 1.739776855913533e-08, 1.6840123961969766e-08, 9.97903271127143e-07, 6.6422662925447185e-09, 1.8730255928538357e-17, 0.9995274543762207, 9.874739914650377e-12, 0.00047144072595983744]\n",
      "[4]        [u'4']   [11.610347747802734, 10.453926086425781, 18.951528549194336, 3.513504981994629, 41.507911682128906, 4.462229251861572, 18.024948120117188, 25.706693649291992, 16.08464241027832, 24.898889541625977]     [1.036699412838675e-13, 3.261559655708991e-14, 1.5991424850980707e-10, 3.1567362844616174e-17, 0.9999997615814209, 8.152016476198307e-17, 6.331089125177769e-11, 1.3728342196372978e-07, 9.095242788081936e-12, 6.120589546299016e-08]\n",
      "[5]        [u'5']   [-20.481739044189453, 5.201707363128662, -9.008527755737305, 25.164512634277344, -4.678137302398682, 36.32118225097656, 12.107990264892578, -13.12998104095459, 19.115779876708984, 19.213247299194336]   [2.1418963944095923e-25, 3.0547643543399686e-14, 2.0584958230053224e-20, 1.4279523384175263e-05, 1.563921226037417e-18, 0.9999855756759644, 3.0502683712185785e-11, 3.339073526441691e-22, 3.3711838653971427e-08, 3.716310459367378e-08]\n",
      "[5]        [u'5']   [-13.769794464111328, 1.9858458042144775, -9.184881210327148, 22.786863327026367, -3.4392242431640625, 33.071468353271484, 7.793736457824707, -7.796194076538086, 19.236434936523438, 19.60871124267578]  [4.540275232752444e-21, 3.1598733503911125e-14, 4.449236493860811e-19, 3.4153628803323954e-05, 1.3918478476507165e-16, 0.9999634027481079, 1.051972051135941e-11, 1.783958093216576e-18, 9.806306024984224e-07, 1.42292822147283e-06]\n"
     ]
    }
   ],
   "source": [
    "%%bash\n",
    "gcloud ml-engine predict --model=MNIST_MLENGINE --version=v1 --json-instances=data/test.json"
   ]
  },
  {
   "cell_type": "code",
   "execution_count": 48,
   "metadata": {},
   "outputs": [
    {
     "name": "stdout",
     "output_type": "stream",
     "text": [
      "Microsoft Windows [Version 10.0.17763.864]\n",
      "(c) 2018 Microsoft Corporation. All rights reserved.\n",
      "\n",
      "(gcp_dl) c:\\Users\\kzl465\\Documents\\gcp_ml_engine_talk>gcloud ml-engine predict --model=MNIST_MLENGINE --version=v1 --json-instances=data\\test.json\n",
      "CLASS_IDS  CLASSES  LOGITS                                                                                                                                                                                                   PROBABILITIES\n",
      "[7]        [u'7']   [17.58386993408203, 16.07724952697754, 16.789281845092773, 21.36930274963379, 21.408531188964844, 14.824420928955078, -10.157759666442871, 45.70421600341797, 17.613882064819336, 36.35768127441406]     [6.129866037506149e-13, 1.358732733530016e-13, 2.769272712619536e-13, 2.700496076757375e-11, 2.8085376038711196e-11, 3.881838833664705e-14, 5.487997835324243e-25, 0.9999127388000488, 6.316624740626553e-13, 8.725967927603051e-05]\n",
      "[4]        [u'4']   [-28.75107192993164, 3.4247384071350098, 0.550232470035553, -1.3227415084838867, 36.92734909057617, -23.553617477416992, -19.745494842529297, 14.982884407043457, 3.697523593902588, 21.28719711303711]  [2.993809348448241e-29, 2.8183932882549622e-15, 1.5908115194471174e-16, 2.444534935106318e-17, 0.9999998807907104, 5.413158139022739e-27, 2.4394761750148186e-25, 2.948761512744369e-10, 3.702292497505559e-15, 1.6127545166000345e-07]\n",
      "[5]        [u'5']   [3.237467050552368, -3.2350244522094727, -1.8331584930419922, 13.831097602844238, -0.10239975154399872, 19.642471313476562, 6.452430725097656, 6.126350402832031, 9.750496864318848, 9.691028594970703]  [7.482643837875003e-08, 1.1563472401832087e-10, 4.697972566525266e-10, 0.002984079997986555, 2.6519748619335815e-09, 0.9969147443771362, 1.863357397269283e-06, 1.344873112429923e-06, 5.0422931963112205e-05, 4.7511784941889346e-05]\n",
      "[5]        [u'5']   [6.262930870056152, -4.95736026763916, -3.917658567428589, 28.29425048828125, 3.8882901668548584, 46.509063720703125, 23.546585083007812, 4.6728291511535645, 23.533432006835938, 20.02730941772461]     [3.3214444880331763e-18, 4.4505784156803516e-23, 1.2587869872918514e-22, 1.2285903849829083e-08, 3.0905326256419944e-19, 1.0, 1.0654234439133603e-10, 6.772577454429713e-19, 1.051501594129256e-10, 3.1558783364360465e-12]\n",
      "\n",
      "(gcp_dl) c:\\Users\\kzl465\\Documents\\gcp_ml_engine_talk>"
     ]
    },
    {
     "name": "stderr",
     "output_type": "stream",
     "text": [
      "WARNING: The `gcloud ml-engine` commands have been renamed and will soon be removed. Please use `gcloud ai-platform` instead.\n"
     ]
    }
   ],
   "source": [
    "%%cmd\n",
    "gcloud ml-engine predict --model=MNIST_MLENGINE --version=v1 --json-instances=data\\test.json"
   ]
  },
  {
   "cell_type": "markdown",
   "metadata": {
    "slideshow": {
     "slide_type": "fragment"
    }
   },
   "source": [
    "> Check Console"
   ]
  },
  {
   "cell_type": "code",
   "execution_count": 85,
   "metadata": {
    "slideshow": {
     "slide_type": "skip"
    }
   },
   "outputs": [
    {
     "data": {
      "image/png": "[encoded data removed]",
      "text/plain": [
       "<Figure size 1440x288 with 4 Axes>"
      ]
     },
     "metadata": {
      "needs_background": "light"
     },
     "output_type": "display_data"
    }
   ],
   "source": [
    "plot_mnist_testdata()"
   ]
  },
  {
   "cell_type": "markdown",
   "metadata": {
    "slideshow": {
     "slide_type": "subslide"
    }
   },
   "source": [
    "## Online Prediction - Python Client"
   ]
  },
  {
   "cell_type": "markdown",
   "metadata": {
    "slideshow": {
     "slide_type": "fragment"
    }
   },
   "source": [
    "- Get predictions using the [Python-Client-Library, see Tutorial](https://cloud.google.com/ml-engine/docs/tensorflow/python-client-library). \n",
    "\n",
    "- [API-Reference](https://cloud.google.com/ml-engine/reference/rest/)\n",
    "\n",
    "-  service account authentification:  [link](https://cloud.google.com/iam/docs/creating-managing-service-accounts)"
   ]
  },
  {
   "cell_type": "code",
   "execution_count": null,
   "metadata": {
    "slideshow": {
     "slide_type": "skip"
    }
   },
   "outputs": [],
   "source": [
    "# %bash\n",
    "# export GOOGLE_APPLICATION_CREDENTIALS=$PWD/ML-productive-pipeline-53122-64d3c31786e7.json\n",
    "# echo $GOOGLE_APPLICATION_CREDENTIALS"
   ]
  },
  {
   "cell_type": "code",
   "execution_count": 55,
   "metadata": {
    "slideshow": {
     "slide_type": "skip"
    }
   },
   "outputs": [],
   "source": [
    "os.environ['GOOGLE_APPLICATION_CREDENTIALS'] = '../My First Project-be9253caf389.json'"
   ]
  },
  {
   "cell_type": "code",
   "execution_count": 51,
   "metadata": {
    "slideshow": {
     "slide_type": "fragment"
    }
   },
   "outputs": [],
   "source": [
    "from oauth2client.client import GoogleCredentials\n",
    "from googleapiclient import discovery\n",
    "from googleapiclient import errors\n",
    "import json"
   ]
  },
  {
   "cell_type": "code",
   "execution_count": 52,
   "metadata": {
    "slideshow": {
     "slide_type": "skip"
    }
   },
   "outputs": [
    {
     "data": {
      "text/plain": [
       "\u001b[1;31mClass docstring:\u001b[0m\n",
       "    Construct a Resource for interacting with an API.\n",
       "    \n",
       "    Construct a Resource object for interacting with an API. The serviceName and\n",
       "    version are the names from the Discovery service.\n",
       "    \n",
       "    Args:\n",
       "      serviceName: string, name of the service.\n",
       "      version: string, the version of the service.\n",
       "      http: httplib2.Http, An instance of httplib2.Http or something that acts\n",
       "        like it that HTTP requests will be made through.\n",
       "      discoveryServiceUrl: string, a URI Template that points to the location of\n",
       "        the discovery service. It should have two parameters {api} and\n",
       "        {apiVersion} that when filled in produce an absolute URI to the discovery\n",
       "        document for that service.\n",
       "      developerKey: string, key obtained from\n",
       "        https://code.google.com/apis/console.\n",
       "      model: googleapiclient.Model, converts to and from the wire format.\n",
       "      requestBuilder: googleapiclient.http.HttpRequest, encapsulator for an HTTP\n",
       "        request.\n",
       "      credentials: oauth2client.Credentials or\n",
       "        google.auth.credentials.Credentials, credentials to be used for\n",
       "        authentication.\n",
       "      cache_discovery: Boolean, whether or not to cache the discovery doc.\n",
       "      cache: googleapiclient.discovery_cache.base.CacheBase, an optional\n",
       "        cache object for the discovery documents.\n",
       "    \n",
       "    Returns:\n",
       "      A Resource object with methods for interacting with the service.\n",
       "\u001b[1;31mCall docstring:\u001b[0m\n",
       "    Call self as a function."
      ]
     },
     "metadata": {},
     "output_type": "display_data"
    }
   ],
   "source": [
    "%pdoc discovery.build"
   ]
  },
  {
   "cell_type": "markdown",
   "metadata": {
    "slideshow": {
     "slide_type": "skip"
    }
   },
   "source": [
    "```\n",
    "Signature: discovery.build(serviceName, version, http=None, discoveryServiceUrl='https://www.googleapis.com/discovery/v1/apis/{api}/{apiVersion}/rest', developerKey=None, model=None, requestBuilder=<class 'googleapiclient.http.HttpRequest'>, credentials=None, cache_discovery=True, cache=None)\n",
    "Docstring:\n",
    "Construct a Resource for interacting with an API.\n",
    "\n",
    "Construct a Resource object for interacting with an API. The serviceName and\n",
    "version are the names from the Discovery service.\n",
    "\n",
    "Args:\n",
    "serviceName: string, name of the service.\n",
    "version: string, the version of the service.\n",
    "http: httplib2.Http, An instance of httplib2.Http or something that acts\n",
    "like it that HTTP requests will be made through.\n",
    "discoveryServiceUrl: string, a URI Template that points to the location of\n",
    "the discovery service. It should have two parameters {api} and\n",
    "{apiVersion} that when filled in produce an absolute URI to the discovery\n",
    "document for that service.\n",
    "developerKey: string, key obtained from\n",
    "https://code.google.com/apis/console.\n",
    "model: googleapiclient.Model, converts to and from the wire format.\n",
    "requestBuilder: googleapiclient.http.HttpRequest, encapsulator for an HTTP\n",
    "request.\n",
    "credentials: oauth2client.Credentials or\n",
    "google.auth.credentials.Credentials, credentials to be used for\n",
    "authentication.\n",
    "cache_discovery: Boolean, whether or not to cache the discovery doc.\n",
    "cache: googleapiclient.discovery_cache.base.CacheBase, an optional\n",
    "cache object for the discovery documents.\n",
    "\n",
    "Returns:\n",
    "A Resource object with methods for interacting with the service.\n",
    "File: /usr/local/envs/py3env/lib/python3.5/site-packages/googleapiclient/discovery.py\n",
    "Type: function\n",
    "```"
   ]
  },
  {
   "cell_type": "code",
   "execution_count": 56,
   "metadata": {
    "slideshow": {
     "slide_type": "fragment"
    }
   },
   "outputs": [],
   "source": [
    "api = discovery.build(serviceName='ml', version='v1',\n",
    "                      http=None, \n",
    "                      discoveryServiceUrl='https://www.googleapis.com/discovery/v1/apis/{api}/{apiVersion}/rest', \n",
    "                      developerKey=None, \n",
    "                      model=None, \n",
    "                      #requestBuilder=<class 'googleapiclient.http.HttpRequest'>, \n",
    "                      credentials=None, \n",
    "                      cache_discovery=True, \n",
    "                      cache=None)"
   ]
  },
  {
   "cell_type": "code",
   "execution_count": 57,
   "metadata": {
    "slideshow": {
     "slide_type": "fragment"
    }
   },
   "outputs": [],
   "source": [
    "MODEL_NAME = 'MNIST_MLENGINE'\n",
    "VERSION = 'v1'"
   ]
  },
  {
   "cell_type": "code",
   "execution_count": 59,
   "metadata": {
    "code_folding": [
     0
    ],
    "slideshow": {
     "slide_type": "fragment"
    }
   },
   "outputs": [],
   "source": [
    "# Load data\n",
    "from src.pkg_mnist_fnn.utils import load_data\n",
    "from src.pkg_mnist_fnn.model import parse_images\n",
    "import numpy as np\n",
    "(_,_), (x_test, y_test) = load_data(rel_path='data')\n",
    "N=4\n",
    "test_indices = np.random.randint(low=0, high=len(y_test), size=N)\n",
    "x_test, y_test = x_test[test_indices], y_test[test_indices]\n",
    "x_test = parse_images(x_test).tolist()\n",
    "\n",
    "n_lines = len(y_test)\n",
    "instances = []\n",
    "with open(\"data/test.json\", \"r\") as f:\n",
    "    for image, label in zip(x_test, y_test):\n",
    "        instances.append({\"x\": image}) #, \"y\": int(label)}"
   ]
  },
  {
   "cell_type": "code",
   "execution_count": 60,
   "metadata": {
    "slideshow": {
     "slide_type": "fragment"
    }
   },
   "outputs": [
    {
     "name": "stdout",
     "output_type": "stream",
     "text": [
      "{'predictions': [{'probabilities': [3.2548705064527894e-08, 6.108047728048405e-06, 0.9999655485153198, 1.1024923878721893e-05, 5.7965403310600294e-11, 1.91313587194486e-09, 1.9485177360500927e-10, 1.5596122466376983e-05, 1.709668367766426e-06, 1.3262202891439756e-08], 'class_ids': [2], 'classes': ['2'], 'logits': [0.5153061151504517, 5.749931335449219, 17.755800247192383, 6.34048318862915, -5.815340995788574, -2.318687915802002, -4.602946758270264, 6.687346458435059, 4.476623058319092, -0.3825138807296753]}, {'probabilities': [1.0069890095110168e-06, 0.0005521674174815416, 0.9946444034576416, 0.00029257481219246984, 2.549663076933939e-05, 1.1414009577492834e-06, 5.156581828202889e-10, 0.004440957680344582, 4.185155194136314e-05, 3.3194842785633227e-07], 'class_ids': [2], 'classes': ['2'], 'logits': [-1.7603847980499268, 4.546502113342285, 12.042791366577148, 3.9113714694976807, 1.4711973667144775, -1.6350926160812378, -9.337416648864746, 6.6312761306762695, 1.9667797088623047, -2.870124340057373]}, {'probabilities': [1.8729299711139902e-07, 0.00011910434113815427, 0.0002057824603980407, 4.233284016663674e-06, 0.990865170955658, 3.147726772567694e-07, 3.2474931686010677e-06, 0.0036878162063658237, 0.00015241699293255806, 0.004961601924151182], 'class_ids': [4], 'classes': ['4'], 'logits': [-6.607944011688232, -0.15286386013031006, 0.3939564824104309, -3.489885091781616, 8.873470306396484, -6.088768482208252, -3.7549798488616943, 3.279926061630249, 0.09375637769699097, 3.576620578765869]}, {'probabilities': [1.7803123558701728e-11, 5.56441989314478e-16, 3.640084110870245e-14, 4.86357232265533e-10, 3.3934044463279633e-10, 3.1066288430636746e-11, 7.392390551712624e-22, 0.9997909665107727, 3.0200923142528757e-13, 0.00020900281378999352], 'class_ids': [7], 'classes': ['7'], 'logits': [15.770081520080566, 5.396759033203125, 9.577543258666992, 19.07765007019043, 18.717710494995117, 16.32682991027832, -8.134692192077637, 40.52151870727539, 11.693408012390137, 32.04856491088867]}]}\n"
     ]
    }
   ],
   "source": [
    "project_id = 'projects/{}/models/{}/versions/{}'.format(PROJECT, MODEL_NAME, VERSION)\n",
    "request_data = {\"instances\":\n",
    "    instances\n",
    "}\n",
    "request = api.projects().predict(body=request_data, name=project_id).execute()\n",
    "print(request)"
   ]
  },
  {
   "cell_type": "code",
   "execution_count": 61,
   "metadata": {
    "slideshow": {
     "slide_type": "fragment"
    }
   },
   "outputs": [
    {
     "name": "stdout",
     "output_type": "stream",
     "text": [
      "Predicted class: 2, True Class:\t2\n",
      "Predicted class: 2, True Class:\t2\n",
      "Predicted class: 4, True Class:\t4\n",
      "Predicted class: 7, True Class:\t7\n"
     ]
    }
   ],
   "source": [
    "for i, pred in enumerate(request['predictions']):\n",
    "    print(\"Predicted class: {}, True Class:\\t{}\".format(pred['classes'][0], y_test[i]))"
   ]
  },
  {
   "cell_type": "markdown",
   "metadata": {
    "slideshow": {
     "slide_type": "slide"
    }
   },
   "source": [
    "# Recap"
   ]
  },
  {
   "attachments": {
    "gcp_training_recap.svg": {
     "image/svg+xml": [
      "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"
     ]
    }
   },
   "cell_type": "markdown",
   "metadata": {
    "slideshow": {
     "slide_type": "fragment"
    }
   },
   "source": [
    "![gcp_training_recap.svg](attachment:gcp_training_recap.svg)"
   ]
  },
  {
   "cell_type": "markdown",
   "metadata": {
    "slideshow": {
     "slide_type": "subslide"
    }
   },
   "source": [
    "## Outlook\n",
    "- Add different models types\n",
    "    - different layers of abstraction in tensorflow\n",
    "    - sklearn\n",
    "- Show how to use `ml-engine` in SQL in BigQuery"
   ]
  },
  {
   "cell_type": "markdown",
   "metadata": {
    "slideshow": {
     "slide_type": "slide"
    }
   },
   "source": [
    "# Appendix"
   ]
  },
  {
   "cell_type": "markdown",
   "metadata": {
    "slideshow": {
     "slide_type": "fragment"
    }
   },
   "source": [
    "#### Notes on Jupyter Slides\n",
    "- Activate: View -> Cell Toolbar -> Slideshow\n",
    "- Install [nbextensions](https://jupyter-contrib-nbextensions.readthedocs.io/en/latest/install.html) into `base` conda environment\n",
    "   - activate [split cells vertically](https://jupyter-contrib-nbextensions.readthedocs.io/en/latest/nbextensions/splitcell/readme.html)\n",
    "   \n",
    "- [RISE](https://rise.readthedocs.io/en/5.4.1/installation.html) for interactive presentations\n",
    "  - using conda: `conda install -c damianavila82 rise`\n",
    "  - activte scrolling in Notebook-Metadata, see [link](https://rise.readthedocs.io/en/5.4.1/customize.html#config-right-scroll) \n",
    "  - adapt width and height of your slides to your machine and needs. [link](https://rise.readthedocs.io/en/5.4.1/customize.html#change-the-width-and-height-of-slides)\n"
   ]
  },
  {
   "attachments": {
    "notebook_metadata_for_rise.jpg": {
     "image/jpeg": "[encoded data removed]"
    }
   },
   "cell_type": "markdown",
   "metadata": {
    "slideshow": {
     "slide_type": "subslide"
    }
   },
   "source": [
    "![notebook_metadata_for_rise.jpg](attachment:notebook_metadata_for_rise.jpg)"
   ]
  },
  {
   "cell_type": "code",
   "execution_count": null,
   "metadata": {},
   "outputs": [],
   "source": []
  }
 ],
 "metadata": {
  "celltoolbar": "Slideshow",
  "kernelspec": {
   "display_name": "Python 3",
   "language": "python",
   "name": "python3"
  },
  "language_info": {
   "codemirror_mode": {
    "name": "ipython",
    "version": 3
   },
   "file_extension": ".py",
   "mimetype": "text/x-python",
   "name": "python",
   "nbconvert_exporter": "python",
   "pygments_lexer": "ipython3",
   "version": "3.6.9"
  },
  "livereveal": {
   "scroll": true
  }
 },
 "nbformat": 4,
 "nbformat_minor": 4
}
