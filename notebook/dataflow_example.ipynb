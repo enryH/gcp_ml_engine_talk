{
 "cells": [
  {
   "cell_type": "markdown",
   "metadata": {},
   "source": [
    "Source: [training-data-analyst, stable-link (not-master)](https://github.com/GoogleCloudPlatform/training-data-analyst/blob/f3b838007a0e1fb3cc7880ad0343f46678926f36/courses/machine_learning/deepdive/04_advanced_preprocessing/a_dataflow.ipynb) "
   ]
  },
  {
   "cell_type": "markdown",
   "metadata": {},
   "source": [
    "# Data Preprocessing for Machine Learning\n",
    "\n",
    "**Learning Objectives**\n",
    "* Understand the different approaches for data preprocessing in developing ML models\n",
    "* Use Dataflow to perform data preprocessing steps\n",
    "\n",
    "## Introduction\n",
    "\n",
    "Preprocessing data for a machine learning model involves both data engineering and feature engineering. During data engineering, we convert raw data into prepared data which is necessary for the model. Feature engineering then takes that prepared data and creates the features expected by the model. We have already seen various ways we can engineer new features for a machine learning model and where those steps take place. We also have flexibility as to where data preprocessing steps can take place; for example, BigQuery, Cloud Dataflow and Tensorflow. In this lab, we'll explore different data preprocessing strategies and see how they can be accomplished with Cloud Dataflow.\n",
    "\n",
    "One perspective in which to categorize different types of data preprocessing operations is in terms of the granularity of the operation. Here, we will consider the following three types of operations:\n",
    "1. Instance-level transformations\n",
    "2. Full-pass transformations\n",
    "3. Time-windowed aggregations\n",
    "\n",
    "Cloud Dataflow can perform each of these types of operations and is particularly useful when performing computationally expensive operations as it is an autoscaling service for batch and streaming data processing pipelines. We'll say a few words about each of these below. For more information, have a look at this article about [data preprocessing for machine learning from Google Cloud](https://cloud.google.com/solutions/machine-learning/data-preprocessing-for-ml-with-tf-transform-pt1).\n",
    "\n",
    "**1. Instance-level transformations**\n",
    "These are transformations which take place during training and prediction, looking only at values from a single data point. For example, they might include clipping the value of a feature, polynomially expand a feature, multiply two features, or compare two features to create a Boolean flag.\n",
    "\n",
    "It is necessary to apply the same transformations at training time and at prediction time. Failure to do this results in training/serving skew and will negatively affect the performance of the model.\n",
    "\n",
    "**2. Full-pass transformations**\n",
    "These transformations occur during training, but occur as instance-level operations during prediction. That is, during training you must analyze the entirety of the training data to compute quantities such as maximum, minimum, mean or variance while at prediction time you need only use those values to rescale or normalize a single data point. \n",
    "\n",
    "A good example to keep in mind is standard scaling (z-score normalization) of features for training. You need to compute the mean and standard deviation of that feature across the whole training data set, thus it is called a full-pass transformation. At prediction time you use those previously computed values to appropriately normalize the new data point. Failure to do so results in training/serving skew.\n",
    "\n",
    "**3. Time-windowed aggregations**\n",
    "These types of transformations occur during training and at prediction time. They involve creating a feature by summarizing real-time values by aggregating over some temporal window clause. For example, if we wanted our model to estimate the taxi trip time based on the traffic metrics for the route in the last 5 minutes, in the last 10 minutes or the last 30 minutes we would want to create a time-window to aggreagate these values. \n",
    "\n",
    "At prediction time these aggregations have to be computed in real-time from a data stream."
   ]
  },
  {
   "cell_type": "markdown",
   "metadata": {},
   "source": [
    "### Set environment variables and load necessary libraries\n",
    "\n",
    "Apache Beam only works in Python 2 at the moment, so switch to the Python 2 kernel in the upper right hand side. Then execute the following cells to install the necessary libraries if they have not been installed already."
   ]
  },
  {
   "cell_type": "raw",
   "metadata": {},
   "source": [
    "# Ensure that we have Tensorflow 1.13 installed.\n",
    "!pip freeze | grep tensorflow==1.13.1 || pip install tensorflow==1.13.1"
   ]
  },
  {
   "cell_type": "code",
   "execution_count": null,
   "metadata": {},
   "outputs": [],
   "source": [
    "#Ensure that we have Apache Beam 2.10 installed.\n",
    "!pip freeze | grep apache-beam==2.10.0 || pip install apache-beam[gcp]"
   ]
  },
  {
   "cell_type": "markdown",
   "metadata": {},
   "source": [
    "Check that your jupyter-server is running in the correct environement:\n",
    "- I had problem if it was not one with Python 2.7, even when the kernel was selected correctly"
   ]
  },
  {
   "cell_type": "code",
   "execution_count": 32,
   "metadata": {},
   "outputs": [
    {
     "name": "stdout",
     "output_type": "stream",
     "text": [
      "TF-Version: 1.13.1\n",
      "Python-Version: 2.7.13 (default, Sep 26 2018, 18:42:22) \n",
      "[GCC 6.3.0 20170516]\n"
     ]
    }
   ],
   "source": [
    "import tensorflow as tf\n",
    "import apache_beam as beam\n",
    "import shutil\n",
    "import os\n",
    "print(\"TF-Version: {}\".format(tf.__version__))\n",
    "import sys\n",
    "print(\"Python-Version: {}\".format(sys.version))"
   ]
  },
  {
   "cell_type": "code",
   "execution_count": 33,
   "metadata": {},
   "outputs": [],
   "source": [
    "assert sys.version_info.major == 2 , \"Beam currently does only run properly with Python2\""
   ]
  },
  {
   "cell_type": "markdown",
   "metadata": {},
   "source": [
    "Next, set the environment variables related to your GCP Project."
   ]
  },
  {
   "cell_type": "code",
   "execution_count": 34,
   "metadata": {},
   "outputs": [
    {
     "name": "stdout",
     "output_type": "stream",
     "text": [
      "Current Working direcotory:\t/home/jupyter/proj_DL_models_and_pipelines_with_GCP\n"
     ]
    }
   ],
   "source": [
    "from utils import chdir_\n",
    "pwd = chdir_()\n",
    "\n",
    "import yaml\n",
    "with open('config.yaml', 'r') as f:\n",
    "    #cfg = yaml.load(f, Loader=yaml.BaseLoader)\n",
    "    cfg = yaml.safe_load(f)"
   ]
  },
  {
   "cell_type": "code",
   "execution_count": 47,
   "metadata": {},
   "outputs": [],
   "source": [
    "PROJECT = cfg[\"project-id\"]  # Replace with your PROJECT\n",
    "BUCKET = cfg[\"bucket\"]  # Replace with your BUCKET\n",
    "REGION = cfg[\"region\"]           # Choose an available region for Cloud MLE\n",
    "REGION = 'europe-west1'  # europe-west6 is not working currently (19-04-23)\n",
    "TFVERSION = str(cfg[\"tf-version\"])                # TF version for CMLE to use"
   ]
  },
  {
   "cell_type": "code",
   "execution_count": 36,
   "metadata": {},
   "outputs": [],
   "source": [
    "os.environ[\"PROJECT\"] = PROJECT\n",
    "os.environ[\"BUCKET\"] = BUCKET\n",
    "os.environ[\"REGION\"] = REGION\n",
    "os.environ[\"TFVERSION\"] = TFVERSION \n",
    "\n",
    "## ensure we\"re using python2 env\n",
    "os.environ[\"CLOUDSDK_PYTHON\"] = \"python2\""
   ]
  },
  {
   "cell_type": "code",
   "execution_count": 44,
   "metadata": {},
   "outputs": [
    {
     "name": "stderr",
     "output_type": "stream",
     "text": [
      "Updated property [core/project].\n",
      "Updated property [compute/region].\n",
      "Updated property [ml_engine/local_python].\n"
     ]
    }
   ],
   "source": [
    "%%bash\n",
    "gcloud config set project $PROJECT\n",
    "gcloud config set compute/region $REGION\n",
    "\n",
    "## ensure we predict locally with our current Python environment\n",
    "gcloud config set ml_engine/local_python `which python`"
   ]
  },
  {
   "cell_type": "markdown",
   "metadata": {},
   "source": [
    "## Create data preprocessing job with Cloud Dataflow\n",
    "\n",
    "The following code reads from BigQuery and saves the data on Google Cloud Storage. The data of the feature columns is standardized by deviding pixels intensities in the range of 0 to 255 by 255. Remember to repeat that prepreprocessing at prediction time to avoid training/serving skew. \n",
    "In general, it is better to use tf.transform which will do this book-keeping for you, or to do preprocessing within your TensorFlow model. We will look at how tf.transform works in another notebook. For now, we are simply moving data from BigQuery to CSV using Dataflow.\n",
    "\n",
    "It's worth noting that while we could read from [BQ directly from TensorFlow](https://www.tensorflow.org/api_docs/python/tf/contrib/cloud/BigQueryReader), it is quite convenient to export to CSV and do the training off CSV. We can do this at scale with Cloud Dataflow. Furthermore, because we are running this on the cloud, you should go to the [GCP Console](https://console.cloud.google.com/dataflow) to view the status of the job. It will take several minutes for the preprocessing job to launch."
   ]
  },
  {
   "cell_type": "markdown",
   "metadata": {},
   "source": [
    "### Define our query and pipeline functions\n",
    "\n",
    "To start we'll copy over the `create_query` function we created in the `01_bigquery/c_extract_and_benchmark` notebook. "
   ]
  },
  {
   "cell_type": "code",
   "execution_count": 38,
   "metadata": {},
   "outputs": [],
   "source": [
    "def create_query(phase, sample_size):\n",
    "    basequery = \"\"\"\n",
    "    SELECT *\n",
    "    FROM\n",
    "        `{project}.test.DATA`\n",
    "    WHERE\n",
    "        MOD(ID, EVERY_N) = 0\n",
    "    \"\"\".format(project=PROJECT)\n",
    "\n",
    "    if phase == 'TRAIN':\n",
    "        subsample = \"\"\"\n",
    "        AND MOD(ID, EVERY_N * 100) >= (EVERY_N * 0)\n",
    "        AND MOD(ID, EVERY_N * 100) <  (EVERY_N * 85)\n",
    "        \"\"\"\n",
    "    elif phase == 'TEST':\n",
    "        subsample = \"\"\"\n",
    "        AND MOD(ID, EVERY_N * 100) >= (EVERY_N * 85)\n",
    "        AND MOD(ID, EVERY_N * 100) <  (EVERY_N * 100)\n",
    "        \"\"\"\n",
    "\n",
    "    query = basequery + subsample\n",
    "    return query.replace(\"EVERY_N\", sample_size)"
   ]
  },
  {
   "cell_type": "markdown",
   "metadata": {},
   "source": [
    "Then, we'll write the csv we create to a Cloud Storage bucket. So, we'll look to see that the location is empty, and if not clear out its contents so that it is."
   ]
  },
  {
   "cell_type": "code",
   "execution_count": 11,
   "metadata": {},
   "outputs": [
    {
     "name": "stdout",
     "output_type": "stream",
     "text": [
      "env: BUCKET_FOLDER=gs://presentation-38388/mnist/bq/\n"
     ]
    }
   ],
   "source": [
    "%env BUCKET_FOLDER gs://$BUCKET/mnist/bq/"
   ]
  },
  {
   "cell_type": "code",
   "execution_count": null,
   "metadata": {},
   "outputs": [],
   "source": [
    "%%bash\n",
    "echo ${BUCKET_FOLDER}\n",
    "gsutil -m rm -rf ${BUCKET_FOLDER}"
   ]
  },
  {
   "cell_type": "code",
   "execution_count": 13,
   "metadata": {},
   "outputs": [
    {
     "data": {
      "text/html": [
       "<div>\n",
       "<style scoped>\n",
       "    .dataframe tbody tr th:only-of-type {\n",
       "        vertical-align: middle;\n",
       "    }\n",
       "\n",
       "    .dataframe tbody tr th {\n",
       "        vertical-align: top;\n",
       "    }\n",
       "\n",
       "    .dataframe thead th {\n",
       "        text-align: right;\n",
       "    }\n",
       "</style>\n",
       "<table border=\"1\" class=\"dataframe\">\n",
       "  <thead>\n",
       "    <tr style=\"text-align: right;\">\n",
       "      <th></th>\n",
       "      <th>ID</th>\n",
       "      <th>feat_1</th>\n",
       "      <th>feat_2</th>\n",
       "      <th>feat_3</th>\n",
       "      <th>feat_4</th>\n",
       "      <th>feat_5</th>\n",
       "      <th>feat_6</th>\n",
       "      <th>feat_7</th>\n",
       "      <th>feat_8</th>\n",
       "      <th>feat_9</th>\n",
       "      <th>...</th>\n",
       "      <th>feat_776</th>\n",
       "      <th>feat_777</th>\n",
       "      <th>feat_778</th>\n",
       "      <th>feat_779</th>\n",
       "      <th>feat_780</th>\n",
       "      <th>feat_781</th>\n",
       "      <th>feat_782</th>\n",
       "      <th>feat_783</th>\n",
       "      <th>feat_784</th>\n",
       "      <th>label</th>\n",
       "    </tr>\n",
       "  </thead>\n",
       "  <tbody>\n",
       "    <tr>\n",
       "      <th>0</th>\n",
       "      <td>51</td>\n",
       "      <td>0</td>\n",
       "      <td>0</td>\n",
       "      <td>0</td>\n",
       "      <td>0</td>\n",
       "      <td>0</td>\n",
       "      <td>0</td>\n",
       "      <td>0</td>\n",
       "      <td>0</td>\n",
       "      <td>0</td>\n",
       "      <td>...</td>\n",
       "      <td>0</td>\n",
       "      <td>0</td>\n",
       "      <td>0</td>\n",
       "      <td>0</td>\n",
       "      <td>0</td>\n",
       "      <td>0</td>\n",
       "      <td>0</td>\n",
       "      <td>0</td>\n",
       "      <td>0</td>\n",
       "      <td>0</td>\n",
       "    </tr>\n",
       "    <tr>\n",
       "      <th>1</th>\n",
       "      <td>68</td>\n",
       "      <td>0</td>\n",
       "      <td>0</td>\n",
       "      <td>0</td>\n",
       "      <td>0</td>\n",
       "      <td>0</td>\n",
       "      <td>0</td>\n",
       "      <td>0</td>\n",
       "      <td>0</td>\n",
       "      <td>0</td>\n",
       "      <td>...</td>\n",
       "      <td>0</td>\n",
       "      <td>0</td>\n",
       "      <td>0</td>\n",
       "      <td>0</td>\n",
       "      <td>0</td>\n",
       "      <td>0</td>\n",
       "      <td>0</td>\n",
       "      <td>0</td>\n",
       "      <td>0</td>\n",
       "      <td>0</td>\n",
       "    </tr>\n",
       "    <tr>\n",
       "      <th>2</th>\n",
       "      <td>75</td>\n",
       "      <td>0</td>\n",
       "      <td>0</td>\n",
       "      <td>0</td>\n",
       "      <td>0</td>\n",
       "      <td>0</td>\n",
       "      <td>0</td>\n",
       "      <td>0</td>\n",
       "      <td>0</td>\n",
       "      <td>0</td>\n",
       "      <td>...</td>\n",
       "      <td>0</td>\n",
       "      <td>0</td>\n",
       "      <td>0</td>\n",
       "      <td>0</td>\n",
       "      <td>0</td>\n",
       "      <td>0</td>\n",
       "      <td>0</td>\n",
       "      <td>0</td>\n",
       "      <td>0</td>\n",
       "      <td>0</td>\n",
       "    </tr>\n",
       "    <tr>\n",
       "      <th>3</th>\n",
       "      <td>118</td>\n",
       "      <td>0</td>\n",
       "      <td>0</td>\n",
       "      <td>0</td>\n",
       "      <td>0</td>\n",
       "      <td>0</td>\n",
       "      <td>0</td>\n",
       "      <td>0</td>\n",
       "      <td>0</td>\n",
       "      <td>0</td>\n",
       "      <td>...</td>\n",
       "      <td>0</td>\n",
       "      <td>0</td>\n",
       "      <td>0</td>\n",
       "      <td>0</td>\n",
       "      <td>0</td>\n",
       "      <td>0</td>\n",
       "      <td>0</td>\n",
       "      <td>0</td>\n",
       "      <td>0</td>\n",
       "      <td>0</td>\n",
       "    </tr>\n",
       "    <tr>\n",
       "      <th>4</th>\n",
       "      <td>121</td>\n",
       "      <td>0</td>\n",
       "      <td>0</td>\n",
       "      <td>0</td>\n",
       "      <td>0</td>\n",
       "      <td>0</td>\n",
       "      <td>0</td>\n",
       "      <td>0</td>\n",
       "      <td>0</td>\n",
       "      <td>0</td>\n",
       "      <td>...</td>\n",
       "      <td>0</td>\n",
       "      <td>0</td>\n",
       "      <td>0</td>\n",
       "      <td>0</td>\n",
       "      <td>0</td>\n",
       "      <td>0</td>\n",
       "      <td>0</td>\n",
       "      <td>0</td>\n",
       "      <td>0</td>\n",
       "      <td>0</td>\n",
       "    </tr>\n",
       "  </tbody>\n",
       "</table>\n",
       "<p>5 rows × 786 columns</p>\n",
       "</div>"
      ],
      "text/plain": [
       "    ID  feat_1  feat_2  feat_3  feat_4  feat_5  feat_6  feat_7  feat_8  \\\n",
       "0   51       0       0       0       0       0       0       0       0   \n",
       "1   68       0       0       0       0       0       0       0       0   \n",
       "2   75       0       0       0       0       0       0       0       0   \n",
       "3  118       0       0       0       0       0       0       0       0   \n",
       "4  121       0       0       0       0       0       0       0       0   \n",
       "\n",
       "   feat_9  ...  feat_776  feat_777  feat_778  feat_779  feat_780  feat_781  \\\n",
       "0       0  ...         0         0         0         0         0         0   \n",
       "1       0  ...         0         0         0         0         0         0   \n",
       "2       0  ...         0         0         0         0         0         0   \n",
       "3       0  ...         0         0         0         0         0         0   \n",
       "4       0  ...         0         0         0         0         0         0   \n",
       "\n",
       "   feat_782  feat_783  feat_784  label  \n",
       "0         0         0         0      0  \n",
       "1         0         0         0      0  \n",
       "2         0         0         0      0  \n",
       "3         0         0         0      0  \n",
       "4         0         0         0      0  \n",
       "\n",
       "[5 rows x 786 columns]"
      ]
     },
     "execution_count": 13,
     "metadata": {},
     "output_type": "execute_result"
    }
   ],
   "source": [
    "from google.cloud import bigquery\n",
    "client = bigquery.Client(project=PROJECT)\n",
    "\n",
    "sql = \"\"\"\n",
    "    SELECT *\n",
    "    FROM `{project}.test.DATA`\n",
    "    LIMIT 15\n",
    "\"\"\".format(project=PROJECT)\n",
    "df = client.query(sql).to_dataframe()\n",
    "df.head()"
   ]
  },
  {
   "cell_type": "markdown",
   "metadata": {},
   "source": [
    "Extract Column names from sampled data:\n",
    "1. `CSV_COLUMNS`: All columns in the Table\n",
    "2. `FEAT_COLUMNS`: All feature columns in the table, has to be adapted for each Table!"
   ]
  },
  {
   "cell_type": "code",
   "execution_count": 14,
   "metadata": {},
   "outputs": [],
   "source": [
    "CSV_COLUMNS = list(df.columns)\n",
    "FEAT_COLUMNS = [x for x in CSV_COLUMNS if 'feat' in x]"
   ]
  },
  {
   "cell_type": "markdown",
   "metadata": {},
   "source": [
    "Beam processes each row separatly. After reading the data, each row will be a dictionary containing `Col_Name`: `Value` pairs:"
   ]
  },
  {
   "cell_type": "code",
   "execution_count": 15,
   "metadata": {},
   "outputs": [
    {
     "data": {
      "text/plain": [
       "(32, 0.01568627450980392, 0.0, 0.5254901960784314)"
      ]
     },
     "execution_count": 15,
     "metadata": {},
     "output_type": "execute_result"
    }
   ],
   "source": [
    "#example for row_dict\n",
    "rowdict= {'ID': 32, 'feat_1': 4, 'feat_45': 0, 'feat_458': 134}\n",
    "for k in FEAT_COLUMNS: \n",
    "    rowdict[k] = rowdict.get(k, 0) / 255.0\n",
    "rowdict['ID'], rowdict['feat_1'], rowdict['feat_45'], rowdict['feat_458']"
   ]
  },
  {
   "cell_type": "code",
   "execution_count": 16,
   "metadata": {},
   "outputs": [],
   "source": [
    "def make_parse_features(featcolumns):\n",
    "    def parse_features(rowdict):\n",
    "        \"\"\"\n",
    "        Arguments:\n",
    "            -rowdict: Dictionary. The beam bigquery reader returns a PCollection in\n",
    "            which each row is represented as a python dictionary\n",
    "        Returns:\n",
    "            -rowdict: A transformed rowdict\n",
    "        \"\"\"\n",
    "        for k in featcolumns:\n",
    "            rowdict[k] = rowdict.get(k, 0) / 255.0\n",
    "        return rowdict\n",
    "    return parse_features\n",
    "parse_features = make_parse_features(featcolumns=FEAT_COLUMNS)"
   ]
  },
  {
   "cell_type": "markdown",
   "metadata": {},
   "source": [
    "Next, we'll create a function and pipeline for preprocessing the data. First, we'll define a `to_csv` function which takes a row dictionary (a dictionary created from a BigQuery reader representing each row of a dataset) and returns a comma separated string for each record"
   ]
  },
  {
   "cell_type": "code",
   "execution_count": 17,
   "metadata": {},
   "outputs": [],
   "source": [
    "def make_to_csv(columns):\n",
    "    def to_csv(rowdict):\n",
    "        \"\"\"\n",
    "        Arguments:\n",
    "            -rowdict: Dictionary. The beam bigquery reader returns a PCollection in\n",
    "            which each row is represented as a python dictionary\n",
    "        Returns:\n",
    "            -rowstring: a comma separated string representation of the record\n",
    "        \"\"\"\n",
    "        rowstring = ','.join([str(rowdict[k]) for k in columns])\n",
    "        return rowstring\n",
    "    return to_csv\n",
    "to_csv = make_to_csv(columns=CSV_COLUMNS)"
   ]
  },
  {
   "cell_type": "markdown",
   "metadata": {},
   "source": [
    "Next, we define our primary preprocessing function. Reading through the code this creates a pipeline to read data from BigQuery, use our `to_csv` function above to make a comma separated string, then write to a file in Google Cloud Storage. "
   ]
  },
  {
   "cell_type": "code",
   "execution_count": 48,
   "metadata": {},
   "outputs": [],
   "source": [
    "import datetime\n",
    "\n",
    "def preprocess(EVERY_N, RUNNER):\n",
    "    \"\"\"\n",
    "    Arguments:\n",
    "        -EVERY_N: Integer. Sample one out of every N rows from the full dataset.\n",
    "        Larger values will yield smaller sample\n",
    "        -RUNNER: \"DirectRunner\" or \"DataflowRunner\". Specfy to run the pipeline\n",
    "        locally or on Google Cloud respectively. \n",
    "    Side-effects:\n",
    "        -Creates and executes dataflow pipeline. \n",
    "        See https://beam.apache.org/documentation/programming-guide/#creating-a-pipeline\n",
    "    \"\"\"\n",
    "    job_name = \"preprocess-mnist\" + \"-\" + datetime.datetime.now().strftime(\"%y%m%d-%H%M%S\")\n",
    "    print(\"Launching Dataflow job {} ... hang on\".format(job_name))\n",
    "    OUTPUT_DIR = \"gs://{0}/mnist/bq/\".format(BUCKET)\n",
    "\n",
    "    #dictionary of pipeline options\n",
    "    options = {\n",
    "        \"staging_location\": os.path.join(OUTPUT_DIR, \"tmp\", \"staging\"),\n",
    "        \"temp_location\": os.path.join(OUTPUT_DIR, \"tmp\"),\n",
    "        \"job_name\": job_name,\n",
    "        \"project\": PROJECT,\n",
    "        \"runner\": RUNNER,\n",
    "        \"region\": REGION\n",
    "    }\n",
    "  \n",
    "    #instantiate PipelineOptions object using options dictionary\n",
    "    opts = beam.pipeline.PipelineOptions(flags = [], **options)\n",
    "\n",
    "    #instantantiate Pipeline object using PipelineOptions\n",
    "    with beam.Pipeline(options=opts) as p:\n",
    "        for phase in [\"TRAIN\", \"TEST\"]:\n",
    "            query = create_query(phase, EVERY_N)\n",
    "            outfile = os.path.join(OUTPUT_DIR, \"{}.csv\".format(phase))\n",
    "            (\n",
    "                p | \"read_{}\".format(phase) >> beam.io.Read(beam.io.BigQuerySource(query = query, use_standard_sql = True))\n",
    "                  | \"parsefeat_{}\".format(phase) >> beam.Map(parse_features)\n",
    "                  | \"tocsv_{}\".format(phase) >> beam.Map(to_csv)\n",
    "                  | \"write_{}\".format(phase) >> beam.io.Write(beam.io.WriteToText(outfile))\n",
    "            )\n",
    "    print(\"Done\")"
   ]
  },
  {
   "cell_type": "code",
   "execution_count": 40,
   "metadata": {},
   "outputs": [
    {
     "name": "stdout",
     "output_type": "stream",
     "text": [
      "env: OUTPUT_DIR=gs://presentation-38388/mnist/bq\n",
      "gs://presentation-38388/mnist/bq/TEST.csv-00000-of-00004\n",
      "gs://presentation-38388/mnist/bq/TEST.csv-00001-of-00004\n",
      "gs://presentation-38388/mnist/bq/TEST.csv-00002-of-00004\n",
      "gs://presentation-38388/mnist/bq/TEST.csv-00003-of-00004\n",
      "gs://presentation-38388/mnist/bq/TRAIN.csv-00000-of-00014\n",
      "gs://presentation-38388/mnist/bq/TRAIN.csv-00001-of-00014\n",
      "gs://presentation-38388/mnist/bq/TRAIN.csv-00002-of-00014\n",
      "gs://presentation-38388/mnist/bq/TRAIN.csv-00003-of-00014\n",
      "gs://presentation-38388/mnist/bq/TRAIN.csv-00004-of-00014\n",
      "gs://presentation-38388/mnist/bq/TRAIN.csv-00005-of-00014\n",
      "gs://presentation-38388/mnist/bq/TRAIN.csv-00006-of-00014\n",
      "gs://presentation-38388/mnist/bq/TRAIN.csv-00007-of-00014\n",
      "gs://presentation-38388/mnist/bq/TRAIN.csv-00008-of-00014\n",
      "gs://presentation-38388/mnist/bq/TRAIN.csv-00009-of-00014\n",
      "gs://presentation-38388/mnist/bq/TRAIN.csv-00010-of-00014\n",
      "gs://presentation-38388/mnist/bq/TRAIN.csv-00011-of-00014\n",
      "gs://presentation-38388/mnist/bq/TRAIN.csv-00012-of-00014\n",
      "gs://presentation-38388/mnist/bq/TRAIN.csv-00013-of-00014\n",
      "gs://presentation-38388/mnist/bq/tmp/\n"
     ]
    }
   ],
   "source": [
    "OUTPUT_DIR = \"gs://{0}/mnist/bq\".format(BUCKET)\n",
    "%env OUTPUT_DIR $OUTPUT_DIR\n",
    "!gsutil ls $OUTPUT_DIR"
   ]
  },
  {
   "cell_type": "markdown",
   "metadata": {},
   "source": [
    "Now that we have the preprocessing pipeline function, we can execute the pipeline locally or on the cloud. To run our pipeline locally, we specify the `RUNNER` variable as `DirectRunner`. To run our pipeline in the cloud, we set `RUNNER` to be `DataflowRunner`. In either case, this variable is passed to the options dictionary that we use to instantiate the pipeline. \n",
    "\n",
    "As with training a model, it is good practice to test your preprocessing pipeline locally with a subset of your data before running it against your entire dataset."
   ]
  },
  {
   "cell_type": "markdown",
   "metadata": {},
   "source": [
    "### Run Beam pipeline locally\n",
    "\n",
    "We'll start by testing our pipeline locally. This takes upto 5 minutes. You will see a message \"Done\" when it has finished."
   ]
  },
  {
   "cell_type": "code",
   "execution_count": null,
   "metadata": {},
   "outputs": [],
   "source": [
    "preprocess(\"50*1000\", \"DirectRunner\")"
   ]
  },
  {
   "cell_type": "markdown",
   "metadata": {},
   "source": [
    "### Run Beam pipeline on Cloud Dataflow¶\n",
    "\n",
    "Again, we'll clear out our bucket to GCS to ensure a fresh run."
   ]
  },
  {
   "cell_type": "code",
   "execution_count": 41,
   "metadata": {},
   "outputs": [
    {
     "name": "stdout",
     "output_type": "stream",
     "text": [
      "gs://presentation-38388/mnist/bq/TEST.csv-00000-of-00004\n",
      "gs://presentation-38388/mnist/bq/TEST.csv-00001-of-00004\n",
      "gs://presentation-38388/mnist/bq/TEST.csv-00002-of-00004\n",
      "gs://presentation-38388/mnist/bq/TEST.csv-00003-of-00004\n",
      "gs://presentation-38388/mnist/bq/TRAIN.csv-00000-of-00014\n",
      "gs://presentation-38388/mnist/bq/TRAIN.csv-00001-of-00014\n",
      "gs://presentation-38388/mnist/bq/TRAIN.csv-00002-of-00014\n",
      "gs://presentation-38388/mnist/bq/TRAIN.csv-00003-of-00014\n",
      "gs://presentation-38388/mnist/bq/TRAIN.csv-00004-of-00014\n",
      "gs://presentation-38388/mnist/bq/TRAIN.csv-00005-of-00014\n",
      "gs://presentation-38388/mnist/bq/TRAIN.csv-00006-of-00014\n",
      "gs://presentation-38388/mnist/bq/TRAIN.csv-00007-of-00014\n",
      "gs://presentation-38388/mnist/bq/TRAIN.csv-00008-of-00014\n",
      "gs://presentation-38388/mnist/bq/TRAIN.csv-00009-of-00014\n",
      "gs://presentation-38388/mnist/bq/TRAIN.csv-00010-of-00014\n",
      "gs://presentation-38388/mnist/bq/TRAIN.csv-00011-of-00014\n",
      "gs://presentation-38388/mnist/bq/TRAIN.csv-00012-of-00014\n",
      "gs://presentation-38388/mnist/bq/TRAIN.csv-00013-of-00014\n"
     ]
    },
    {
     "name": "stderr",
     "output_type": "stream",
     "text": [
      "Removing gs://presentation-38388/mnist/bq/TEST.csv-00000-of-00004#1556029063188338...\n",
      "Removing gs://presentation-38388/mnist/bq/TEST.csv-00001-of-00004#1556029063082529...\n",
      "Removing gs://presentation-38388/mnist/bq/TEST.csv-00002-of-00004#1556029063094932...\n",
      "Removing gs://presentation-38388/mnist/bq/TEST.csv-00003-of-00004#1556029063154076...\n",
      "Removing gs://presentation-38388/mnist/bq/TRAIN.csv-00000-of-00014#1556029111419574...\n",
      "Removing gs://presentation-38388/mnist/bq/TRAIN.csv-00001-of-00014#1556029111443460...\n",
      "Removing gs://presentation-38388/mnist/bq/TRAIN.csv-00002-of-00014#1556029111453702...\n",
      "Removing gs://presentation-38388/mnist/bq/TRAIN.csv-00003-of-00014#1556029111408919...\n",
      "Removing gs://presentation-38388/mnist/bq/TRAIN.csv-00004-of-00014#1556029111414916...\n",
      "Removing gs://presentation-38388/mnist/bq/TRAIN.csv-00005-of-00014#1556029111488396...\n",
      "Removing gs://presentation-38388/mnist/bq/TRAIN.csv-00006-of-00014#1556029111437015...\n",
      "Removing gs://presentation-38388/mnist/bq/TRAIN.csv-00007-of-00014#1556029111410757...\n",
      "Removing gs://presentation-38388/mnist/bq/TRAIN.csv-00008-of-00014#1556029111441883...\n",
      "Removing gs://presentation-38388/mnist/bq/TRAIN.csv-00009-of-00014#1556029111408890...\n",
      "Removing gs://presentation-38388/mnist/bq/TRAIN.csv-00010-of-00014#1556029111412597...\n",
      "Removing gs://presentation-38388/mnist/bq/TRAIN.csv-00011-of-00014#1556029111427133...\n",
      "Removing gs://presentation-38388/mnist/bq/TRAIN.csv-00012-of-00014#1556029111413942...\n",
      "Removing gs://presentation-38388/mnist/bq/TRAIN.csv-00013-of-00014#1556029111439318...\n",
      "Removing gs://presentation-38388/mnist/bq/tmp/preprocess-mnist-190423-140614.1556028374.967445/#1556028388342603...\n",
      "Removing gs://presentation-38388/mnist/bq/tmp/staging/preprocess-mnist-190423-140614.1556028374.967445/apache_beam-2.11.0-cp27-cp27mu-manylinux1_x86_64.whl#1556028378860568...\n",
      "Removing gs://presentation-38388/mnist/bq/tmp/staging/preprocess-mnist-190423-140614.1556028374.967445/dataflow_python_sdk.tar#1556028377178114...\n",
      "Removing gs://presentation-38388/mnist/bq/tmp/staging/preprocess-mnist-190423-140614.1556028374.967445/pipeline.pb#1556028375242551...\n",
      "/ [22/22 objects] 100% Done                                                     \n",
      "Operation completed over 22 objects.                                             \n"
     ]
    }
   ],
   "source": [
    "%%bash\n",
    "if gsutil ls -r $OUTPUT_DIR | grep csv; then\n",
    "    gsutil -m rm -rf $OUTPUT_DIR\n",
    "fi"
   ]
  },
  {
   "cell_type": "markdown",
   "metadata": {},
   "source": [
    "The following step will take **15-20 minutes**. Monitor job progress on the Dataflow section of [GCP Console](https://console.cloud.google.com/dataflow). Note, you can change the first arugment to \"1\" to process the full dataset."
   ]
  },
  {
   "cell_type": "markdown",
   "metadata": {},
   "source": [
    "> Error, due to missing service account which is created when created a project [`[PROJECT_NUMBER]-compute@developer.gserviceaccount.com`](https://cloud.google.com/compute/docs/access/service-accounts#compute_engine_default_service_account)\n",
    ">\n",
    "> NEVER delete it!"
   ]
  },
  {
   "cell_type": "code",
   "execution_count": 49,
   "metadata": {},
   "outputs": [
    {
     "name": "stdout",
     "output_type": "stream",
     "text": [
      "Launching Dataflow job preprocess-mnist-190423-150433 ... hang on\n",
      "Done\n"
     ]
    }
   ],
   "source": [
    "# Process full dataset\n",
    "preprocess(\"1\", \"DataflowRunner\")"
   ]
  },
  {
   "cell_type": "markdown",
   "metadata": {},
   "source": [
    "Once the job finishes, we can look at the files that have been created and have a look at what they contain. You will notice that the files have been sharded into many csv files."
   ]
  },
  {
   "cell_type": "raw",
   "metadata": {},
   "source": [
    "%%bash\n",
    "gsutil ls -l $OUTPUT_DIR"
   ]
  },
  {
   "cell_type": "code",
   "execution_count": 62,
   "metadata": {},
   "outputs": [
    {
     "name": "stdout",
     "output_type": "stream",
     "text": [
      "5001,0.0,0.0,0.0,0.0,0.0,0.0,0.0,0.0,0.0,0.0,0.0,0.0,0.0,0.0,0.0,0.0,0.0,0.0,0.0,0.0,0.0,0.0,0.0,0.0,0.0,0.0,0.0,0.0,0.0,0.0,0.0,0.0,0.0,0.0,0.0,0.0,0.0,0.0,0.0,0.0,0.0,0.0,0.0,0.0,0.0,0.0,0.0,0.0,0.0,0.0,0.0,0.0,0.0,0.0,0.0,0.0,0.0,0.0,0.0,0.0,0.0,0.0,0.0,0.0,0.0,0.0,0.0,0.0,0.0,0.0,0.0,0.0,0.0,0.0,0.0,0.0,0.0,0.0,0.0,0.0,0.0,0.0,0.0,0.0,0.0,0.0,0.0,0.0,0.0,0.0,0.0,0.0,0.0,0.0,0.0,0.0,0.0,0.0,0.0,0.0,0.0,0.0,0.0,0.0,0.0,0.0,0.0,0.0,0.0,0.0,0.0,0.0,0.0,0.0,0.0,0.0,0.0,0.0,0.0,0.0,0.0,0.0,0.0,0.0,0.0,0.0,0.0,0.0,0.0,0.0,0.0,0.0,0.0,0.0,0.0,0.0,0.0,0.0,0.0,0.0,0.0,0.0,0.0,0.0,0.0,0.0,0.0,0.0,0.0,0.0,0.0,0.0,0.0,0.121568627451,0.517647058824,0.996078431373,0.992156862745,0.996078431373,0.835294117647,0.321568627451,0.0,0.0,0.0,0.0,0.0,0.0,0.0,0.0,0.0,0.0,0.0,0.0,0.0,0.0,0.0,0.0,0.0,0.0,0.0,0.0823529411765,0.556862745098,0.913725490196,0.988235294118,0.992156862745,0.988235294118,0.992156862745,0.988235294118,0.874509803922,0.078431372549,0.0,0.0,0.0,0.0,0.0,0.0,0.0,0.0,0.0,0.0,0.0,0.0,0.0,0.0,0.0,0.0,0.0,0.482352941176,0.996078431373,0.992156862745,0.996078431373,0.992156862745,0.878431372549,0.796078431373,0.796078431373,0.874509803922,1.0,0.835294117647,0.0,0.0,0.0,0.0,0.0,0.0,0.0,0.0,0.0,0.0,0.0,0.0,0.0,0.0,0.0,0.0,0.0,0.796078431373,0.992156862745,0.988235294118,0.992156862745,0.83137254902,0.078431372549,0.0,0.0,0.239215686275,0.992156862745,0.988235294118,0.0,0.0,0.0,0.0,0.0,0.0,0.0,0.0,0.0,0.0,0.0,0.0,0.0,0.0,0.0,0.0,0.160784313725,0.952941176471,0.878431372549,0.796078431373,0.717647058824,0.160784313725,0.596078431373,0.117647058824,0.0,0.0,1.0,0.992156862745,0.4,0.0,0.0,0.0,0.0,0.0,0.0,0.0,0.0,0.0,0.0,0.0,0.0,0.0,0.0,0.0,0.0,0.156862745098,0.078431372549,0.0,0.0,0.4,0.992156862745,0.196078431373,0.0,0.321568627451,0.992156862745,0.988235294118,0.078431372549,0.0,0.0,0.0,0.0,0.0,0.0,0.0,0.0,0.0,0.0,0.0,0.0,0.0,0.0,0.0,0.0,0.0,0.0,0.0,0.0,0.321568627451,0.839215686275,0.121568627451,0.443137254902,0.913725490196,0.996078431373,0.913725490196,0.0,0.0,0.0,0.0,0.0,0.0,0.0,0.0,0.0,0.0,0.0,0.0,0.0,0.0,0.0,0.0,0.0,0.0,0.243137254902,0.4,0.321568627451,0.160784313725,0.992156862745,0.909803921569,0.992156862745,0.988235294118,0.913725490196,0.196078431373,0.0,0.0,0.0,0.0,0.0,0.0,0.0,0.0,0.0,0.0,0.0,0.0,0.0,0.0,0.0,0.0,0.0,0.0,0.596078431373,0.992156862745,0.996078431373,0.992156862745,0.996078431373,0.992156862745,0.996078431373,0.913725490196,0.482352941176,0.0,0.0,0.0,0.0,0.0,0.0,0.0,0.0,0.0,0.0,0.0,0.0,0.0,0.0,0.0,0.0,0.0,0.0,0.0,0.596078431373,0.988235294118,0.992156862745,0.988235294118,0.992156862745,0.988235294118,0.752941176471,0.196078431373,0.0,0.0,0.0,0.0,0.0,0.0,0.0,0.0,0.0,0.0,0.0,0.0,0.0,0.0,0.0,0.0,0.0,0.0,0.0,0.0,0.243137254902,0.717647058824,0.796078431373,0.952941176471,0.996078431373,0.992156862745,0.243137254902,0.0,0.0,0.0,0.0,0.0,0.0,0.0,0.0,0.0,0.0,0.0,0.0,0.0,0.0,0.0,0.0,0.0,0.0,0.0,0.0,0.0,0.0,0.0,0.0,0.156862745098,0.674509803922,0.988235294118,0.796078431373,0.078431372549,0.0,0.0,0.0,0.0,0.0,0.0,0.0,0.0,0.0,0.0,0.0,0.0,0.0,0.0,0.0,0.0823529411765,0.0,0.0,0.0,0.0,0.0,0.0,0.0,0.0,0.0,0.717647058824,0.996078431373,0.439215686275,0.0,0.0,0.0,0.0,0.0,0.0,0.0,0.0,0.0,0.0,0.0,0.0,0.0,0.0,0.243137254902,0.796078431373,0.639215686275,0.0,0.0,0.0,0.0,0.0,0.0,0.0,0.0,0.239215686275,0.992156862745,0.592156862745,0.0,0.0,0.0,0.0,0.0,0.0,0.0,0.0,0.0,0.0,0.0,0.0,0.0,0.0823529411765,0.839215686275,0.752941176471,0.0,0.0,0.0,0.0,0.0,0.0,0.0,0.0,0.043137254902,0.835294117647,0.996078431373,0.592156862745,0.0,0.0,0.0,0.0,0.0,0.0,0.0,0.0,0.0,0.0,0.0,0.0,0.0,0.4,0.992156862745,0.592156862745,0.0,0.0,0.0,0.0,0.0,0.0,0.0,0.160784313725,0.835294117647,0.988235294118,0.992156862745,0.435294117647,0.0,0.0,0.0,0.0,0.0,0.0,0.0,0.0,0.0,0.0,0.0,0.0,0.0,0.160784313725,1.0,0.835294117647,0.360784313725,0.2,0.0,0.0,0.121568627451,0.360784313725,0.678431372549,0.992156862745,0.996078431373,0.992156862745,0.556862745098,0.0,0.0,0.0,0.0,0.0,0.0,0.0,0.0,0.0,0.0,0.0,0.0,0.0,0.0,0.0,0.674509803922,0.988235294118,0.992156862745,0.988235294118,0.796078431373,0.796078431373,0.913725490196,0.988235294118,0.992156862745,0.988235294118,0.992156862745,0.509803921569,0.078431372549,0.0,0.0,0.0,0.0,0.0,0.0,0.0,0.0,0.0,0.0,0.0,0.0,0.0,0.0,0.0,0.0823529411765,0.796078431373,1.0,0.992156862745,0.996078431373,0.992156862745,0.996078431373,0.992156862745,0.956862745098,0.796078431373,0.321568627451,0.0,0.0,0.0,0.0,0.0,0.0,0.0,0.0,0.0,0.0,0.0,0.0,0.0,0.0,0.0,0.0,0.0,0.0,0.078431372549,0.592156862745,0.592156862745,0.992156862745,0.670588235294,0.592156862745,0.592156862745,0.156862745098,0.0,0.0,0.0,0.0,0.0,0.0,0.0,0.0,0.0,0.0,0.0,0.0,0.0,0.0,0.0,0.0,0.0,0.0,0.0,0.0,0.0,0.0,0.0,0.0,0.0,0.0,0.0,0.0,0.0,0.0,0.0,0.0,0.0,0.0,0.0,0.0,0.0,0.0,0.0,0.0,0.0,0.0,0.0,0.0,0.0,0.0,0.0,0.0,0.0,0.0,0.0,0.0,0.0,0.0,0.0,0.0,0.0,0.0,0.0,0.0,0.0,0.0,0.0,0.0,0.0,0.0,0.0,0.0,0.0,0.0,0.0,0.0,0.0,0.0,0.0,0.0,0.0,0.0,0.0,0.0,0.0,0.0,0.0,0.0,0.0,0.0,0.0,0.0,0.0,0.0,0.0,0.0,0.0,0.0,0.0,0.0,0.0,0.0,3\n"
     ]
    }
   ],
   "source": [
    "%%bash\n",
    "gsutil cat \"$OUTPUT_DIR/TRAIN.csv-00000-of-*\" | head -1"
   ]
  },
  {
   "cell_type": "markdown",
   "metadata": {},
   "source": [
    "Source: [training-data-analyst, stable-link (not-master)](https://github.com/GoogleCloudPlatform/training-data-analyst/blob/f3b838007a0e1fb3cc7880ad0343f46678926f36/courses/machine_learning/deepdive/04_advanced_preprocessing/a_dataflow.ipynb) "
   ]
  },
  {
   "cell_type": "markdown",
   "metadata": {},
   "source": [
    "Source: [training-data-analyst, stable-link (not-master)](https://github.com/GoogleCloudPlatform/training-data-analyst/blob/f3b838007a0e1fb3cc7880ad0343f46678926f36/courses/machine_learning/deepdive/04_advanced_preprocessing/a_dataflow.ipynb) "
   ]
  }
 ],
 "metadata": {
  "kernelspec": {
   "display_name": "Python [conda env:env_gcp_dl]",
   "language": "python",
   "name": "conda-env-env_gcp_dl-py"
  },
  "language_info": {
   "codemirror_mode": {
    "name": "ipython",
    "version": 3
   },
   "file_extension": ".py",
   "mimetype": "text/x-python",
   "name": "python",
   "nbconvert_exporter": "python",
   "pygments_lexer": "ipython3",
   "version": "3.6.6"
  },
  "latex_envs": {
   "LaTeX_envs_menu_present": true,
   "autoclose": false,
   "autocomplete": true,
   "bibliofile": "biblio.bib",
   "cite_by": "apalike",
   "current_citInitial": 1,
   "eqLabelWithNumbers": true,
   "eqNumInitial": 1,
   "hotkeys": {
    "equation": "Ctrl-E",
    "itemize": "Ctrl-I"
   },
   "labels_anchors": false,
   "latex_user_defs": false,
   "report_style_numbering": false,
   "user_envs_cfg": false
  },
  "toc": {
   "base_numbering": 1,
   "nav_menu": {},
   "number_sections": true,
   "sideBar": true,
   "skip_h1_title": false,
   "title_cell": "Table of Contents",
   "title_sidebar": "Contents",
   "toc_cell": false,
   "toc_position": {},
   "toc_section_display": true,
   "toc_window_display": false
  }
 },
 "nbformat": 4,
 "nbformat_minor": 2
}
